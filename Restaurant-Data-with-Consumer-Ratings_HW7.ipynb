{
 "cells": [
  {
   "cell_type": "markdown",
   "metadata": {},
   "source": [
    "# Restaurant Data with Consumer Ratings"
   ]
  },
  {
   "cell_type": "markdown",
   "metadata": {},
   "source": [
    "База данных содержит в себе информацию о ресторанах, а именно: \n",
    "• placeID - уникальный ID ресторана \n",
    "• latitude - широта \n",
    "• longitude - долгота \n",
    "• the_geom_meter \n",
    "• name - название ресторана \n",
    "• address - адрес • city - город \n",
    "• state -штат \n",
    "• country - страна \n",
    "• fax - факс \n",
    "• zip - индекс \n",
    "• alcohol - продается ли в заведение алкоголь \n",
    "• smoking_area - возможно ли курить в ресторане \n",
    "• dress_code - каков дресс-код заведения \n",
    "• accessibility - общедоступность \n",
    "• price - уровень цен \n",
    "• url - сайт ресторана \n",
    "• ambience - обстановка \n",
    "• franchise - франшиза \n",
    "• area - тип помещения \n",
    "• other_services - другие услуги"
   ]
  },
  {
   "cell_type": "code",
   "execution_count": 1,
   "metadata": {
    "collapsed": true
   },
   "outputs": [],
   "source": [
    "import numpy as np\n",
    "import matplotlib.pyplot as plt\n",
    "import pandas as pd\n",
    "%matplotlib inline"
   ]
  },
  {
   "cell_type": "code",
   "execution_count": 2,
   "metadata": {
    "collapsed": true
   },
   "outputs": [],
   "source": [
    "data = pd.read_csv('geoplaces2.csv', sep = ',', engine = 'python')"
   ]
  },
  {
   "cell_type": "code",
   "execution_count": 3,
   "metadata": {},
   "outputs": [
    {
     "data": {
      "text/plain": [
       "pandas.core.frame.DataFrame"
      ]
     },
     "execution_count": 3,
     "metadata": {},
     "output_type": "execute_result"
    }
   ],
   "source": [
    "type(data)"
   ]
  },
  {
   "cell_type": "markdown",
   "metadata": {},
   "source": [
    "Выведем всю таблицу данных."
   ]
  },
  {
   "cell_type": "code",
   "execution_count": 4,
   "metadata": {},
   "outputs": [
    {
     "data": {
      "text/html": [
       "<div>\n",
       "<style>\n",
       "    .dataframe thead tr:only-child th {\n",
       "        text-align: right;\n",
       "    }\n",
       "\n",
       "    .dataframe thead th {\n",
       "        text-align: left;\n",
       "    }\n",
       "\n",
       "    .dataframe tbody tr th {\n",
       "        vertical-align: top;\n",
       "    }\n",
       "</style>\n",
       "<table border=\"1\" class=\"dataframe\">\n",
       "  <thead>\n",
       "    <tr style=\"text-align: right;\">\n",
       "      <th></th>\n",
       "      <th>placeID</th>\n",
       "      <th>latitude</th>\n",
       "      <th>longitude</th>\n",
       "      <th>the_geom_meter</th>\n",
       "      <th>name</th>\n",
       "      <th>address</th>\n",
       "      <th>city</th>\n",
       "      <th>state</th>\n",
       "      <th>country</th>\n",
       "      <th>fax</th>\n",
       "      <th>...</th>\n",
       "      <th>alcohol</th>\n",
       "      <th>smoking_area</th>\n",
       "      <th>dress_code</th>\n",
       "      <th>accessibility</th>\n",
       "      <th>price</th>\n",
       "      <th>url</th>\n",
       "      <th>Rambience</th>\n",
       "      <th>franchise</th>\n",
       "      <th>area</th>\n",
       "      <th>other_services</th>\n",
       "    </tr>\n",
       "  </thead>\n",
       "  <tbody>\n",
       "    <tr>\n",
       "      <th>0</th>\n",
       "      <td>134999</td>\n",
       "      <td>18.915421</td>\n",
       "      <td>-99.184871</td>\n",
       "      <td>0101000020957F000088568DE356715AC138C0A525FC46...</td>\n",
       "      <td>Kiku Cuernavaca</td>\n",
       "      <td>Revolucion</td>\n",
       "      <td>Cuernavaca</td>\n",
       "      <td>Morelos</td>\n",
       "      <td>Mexico</td>\n",
       "      <td>?</td>\n",
       "      <td>...</td>\n",
       "      <td>No_Alcohol_Served</td>\n",
       "      <td>none</td>\n",
       "      <td>informal</td>\n",
       "      <td>no_accessibility</td>\n",
       "      <td>medium</td>\n",
       "      <td>kikucuernavaca.com.mx</td>\n",
       "      <td>familiar</td>\n",
       "      <td>f</td>\n",
       "      <td>closed</td>\n",
       "      <td>none</td>\n",
       "    </tr>\n",
       "    <tr>\n",
       "      <th>1</th>\n",
       "      <td>132825</td>\n",
       "      <td>22.147392</td>\n",
       "      <td>-100.983092</td>\n",
       "      <td>0101000020957F00001AD016568C4858C1243261274BA5...</td>\n",
       "      <td>puesto de tacos</td>\n",
       "      <td>esquina santos degollado y leon guzman</td>\n",
       "      <td>s.l.p.</td>\n",
       "      <td>s.l.p.</td>\n",
       "      <td>mexico</td>\n",
       "      <td>?</td>\n",
       "      <td>...</td>\n",
       "      <td>No_Alcohol_Served</td>\n",
       "      <td>none</td>\n",
       "      <td>informal</td>\n",
       "      <td>completely</td>\n",
       "      <td>low</td>\n",
       "      <td>?</td>\n",
       "      <td>familiar</td>\n",
       "      <td>f</td>\n",
       "      <td>open</td>\n",
       "      <td>none</td>\n",
       "    </tr>\n",
       "    <tr>\n",
       "      <th>2</th>\n",
       "      <td>135106</td>\n",
       "      <td>22.149709</td>\n",
       "      <td>-100.976093</td>\n",
       "      <td>0101000020957F0000649D6F21634858C119AE9BF528A3...</td>\n",
       "      <td>El RincпїЅn de San Francisco</td>\n",
       "      <td>Universidad 169</td>\n",
       "      <td>San Luis Potosi</td>\n",
       "      <td>San Luis Potosi</td>\n",
       "      <td>Mexico</td>\n",
       "      <td>?</td>\n",
       "      <td>...</td>\n",
       "      <td>Wine-Beer</td>\n",
       "      <td>only at bar</td>\n",
       "      <td>informal</td>\n",
       "      <td>partially</td>\n",
       "      <td>medium</td>\n",
       "      <td>?</td>\n",
       "      <td>familiar</td>\n",
       "      <td>f</td>\n",
       "      <td>open</td>\n",
       "      <td>none</td>\n",
       "    </tr>\n",
       "    <tr>\n",
       "      <th>3</th>\n",
       "      <td>132667</td>\n",
       "      <td>23.752697</td>\n",
       "      <td>-99.163359</td>\n",
       "      <td>0101000020957F00005D67BCDDED8157C1222A2DC8D84D...</td>\n",
       "      <td>little pizza Emilio Portes Gil</td>\n",
       "      <td>calle emilio portes gil</td>\n",
       "      <td>victoria</td>\n",
       "      <td>tamaulipas</td>\n",
       "      <td>?</td>\n",
       "      <td>?</td>\n",
       "      <td>...</td>\n",
       "      <td>No_Alcohol_Served</td>\n",
       "      <td>none</td>\n",
       "      <td>informal</td>\n",
       "      <td>completely</td>\n",
       "      <td>low</td>\n",
       "      <td>?</td>\n",
       "      <td>familiar</td>\n",
       "      <td>t</td>\n",
       "      <td>closed</td>\n",
       "      <td>none</td>\n",
       "    </tr>\n",
       "    <tr>\n",
       "      <th>4</th>\n",
       "      <td>132613</td>\n",
       "      <td>23.752903</td>\n",
       "      <td>-99.165076</td>\n",
       "      <td>0101000020957F00008EBA2D06DC8157C194E03B7B504E...</td>\n",
       "      <td>carnitas_mata</td>\n",
       "      <td>lic. Emilio portes gil</td>\n",
       "      <td>victoria</td>\n",
       "      <td>Tamaulipas</td>\n",
       "      <td>Mexico</td>\n",
       "      <td>?</td>\n",
       "      <td>...</td>\n",
       "      <td>No_Alcohol_Served</td>\n",
       "      <td>permitted</td>\n",
       "      <td>informal</td>\n",
       "      <td>completely</td>\n",
       "      <td>medium</td>\n",
       "      <td>?</td>\n",
       "      <td>familiar</td>\n",
       "      <td>t</td>\n",
       "      <td>closed</td>\n",
       "      <td>none</td>\n",
       "    </tr>\n",
       "    <tr>\n",
       "      <th>5</th>\n",
       "      <td>135040</td>\n",
       "      <td>22.135617</td>\n",
       "      <td>-100.969709</td>\n",
       "      <td>0101000020957F00001B552189B84A58C15A2AAEFD2CA2...</td>\n",
       "      <td>Restaurant los Compadres</td>\n",
       "      <td>Camino a Simon Diaz 155 Centro</td>\n",
       "      <td>San Luis Potosi</td>\n",
       "      <td>SLP</td>\n",
       "      <td>Mexico</td>\n",
       "      <td>?</td>\n",
       "      <td>...</td>\n",
       "      <td>Wine-Beer</td>\n",
       "      <td>none</td>\n",
       "      <td>informal</td>\n",
       "      <td>no_accessibility</td>\n",
       "      <td>high</td>\n",
       "      <td>?</td>\n",
       "      <td>familiar</td>\n",
       "      <td>f</td>\n",
       "      <td>closed</td>\n",
       "      <td>none</td>\n",
       "    </tr>\n",
       "    <tr>\n",
       "      <th>6</th>\n",
       "      <td>132732</td>\n",
       "      <td>23.754357</td>\n",
       "      <td>-99.171288</td>\n",
       "      <td>0101000020957F00008A20E615808157C16272FECBF84F...</td>\n",
       "      <td>Taqueria EL amigo</td>\n",
       "      <td>Calle Mezquite Fracc Framboyanes</td>\n",
       "      <td>Cd Victoria</td>\n",
       "      <td>Tamaulipas</td>\n",
       "      <td>Mexico</td>\n",
       "      <td>?</td>\n",
       "      <td>...</td>\n",
       "      <td>No_Alcohol_Served</td>\n",
       "      <td>none</td>\n",
       "      <td>casual</td>\n",
       "      <td>completely</td>\n",
       "      <td>low</td>\n",
       "      <td>?</td>\n",
       "      <td>familiar</td>\n",
       "      <td>f</td>\n",
       "      <td>open</td>\n",
       "      <td>none</td>\n",
       "    </tr>\n",
       "    <tr>\n",
       "      <th>7</th>\n",
       "      <td>132875</td>\n",
       "      <td>22.149901</td>\n",
       "      <td>-100.993779</td>\n",
       "      <td>0101000020957F00008A2A0747DE4758C11EB31D2A31A8...</td>\n",
       "      <td>shi ro ie</td>\n",
       "      <td>?</td>\n",
       "      <td>?</td>\n",
       "      <td>?</td>\n",
       "      <td>?</td>\n",
       "      <td>?</td>\n",
       "      <td>...</td>\n",
       "      <td>Wine-Beer</td>\n",
       "      <td>section</td>\n",
       "      <td>informal</td>\n",
       "      <td>no_accessibility</td>\n",
       "      <td>high</td>\n",
       "      <td>?</td>\n",
       "      <td>familiar</td>\n",
       "      <td>t</td>\n",
       "      <td>open</td>\n",
       "      <td>Internet</td>\n",
       "    </tr>\n",
       "    <tr>\n",
       "      <th>8</th>\n",
       "      <td>132609</td>\n",
       "      <td>23.760268</td>\n",
       "      <td>-99.165865</td>\n",
       "      <td>0101000020957F0000A478418BBA8057C133851EB22C4E...</td>\n",
       "      <td>Pollo_Frito_Buenos_Aires</td>\n",
       "      <td>tampico</td>\n",
       "      <td>victoria</td>\n",
       "      <td>Tamaulipas</td>\n",
       "      <td>Mexico</td>\n",
       "      <td>?</td>\n",
       "      <td>...</td>\n",
       "      <td>No_Alcohol_Served</td>\n",
       "      <td>not permitted</td>\n",
       "      <td>informal</td>\n",
       "      <td>completely</td>\n",
       "      <td>low</td>\n",
       "      <td>?</td>\n",
       "      <td>quiet</td>\n",
       "      <td>t</td>\n",
       "      <td>closed</td>\n",
       "      <td>none</td>\n",
       "    </tr>\n",
       "    <tr>\n",
       "      <th>9</th>\n",
       "      <td>135082</td>\n",
       "      <td>22.151448</td>\n",
       "      <td>-100.915099</td>\n",
       "      <td>0101000020957F0000A29FAF95CD4958C1FEEEBB73A991...</td>\n",
       "      <td>la Estrella de Dimas</td>\n",
       "      <td>Villa de Pozos 192 Villa de Pozos</td>\n",
       "      <td>San Luis Potosi</td>\n",
       "      <td>SLP</td>\n",
       "      <td>Mexico</td>\n",
       "      <td>?</td>\n",
       "      <td>...</td>\n",
       "      <td>No_Alcohol_Served</td>\n",
       "      <td>none</td>\n",
       "      <td>informal</td>\n",
       "      <td>no_accessibility</td>\n",
       "      <td>medium</td>\n",
       "      <td>?</td>\n",
       "      <td>familiar</td>\n",
       "      <td>f</td>\n",
       "      <td>closed</td>\n",
       "      <td>none</td>\n",
       "    </tr>\n",
       "    <tr>\n",
       "      <th>10</th>\n",
       "      <td>135070</td>\n",
       "      <td>22.152918</td>\n",
       "      <td>-100.915164</td>\n",
       "      <td>0101000020957F0000ED435B84934958C1B3CF85FA9791...</td>\n",
       "      <td>Restaurante 75</td>\n",
       "      <td>Villa de Pozos 4497 Villa de Pozos</td>\n",
       "      <td>San Luis Potosi</td>\n",
       "      <td>SLP</td>\n",
       "      <td>Mexico</td>\n",
       "      <td>?</td>\n",
       "      <td>...</td>\n",
       "      <td>No_Alcohol_Served</td>\n",
       "      <td>none</td>\n",
       "      <td>informal</td>\n",
       "      <td>no_accessibility</td>\n",
       "      <td>medium</td>\n",
       "      <td>?</td>\n",
       "      <td>familiar</td>\n",
       "      <td>f</td>\n",
       "      <td>closed</td>\n",
       "      <td>none</td>\n",
       "    </tr>\n",
       "    <tr>\n",
       "      <th>11</th>\n",
       "      <td>135069</td>\n",
       "      <td>22.140129</td>\n",
       "      <td>-100.944872</td>\n",
       "      <td>0101000020957F000038E5D546B74A58C18FD29AD0D29A...</td>\n",
       "      <td>Abondance Restaurante Bar</td>\n",
       "      <td>Industrias 908 Valle Dorado</td>\n",
       "      <td>San Luis Potosi</td>\n",
       "      <td>SLP</td>\n",
       "      <td>Mexico</td>\n",
       "      <td>?</td>\n",
       "      <td>...</td>\n",
       "      <td>Wine-Beer</td>\n",
       "      <td>none</td>\n",
       "      <td>informal</td>\n",
       "      <td>no_accessibility</td>\n",
       "      <td>low</td>\n",
       "      <td>?</td>\n",
       "      <td>familiar</td>\n",
       "      <td>f</td>\n",
       "      <td>closed</td>\n",
       "      <td>none</td>\n",
       "    </tr>\n",
       "    <tr>\n",
       "      <th>12</th>\n",
       "      <td>135065</td>\n",
       "      <td>22.149580</td>\n",
       "      <td>-100.999557</td>\n",
       "      <td>0101000020957F000094A6A8E3C14758C17435E6D1DBA9...</td>\n",
       "      <td>El angel Restaurante</td>\n",
       "      <td>Venustiano Carranza 1625 Jardin</td>\n",
       "      <td>San Luis Potosi</td>\n",
       "      <td>SLP</td>\n",
       "      <td>Mexico</td>\n",
       "      <td>?</td>\n",
       "      <td>...</td>\n",
       "      <td>Wine-Beer</td>\n",
       "      <td>section</td>\n",
       "      <td>informal</td>\n",
       "      <td>no_accessibility</td>\n",
       "      <td>high</td>\n",
       "      <td>?</td>\n",
       "      <td>familiar</td>\n",
       "      <td>f</td>\n",
       "      <td>closed</td>\n",
       "      <td>none</td>\n",
       "    </tr>\n",
       "    <tr>\n",
       "      <th>13</th>\n",
       "      <td>135076</td>\n",
       "      <td>22.181017</td>\n",
       "      <td>-100.973614</td>\n",
       "      <td>0101000020957F00005657121FAA4358C1A8030D5598A0...</td>\n",
       "      <td>Restaurante Pueblo Bonito</td>\n",
       "      <td>Mexico 2015 Providencia</td>\n",
       "      <td>San Luis Potosi</td>\n",
       "      <td>SLP</td>\n",
       "      <td>Mexico</td>\n",
       "      <td>?</td>\n",
       "      <td>...</td>\n",
       "      <td>Wine-Beer</td>\n",
       "      <td>none</td>\n",
       "      <td>informal</td>\n",
       "      <td>no_accessibility</td>\n",
       "      <td>high</td>\n",
       "      <td>?</td>\n",
       "      <td>familiar</td>\n",
       "      <td>f</td>\n",
       "      <td>closed</td>\n",
       "      <td>none</td>\n",
       "    </tr>\n",
       "    <tr>\n",
       "      <th>14</th>\n",
       "      <td>135086</td>\n",
       "      <td>22.141421</td>\n",
       "      <td>-101.013955</td>\n",
       "      <td>0101000020957F0000FA1A0E5A9B4858C17C884C4173AE...</td>\n",
       "      <td>Mcdonalds Parque Tangamanga</td>\n",
       "      <td>Lateral Salvador Nava Martinez 3145</td>\n",
       "      <td>San Luis Potosi</td>\n",
       "      <td>SLP</td>\n",
       "      <td>Mexico</td>\n",
       "      <td>?</td>\n",
       "      <td>...</td>\n",
       "      <td>No_Alcohol_Served</td>\n",
       "      <td>not permitted</td>\n",
       "      <td>informal</td>\n",
       "      <td>no_accessibility</td>\n",
       "      <td>medium</td>\n",
       "      <td>?</td>\n",
       "      <td>familiar</td>\n",
       "      <td>t</td>\n",
       "      <td>closed</td>\n",
       "      <td>none</td>\n",
       "    </tr>\n",
       "    <tr>\n",
       "      <th>15</th>\n",
       "      <td>132870</td>\n",
       "      <td>22.143078</td>\n",
       "      <td>-100.935479</td>\n",
       "      <td>0101000020957F0000550FC1FC854A58C16D7D4E35F897...</td>\n",
       "      <td>Tortas y hamburguesas el gordo</td>\n",
       "      <td>Ricardo B. Anaya</td>\n",
       "      <td>San Luis Potosi</td>\n",
       "      <td>San Luis Potosi</td>\n",
       "      <td>Mexico</td>\n",
       "      <td>?</td>\n",
       "      <td>...</td>\n",
       "      <td>No_Alcohol_Served</td>\n",
       "      <td>not permitted</td>\n",
       "      <td>informal</td>\n",
       "      <td>no_accessibility</td>\n",
       "      <td>low</td>\n",
       "      <td>?</td>\n",
       "      <td>familiar</td>\n",
       "      <td>f</td>\n",
       "      <td>closed</td>\n",
       "      <td>none</td>\n",
       "    </tr>\n",
       "    <tr>\n",
       "      <th>16</th>\n",
       "      <td>132854</td>\n",
       "      <td>22.137863</td>\n",
       "      <td>-100.938327</td>\n",
       "      <td>0101000020957F0000FEC3FB453E4B58C19B4A46361799...</td>\n",
       "      <td>Sirlone</td>\n",
       "      <td>carr. mexico</td>\n",
       "      <td>San Luis Potosi</td>\n",
       "      <td>San Luis Potosi</td>\n",
       "      <td>Mexico</td>\n",
       "      <td>?</td>\n",
       "      <td>...</td>\n",
       "      <td>Wine-Beer</td>\n",
       "      <td>none</td>\n",
       "      <td>informal</td>\n",
       "      <td>completely</td>\n",
       "      <td>medium</td>\n",
       "      <td>?</td>\n",
       "      <td>familiar</td>\n",
       "      <td>f</td>\n",
       "      <td>closed</td>\n",
       "      <td>none</td>\n",
       "    </tr>\n",
       "    <tr>\n",
       "      <th>17</th>\n",
       "      <td>132937</td>\n",
       "      <td>22.150019</td>\n",
       "      <td>-100.979920</td>\n",
       "      <td>0101000020957F0000F9F19DDC3B4858C191B265A83BA4...</td>\n",
       "      <td>rockabilly</td>\n",
       "      <td>agustin de iturbide</td>\n",
       "      <td>san luis potosi</td>\n",
       "      <td>san luis potosi</td>\n",
       "      <td>mexico</td>\n",
       "      <td>?</td>\n",
       "      <td>...</td>\n",
       "      <td>Full_Bar</td>\n",
       "      <td>section</td>\n",
       "      <td>informal</td>\n",
       "      <td>completely</td>\n",
       "      <td>low</td>\n",
       "      <td>?</td>\n",
       "      <td>quiet</td>\n",
       "      <td>f</td>\n",
       "      <td>closed</td>\n",
       "      <td>variety</td>\n",
       "    </tr>\n",
       "    <tr>\n",
       "      <th>18</th>\n",
       "      <td>132856</td>\n",
       "      <td>22.151378</td>\n",
       "      <td>-100.974634</td>\n",
       "      <td>0101000020957F0000C1B7D30B2C4858C1CE557111A5A2...</td>\n",
       "      <td>Unicols Pizza</td>\n",
       "      <td>Plaza del Carmen</td>\n",
       "      <td>San Luis Potosi</td>\n",
       "      <td>San Luis Potosi</td>\n",
       "      <td>Mexico</td>\n",
       "      <td>?</td>\n",
       "      <td>...</td>\n",
       "      <td>Wine-Beer</td>\n",
       "      <td>none</td>\n",
       "      <td>informal</td>\n",
       "      <td>completely</td>\n",
       "      <td>low</td>\n",
       "      <td>?</td>\n",
       "      <td>familiar</td>\n",
       "      <td>f</td>\n",
       "      <td>closed</td>\n",
       "      <td>none</td>\n",
       "    </tr>\n",
       "    <tr>\n",
       "      <th>19</th>\n",
       "      <td>132668</td>\n",
       "      <td>23.738212</td>\n",
       "      <td>-99.151955</td>\n",
       "      <td>0101000020957F000003B195E25F8457C1C535BD04614B...</td>\n",
       "      <td>TACOS EL GUERO</td>\n",
       "      <td>?</td>\n",
       "      <td>victoria</td>\n",
       "      <td>tamaulipas</td>\n",
       "      <td>mexico</td>\n",
       "      <td>?</td>\n",
       "      <td>...</td>\n",
       "      <td>No_Alcohol_Served</td>\n",
       "      <td>none</td>\n",
       "      <td>informal</td>\n",
       "      <td>completely</td>\n",
       "      <td>low</td>\n",
       "      <td>?</td>\n",
       "      <td>familiar</td>\n",
       "      <td>f</td>\n",
       "      <td>closed</td>\n",
       "      <td>none</td>\n",
       "    </tr>\n",
       "    <tr>\n",
       "      <th>20</th>\n",
       "      <td>135033</td>\n",
       "      <td>22.141610</td>\n",
       "      <td>-100.973142</td>\n",
       "      <td>0101000020957F00000F624C60B54958C11757339BCCA2...</td>\n",
       "      <td>Restaurant El Muladar de Calzada</td>\n",
       "      <td>De Guadalupe 460 San Miguelito</td>\n",
       "      <td>San Luis Potosi</td>\n",
       "      <td>SLP</td>\n",
       "      <td>Mexico</td>\n",
       "      <td>?</td>\n",
       "      <td>...</td>\n",
       "      <td>No_Alcohol_Served</td>\n",
       "      <td>section</td>\n",
       "      <td>informal</td>\n",
       "      <td>no_accessibility</td>\n",
       "      <td>medium</td>\n",
       "      <td>?</td>\n",
       "      <td>familiar</td>\n",
       "      <td>f</td>\n",
       "      <td>closed</td>\n",
       "      <td>none</td>\n",
       "    </tr>\n",
       "    <tr>\n",
       "      <th>21</th>\n",
       "      <td>132862</td>\n",
       "      <td>22.150643</td>\n",
       "      <td>-100.987015</td>\n",
       "      <td>0101000020957F0000AF95272CF14758C165B2F91238A6...</td>\n",
       "      <td>La Posada del Virrey</td>\n",
       "      <td>Av. V. Carranza</td>\n",
       "      <td>San Luis Potosi</td>\n",
       "      <td>San Luis Potosi</td>\n",
       "      <td>Mexico</td>\n",
       "      <td>?</td>\n",
       "      <td>...</td>\n",
       "      <td>Wine-Beer</td>\n",
       "      <td>none</td>\n",
       "      <td>casual</td>\n",
       "      <td>completely</td>\n",
       "      <td>high</td>\n",
       "      <td>?</td>\n",
       "      <td>familiar</td>\n",
       "      <td>f</td>\n",
       "      <td>closed</td>\n",
       "      <td>none</td>\n",
       "    </tr>\n",
       "    <tr>\n",
       "      <th>22</th>\n",
       "      <td>134983</td>\n",
       "      <td>18.948657</td>\n",
       "      <td>-99.235361</td>\n",
       "      <td>0101000020957F0000DEF36F4FC76A5AC162B083D9A054...</td>\n",
       "      <td>Restaurant and Bar and Clothesline Carlos N Ch...</td>\n",
       "      <td>Domingo 10 711 El Empleado</td>\n",
       "      <td>Cuernavaca</td>\n",
       "      <td>Morelos</td>\n",
       "      <td>Mexico</td>\n",
       "      <td>?</td>\n",
       "      <td>...</td>\n",
       "      <td>Full_Bar</td>\n",
       "      <td>section</td>\n",
       "      <td>informal</td>\n",
       "      <td>no_accessibility</td>\n",
       "      <td>high</td>\n",
       "      <td>carlosandcharlies.com</td>\n",
       "      <td>familiar</td>\n",
       "      <td>f</td>\n",
       "      <td>closed</td>\n",
       "      <td>none</td>\n",
       "    </tr>\n",
       "    <tr>\n",
       "      <th>23</th>\n",
       "      <td>132851</td>\n",
       "      <td>22.136872</td>\n",
       "      <td>-100.934574</td>\n",
       "      <td>0101000020957F0000C74DE39C7F4B58C1061F29171498...</td>\n",
       "      <td>KFC</td>\n",
       "      <td>?</td>\n",
       "      <td>San Luis Potosi</td>\n",
       "      <td>San Luis Potosi</td>\n",
       "      <td>Mexico</td>\n",
       "      <td>?</td>\n",
       "      <td>...</td>\n",
       "      <td>No_Alcohol_Served</td>\n",
       "      <td>not permitted</td>\n",
       "      <td>informal</td>\n",
       "      <td>completely</td>\n",
       "      <td>low</td>\n",
       "      <td>?</td>\n",
       "      <td>familiar</td>\n",
       "      <td>f</td>\n",
       "      <td>closed</td>\n",
       "      <td>none</td>\n",
       "    </tr>\n",
       "    <tr>\n",
       "      <th>24</th>\n",
       "      <td>135013</td>\n",
       "      <td>18.917441</td>\n",
       "      <td>-99.165945</td>\n",
       "      <td>0101000020957F0000D241E94E7B715AC119862B3B1E41...</td>\n",
       "      <td>Giovannis</td>\n",
       "      <td>40 Norte Civac 1RA. Seccion</td>\n",
       "      <td>Jiutepec</td>\n",
       "      <td>Morelos</td>\n",
       "      <td>Mexico</td>\n",
       "      <td>?</td>\n",
       "      <td>...</td>\n",
       "      <td>No_Alcohol_Served</td>\n",
       "      <td>none</td>\n",
       "      <td>informal</td>\n",
       "      <td>no_accessibility</td>\n",
       "      <td>low</td>\n",
       "      <td>?</td>\n",
       "      <td>familiar</td>\n",
       "      <td>f</td>\n",
       "      <td>closed</td>\n",
       "      <td>none</td>\n",
       "    </tr>\n",
       "    <tr>\n",
       "      <th>25</th>\n",
       "      <td>135042</td>\n",
       "      <td>22.159357</td>\n",
       "      <td>-100.973411</td>\n",
       "      <td>0101000020957F0000C66BB014FC4658C17CFE8D93D2A1...</td>\n",
       "      <td>Restaurant Oriental Express</td>\n",
       "      <td>Tangamanga 7 Tangamanga</td>\n",
       "      <td>San Luis Potosi</td>\n",
       "      <td>SLP</td>\n",
       "      <td>Mexico</td>\n",
       "      <td>?</td>\n",
       "      <td>...</td>\n",
       "      <td>No_Alcohol_Served</td>\n",
       "      <td>none</td>\n",
       "      <td>informal</td>\n",
       "      <td>no_accessibility</td>\n",
       "      <td>medium</td>\n",
       "      <td>?</td>\n",
       "      <td>familiar</td>\n",
       "      <td>f</td>\n",
       "      <td>closed</td>\n",
       "      <td>none</td>\n",
       "    </tr>\n",
       "    <tr>\n",
       "      <th>26</th>\n",
       "      <td>132768</td>\n",
       "      <td>18.925773</td>\n",
       "      <td>-99.232636</td>\n",
       "      <td>0101000020957F000000DD3546816E5AC119D4BD17FD54...</td>\n",
       "      <td>Mariscos Tia Licha</td>\n",
       "      <td>avenida salvador montiel</td>\n",
       "      <td>cuernavaca</td>\n",
       "      <td>morelos</td>\n",
       "      <td>mexico</td>\n",
       "      <td>?</td>\n",
       "      <td>...</td>\n",
       "      <td>No_Alcohol_Served</td>\n",
       "      <td>not permitted</td>\n",
       "      <td>casual</td>\n",
       "      <td>partially</td>\n",
       "      <td>medium</td>\n",
       "      <td>?</td>\n",
       "      <td>familiar</td>\n",
       "      <td>t</td>\n",
       "      <td>closed</td>\n",
       "      <td>none</td>\n",
       "    </tr>\n",
       "    <tr>\n",
       "      <th>27</th>\n",
       "      <td>132561</td>\n",
       "      <td>23.726819</td>\n",
       "      <td>-99.126506</td>\n",
       "      <td>0101000020957F000004457BB7AA8657C15F10835CD944...</td>\n",
       "      <td>cafe ambar</td>\n",
       "      <td>?</td>\n",
       "      <td>?</td>\n",
       "      <td>?</td>\n",
       "      <td>?</td>\n",
       "      <td>?</td>\n",
       "      <td>...</td>\n",
       "      <td>No_Alcohol_Served</td>\n",
       "      <td>none</td>\n",
       "      <td>informal</td>\n",
       "      <td>completely</td>\n",
       "      <td>low</td>\n",
       "      <td>?</td>\n",
       "      <td>familiar</td>\n",
       "      <td>f</td>\n",
       "      <td>closed</td>\n",
       "      <td>none</td>\n",
       "    </tr>\n",
       "    <tr>\n",
       "      <th>28</th>\n",
       "      <td>135045</td>\n",
       "      <td>22.151189</td>\n",
       "      <td>-100.981790</td>\n",
       "      <td>0101000020957F00000B6735CA004858C108FD525CB2A4...</td>\n",
       "      <td>Restaurante la Gran Via</td>\n",
       "      <td>Venustiano Carranza 560 Centro</td>\n",
       "      <td>San Luis Potosi</td>\n",
       "      <td>SLP</td>\n",
       "      <td>Mexico</td>\n",
       "      <td>?</td>\n",
       "      <td>...</td>\n",
       "      <td>Wine-Beer</td>\n",
       "      <td>none</td>\n",
       "      <td>casual</td>\n",
       "      <td>no_accessibility</td>\n",
       "      <td>high</td>\n",
       "      <td>lagranvia.com.mx</td>\n",
       "      <td>familiar</td>\n",
       "      <td>f</td>\n",
       "      <td>closed</td>\n",
       "      <td>none</td>\n",
       "    </tr>\n",
       "    <tr>\n",
       "      <th>29</th>\n",
       "      <td>132847</td>\n",
       "      <td>22.144336</td>\n",
       "      <td>-100.937382</td>\n",
       "      <td>0101000020957F00004717A23D474A58C17D1F10297098...</td>\n",
       "      <td>don burguers</td>\n",
       "      <td>r.b. anaya esq. florencia</td>\n",
       "      <td>slp</td>\n",
       "      <td>slp</td>\n",
       "      <td>mexico</td>\n",
       "      <td>?</td>\n",
       "      <td>...</td>\n",
       "      <td>No_Alcohol_Served</td>\n",
       "      <td>none</td>\n",
       "      <td>informal</td>\n",
       "      <td>no_accessibility</td>\n",
       "      <td>low</td>\n",
       "      <td>?</td>\n",
       "      <td>familiar</td>\n",
       "      <td>f</td>\n",
       "      <td>open</td>\n",
       "      <td>none</td>\n",
       "    </tr>\n",
       "    <tr>\n",
       "      <th>...</th>\n",
       "      <td>...</td>\n",
       "      <td>...</td>\n",
       "      <td>...</td>\n",
       "      <td>...</td>\n",
       "      <td>...</td>\n",
       "      <td>...</td>\n",
       "      <td>...</td>\n",
       "      <td>...</td>\n",
       "      <td>...</td>\n",
       "      <td>...</td>\n",
       "      <td>...</td>\n",
       "      <td>...</td>\n",
       "      <td>...</td>\n",
       "      <td>...</td>\n",
       "      <td>...</td>\n",
       "      <td>...</td>\n",
       "      <td>...</td>\n",
       "      <td>...</td>\n",
       "      <td>...</td>\n",
       "      <td>...</td>\n",
       "      <td>...</td>\n",
       "    </tr>\n",
       "    <tr>\n",
       "      <th>100</th>\n",
       "      <td>134996</td>\n",
       "      <td>18.923429</td>\n",
       "      <td>-99.216413</td>\n",
       "      <td>0101000020957F0000340233E7476F5AC132844E2A2C50...</td>\n",
       "      <td>Sanborns Casa Piedra</td>\n",
       "      <td>Lomas del Mirador</td>\n",
       "      <td>Cuernavaca</td>\n",
       "      <td>Morelos</td>\n",
       "      <td>Mexico</td>\n",
       "      <td>?</td>\n",
       "      <td>...</td>\n",
       "      <td>Wine-Beer</td>\n",
       "      <td>only at bar</td>\n",
       "      <td>informal</td>\n",
       "      <td>no_accessibility</td>\n",
       "      <td>medium</td>\n",
       "      <td>?</td>\n",
       "      <td>familiar</td>\n",
       "      <td>t</td>\n",
       "      <td>closed</td>\n",
       "      <td>Internet</td>\n",
       "    </tr>\n",
       "    <tr>\n",
       "      <th>101</th>\n",
       "      <td>132755</td>\n",
       "      <td>22.153324</td>\n",
       "      <td>-101.019546</td>\n",
       "      <td>0101000020957F000026CADE45A14658C1F011EBCA55AF...</td>\n",
       "      <td>La Estrella de Dimas</td>\n",
       "      <td>Av. de los Pintores</td>\n",
       "      <td>San Luis Potosi</td>\n",
       "      <td>S.L.P.</td>\n",
       "      <td>Mexico</td>\n",
       "      <td>?</td>\n",
       "      <td>...</td>\n",
       "      <td>No_Alcohol_Served</td>\n",
       "      <td>none</td>\n",
       "      <td>informal</td>\n",
       "      <td>partially</td>\n",
       "      <td>medium</td>\n",
       "      <td>?</td>\n",
       "      <td>familiar</td>\n",
       "      <td>f</td>\n",
       "      <td>closed</td>\n",
       "      <td>variety</td>\n",
       "    </tr>\n",
       "    <tr>\n",
       "      <th>102</th>\n",
       "      <td>135043</td>\n",
       "      <td>22.185756</td>\n",
       "      <td>-100.944518</td>\n",
       "      <td>0101000020957F00006B9D7207BE4358C12419118D0598...</td>\n",
       "      <td>pizza clasica</td>\n",
       "      <td>524 Soledad de Graciano Sanchez</td>\n",
       "      <td>Soledad</td>\n",
       "      <td>SLP</td>\n",
       "      <td>Mexico</td>\n",
       "      <td>?</td>\n",
       "      <td>...</td>\n",
       "      <td>No_Alcohol_Served</td>\n",
       "      <td>none</td>\n",
       "      <td>informal</td>\n",
       "      <td>no_accessibility</td>\n",
       "      <td>medium</td>\n",
       "      <td>?</td>\n",
       "      <td>familiar</td>\n",
       "      <td>f</td>\n",
       "      <td>closed</td>\n",
       "      <td>none</td>\n",
       "    </tr>\n",
       "    <tr>\n",
       "      <th>103</th>\n",
       "      <td>132654</td>\n",
       "      <td>23.735523</td>\n",
       "      <td>-99.129588</td>\n",
       "      <td>0101000020957F000040E8F628488557C18224E8B94845...</td>\n",
       "      <td>Carnitas Mata  Calle 16 de Septiembre</td>\n",
       "      <td>16 de Septiembre</td>\n",
       "      <td>victoria</td>\n",
       "      <td>tamaulipas</td>\n",
       "      <td>?</td>\n",
       "      <td>?</td>\n",
       "      <td>...</td>\n",
       "      <td>No_Alcohol_Served</td>\n",
       "      <td>none</td>\n",
       "      <td>informal</td>\n",
       "      <td>completely</td>\n",
       "      <td>low</td>\n",
       "      <td>?</td>\n",
       "      <td>familiar</td>\n",
       "      <td>f</td>\n",
       "      <td>closed</td>\n",
       "      <td>none</td>\n",
       "    </tr>\n",
       "    <tr>\n",
       "      <th>104</th>\n",
       "      <td>135049</td>\n",
       "      <td>22.135011</td>\n",
       "      <td>-101.028600</td>\n",
       "      <td>0101000020957F00005DAD35642E4958C11BBCDE4A02B3...</td>\n",
       "      <td>Restaurante de Mariscos la Langosta</td>\n",
       "      <td>Cordillera de Los Alpes 675 Loma Verde</td>\n",
       "      <td>San Luis Potosi</td>\n",
       "      <td>SLP</td>\n",
       "      <td>Mexico</td>\n",
       "      <td>?</td>\n",
       "      <td>...</td>\n",
       "      <td>No_Alcohol_Served</td>\n",
       "      <td>none</td>\n",
       "      <td>informal</td>\n",
       "      <td>no_accessibility</td>\n",
       "      <td>medium</td>\n",
       "      <td>?</td>\n",
       "      <td>familiar</td>\n",
       "      <td>f</td>\n",
       "      <td>closed</td>\n",
       "      <td>none</td>\n",
       "    </tr>\n",
       "    <tr>\n",
       "      <th>105</th>\n",
       "      <td>135073</td>\n",
       "      <td>22.147175</td>\n",
       "      <td>-100.974269</td>\n",
       "      <td>0101000020957F0000D010A853D34858C116A1EA51CAA2...</td>\n",
       "      <td>Restaurante Bar El Gallinero</td>\n",
       "      <td>Pascual M. Hernandez 210 Centro</td>\n",
       "      <td>San Luis Potosi</td>\n",
       "      <td>SLP</td>\n",
       "      <td>Mexico</td>\n",
       "      <td>?</td>\n",
       "      <td>...</td>\n",
       "      <td>Wine-Beer</td>\n",
       "      <td>section</td>\n",
       "      <td>informal</td>\n",
       "      <td>no_accessibility</td>\n",
       "      <td>high</td>\n",
       "      <td>?</td>\n",
       "      <td>familiar</td>\n",
       "      <td>f</td>\n",
       "      <td>closed</td>\n",
       "      <td>none</td>\n",
       "    </tr>\n",
       "    <tr>\n",
       "      <th>106</th>\n",
       "      <td>132560</td>\n",
       "      <td>23.752304</td>\n",
       "      <td>-99.166913</td>\n",
       "      <td>0101000020957F0000FC60BDA8E88157C1B2C357D6DA4E...</td>\n",
       "      <td>puesto de gorditas</td>\n",
       "      <td>frente al tecnologico</td>\n",
       "      <td>victoria</td>\n",
       "      <td>tamaulipas</td>\n",
       "      <td>mexico</td>\n",
       "      <td>?</td>\n",
       "      <td>...</td>\n",
       "      <td>No_Alcohol_Served</td>\n",
       "      <td>permitted</td>\n",
       "      <td>informal</td>\n",
       "      <td>no_accessibility</td>\n",
       "      <td>low</td>\n",
       "      <td>?</td>\n",
       "      <td>familiar</td>\n",
       "      <td>f</td>\n",
       "      <td>open</td>\n",
       "      <td>none</td>\n",
       "    </tr>\n",
       "    <tr>\n",
       "      <th>107</th>\n",
       "      <td>134976</td>\n",
       "      <td>18.916654</td>\n",
       "      <td>-99.227110</td>\n",
       "      <td>0101000020957F00002838E29F19705AC1BC368BDAC753...</td>\n",
       "      <td>Log Yin</td>\n",
       "      <td>?</td>\n",
       "      <td>?</td>\n",
       "      <td>?</td>\n",
       "      <td>?</td>\n",
       "      <td>?</td>\n",
       "      <td>...</td>\n",
       "      <td>No_Alcohol_Served</td>\n",
       "      <td>none</td>\n",
       "      <td>informal</td>\n",
       "      <td>no_accessibility</td>\n",
       "      <td>low</td>\n",
       "      <td>?</td>\n",
       "      <td>familiar</td>\n",
       "      <td>f</td>\n",
       "      <td>closed</td>\n",
       "      <td>none</td>\n",
       "    </tr>\n",
       "    <tr>\n",
       "      <th>108</th>\n",
       "      <td>135075</td>\n",
       "      <td>22.139573</td>\n",
       "      <td>-100.991564</td>\n",
       "      <td>0101000020957F0000332AE8AF824958C15A4195A82CA8...</td>\n",
       "      <td>Mariscos El Pescador</td>\n",
       "      <td>Himno Nacional 2104 Tangamanga</td>\n",
       "      <td>San Luis Potosi</td>\n",
       "      <td>SLP</td>\n",
       "      <td>Mexico</td>\n",
       "      <td>?</td>\n",
       "      <td>...</td>\n",
       "      <td>No_Alcohol_Served</td>\n",
       "      <td>none</td>\n",
       "      <td>informal</td>\n",
       "      <td>no_accessibility</td>\n",
       "      <td>medium</td>\n",
       "      <td>?</td>\n",
       "      <td>familiar</td>\n",
       "      <td>f</td>\n",
       "      <td>closed</td>\n",
       "      <td>none</td>\n",
       "    </tr>\n",
       "    <tr>\n",
       "      <th>109</th>\n",
       "      <td>132660</td>\n",
       "      <td>23.752943</td>\n",
       "      <td>-99.164679</td>\n",
       "      <td>0101000020957F00003D7905C9DC8157C13FCD1AB7334E...</td>\n",
       "      <td>carnitas mata calle Emilio Portes Gil</td>\n",
       "      <td>Emilio Portes Gil</td>\n",
       "      <td>victoria</td>\n",
       "      <td>tamaulipas</td>\n",
       "      <td>?</td>\n",
       "      <td>?</td>\n",
       "      <td>...</td>\n",
       "      <td>No_Alcohol_Served</td>\n",
       "      <td>none</td>\n",
       "      <td>informal</td>\n",
       "      <td>completely</td>\n",
       "      <td>low</td>\n",
       "      <td>?</td>\n",
       "      <td>familiar</td>\n",
       "      <td>f</td>\n",
       "      <td>closed</td>\n",
       "      <td>none</td>\n",
       "    </tr>\n",
       "    <tr>\n",
       "      <th>110</th>\n",
       "      <td>132921</td>\n",
       "      <td>22.150305</td>\n",
       "      <td>-100.989134</td>\n",
       "      <td>0101000020957F00006376BB64EF4758C1013687E5D7A6...</td>\n",
       "      <td>crudalia</td>\n",
       "      <td>?</td>\n",
       "      <td>?</td>\n",
       "      <td>?</td>\n",
       "      <td>?</td>\n",
       "      <td>?</td>\n",
       "      <td>...</td>\n",
       "      <td>Wine-Beer</td>\n",
       "      <td>section</td>\n",
       "      <td>casual</td>\n",
       "      <td>completely</td>\n",
       "      <td>low</td>\n",
       "      <td>?</td>\n",
       "      <td>quiet</td>\n",
       "      <td>f</td>\n",
       "      <td>open</td>\n",
       "      <td>none</td>\n",
       "    </tr>\n",
       "    <tr>\n",
       "      <th>111</th>\n",
       "      <td>132594</td>\n",
       "      <td>23.752168</td>\n",
       "      <td>-99.165709</td>\n",
       "      <td>0101000020957F00003AE4C6DBF48157C1CE38ECC1864E...</td>\n",
       "      <td>tacos de barbacoa enfrente del Tec</td>\n",
       "      <td>?</td>\n",
       "      <td>?</td>\n",
       "      <td>?</td>\n",
       "      <td>?</td>\n",
       "      <td>?</td>\n",
       "      <td>...</td>\n",
       "      <td>No_Alcohol_Served</td>\n",
       "      <td>not permitted</td>\n",
       "      <td>informal</td>\n",
       "      <td>completely</td>\n",
       "      <td>low</td>\n",
       "      <td>?</td>\n",
       "      <td>familiar</td>\n",
       "      <td>f</td>\n",
       "      <td>open</td>\n",
       "      <td>none</td>\n",
       "    </tr>\n",
       "    <tr>\n",
       "      <th>112</th>\n",
       "      <td>134986</td>\n",
       "      <td>18.928798</td>\n",
       "      <td>-99.239513</td>\n",
       "      <td>0101000020957F00002A0D05E2D96D5AC1AB058CB1EC56...</td>\n",
       "      <td>Restaurant Las Mananitas</td>\n",
       "      <td>Ricardo Linares 107</td>\n",
       "      <td>Cuernavaca</td>\n",
       "      <td>Morelos</td>\n",
       "      <td>Mexico</td>\n",
       "      <td>?</td>\n",
       "      <td>...</td>\n",
       "      <td>Wine-Beer</td>\n",
       "      <td>none</td>\n",
       "      <td>formal</td>\n",
       "      <td>no_accessibility</td>\n",
       "      <td>high</td>\n",
       "      <td>lasmananitas.com.mx</td>\n",
       "      <td>familiar</td>\n",
       "      <td>f</td>\n",
       "      <td>closed</td>\n",
       "      <td>none</td>\n",
       "    </tr>\n",
       "    <tr>\n",
       "      <th>113</th>\n",
       "      <td>135062</td>\n",
       "      <td>22.153703</td>\n",
       "      <td>-100.979033</td>\n",
       "      <td>0101000020957F0000D177B9CFB14758C162A211E1C2A3...</td>\n",
       "      <td>Restaurante El Cielo Potosino</td>\n",
       "      <td>Julian de Los Reyes 400 Centro</td>\n",
       "      <td>San Luis Potosi</td>\n",
       "      <td>SLP</td>\n",
       "      <td>Mexico</td>\n",
       "      <td>?</td>\n",
       "      <td>...</td>\n",
       "      <td>No_Alcohol_Served</td>\n",
       "      <td>none</td>\n",
       "      <td>informal</td>\n",
       "      <td>no_accessibility</td>\n",
       "      <td>medium</td>\n",
       "      <td>?</td>\n",
       "      <td>familiar</td>\n",
       "      <td>f</td>\n",
       "      <td>closed</td>\n",
       "      <td>none</td>\n",
       "    </tr>\n",
       "    <tr>\n",
       "      <th>114</th>\n",
       "      <td>132766</td>\n",
       "      <td>18.910178</td>\n",
       "      <td>-99.231544</td>\n",
       "      <td>0101000020957F000043A319BA06715AC1944336987755...</td>\n",
       "      <td>Mikasa</td>\n",
       "      <td>Himno nacional esq. Blvd. Juarez</td>\n",
       "      <td>Cuernavaca</td>\n",
       "      <td>Morelos</td>\n",
       "      <td>Mexico</td>\n",
       "      <td>?</td>\n",
       "      <td>...</td>\n",
       "      <td>Wine-Beer</td>\n",
       "      <td>none</td>\n",
       "      <td>informal</td>\n",
       "      <td>no_accessibility</td>\n",
       "      <td>medium</td>\n",
       "      <td>?</td>\n",
       "      <td>familiar</td>\n",
       "      <td>f</td>\n",
       "      <td>closed</td>\n",
       "      <td>none</td>\n",
       "    </tr>\n",
       "    <tr>\n",
       "      <th>115</th>\n",
       "      <td>135088</td>\n",
       "      <td>18.876011</td>\n",
       "      <td>-99.219890</td>\n",
       "      <td>0101000020957F0000E14AD4DBC7765AC1F7B33C85B153...</td>\n",
       "      <td>Cafeteria cenidet</td>\n",
       "      <td>Interior Internado Palmira SN</td>\n",
       "      <td>Cuernavaca</td>\n",
       "      <td>Morelos</td>\n",
       "      <td>Mexico</td>\n",
       "      <td>?</td>\n",
       "      <td>...</td>\n",
       "      <td>No_Alcohol_Served</td>\n",
       "      <td>not permitted</td>\n",
       "      <td>informal</td>\n",
       "      <td>no_accessibility</td>\n",
       "      <td>low</td>\n",
       "      <td>www.cenidet.edu.mx</td>\n",
       "      <td>quiet</td>\n",
       "      <td>f</td>\n",
       "      <td>closed</td>\n",
       "      <td>none</td>\n",
       "    </tr>\n",
       "    <tr>\n",
       "      <th>116</th>\n",
       "      <td>135058</td>\n",
       "      <td>22.165587</td>\n",
       "      <td>-101.001273</td>\n",
       "      <td>0101000020957F0000EB71019D424558C15CC5404365A9...</td>\n",
       "      <td>Restaurante Tiberius</td>\n",
       "      <td>Munoz Sn Centro</td>\n",
       "      <td>San Luis Potosi</td>\n",
       "      <td>SLP</td>\n",
       "      <td>Mexico</td>\n",
       "      <td>?</td>\n",
       "      <td>...</td>\n",
       "      <td>No_Alcohol_Served</td>\n",
       "      <td>none</td>\n",
       "      <td>informal</td>\n",
       "      <td>no_accessibility</td>\n",
       "      <td>medium</td>\n",
       "      <td>?</td>\n",
       "      <td>familiar</td>\n",
       "      <td>t</td>\n",
       "      <td>closed</td>\n",
       "      <td>none</td>\n",
       "    </tr>\n",
       "    <tr>\n",
       "      <th>117</th>\n",
       "      <td>132754</td>\n",
       "      <td>22.147738</td>\n",
       "      <td>-100.990616</td>\n",
       "      <td>0101000020957F00002493B678494858C1AD55D2316BA7...</td>\n",
       "      <td>Cabana Huasteca</td>\n",
       "      <td>Cuauhtemoc 455</td>\n",
       "      <td>San Luis Potosi</td>\n",
       "      <td>S.L.P.</td>\n",
       "      <td>Mexico</td>\n",
       "      <td>?</td>\n",
       "      <td>...</td>\n",
       "      <td>No_Alcohol_Served</td>\n",
       "      <td>none</td>\n",
       "      <td>informal</td>\n",
       "      <td>partially</td>\n",
       "      <td>medium</td>\n",
       "      <td>?</td>\n",
       "      <td>familiar</td>\n",
       "      <td>f</td>\n",
       "      <td>closed</td>\n",
       "      <td>none</td>\n",
       "    </tr>\n",
       "    <tr>\n",
       "      <th>118</th>\n",
       "      <td>132584</td>\n",
       "      <td>23.752365</td>\n",
       "      <td>-99.165288</td>\n",
       "      <td>0101000020957F000048C65BA7EF8157C177F2344D664E...</td>\n",
       "      <td>Gorditas Dona Tota</td>\n",
       "      <td>?</td>\n",
       "      <td>?</td>\n",
       "      <td>?</td>\n",
       "      <td>?</td>\n",
       "      <td>?</td>\n",
       "      <td>...</td>\n",
       "      <td>No_Alcohol_Served</td>\n",
       "      <td>not permitted</td>\n",
       "      <td>informal</td>\n",
       "      <td>completely</td>\n",
       "      <td>medium</td>\n",
       "      <td>?</td>\n",
       "      <td>familiar</td>\n",
       "      <td>t</td>\n",
       "      <td>closed</td>\n",
       "      <td>none</td>\n",
       "    </tr>\n",
       "    <tr>\n",
       "      <th>119</th>\n",
       "      <td>135032</td>\n",
       "      <td>22.152481</td>\n",
       "      <td>-100.973486</td>\n",
       "      <td>0101000020957F000017D69FF5084858C1A8F2188740A2...</td>\n",
       "      <td>Cafeteria y Restaurant El Pacifico</td>\n",
       "      <td>Constitucion 200 Centro</td>\n",
       "      <td>San Luis Potosi</td>\n",
       "      <td>SLP</td>\n",
       "      <td>Mexico</td>\n",
       "      <td>?</td>\n",
       "      <td>...</td>\n",
       "      <td>Wine-Beer</td>\n",
       "      <td>section</td>\n",
       "      <td>informal</td>\n",
       "      <td>no_accessibility</td>\n",
       "      <td>medium</td>\n",
       "      <td>?</td>\n",
       "      <td>familiar</td>\n",
       "      <td>f</td>\n",
       "      <td>closed</td>\n",
       "      <td>none</td>\n",
       "    </tr>\n",
       "    <tr>\n",
       "      <th>120</th>\n",
       "      <td>135028</td>\n",
       "      <td>22.146658</td>\n",
       "      <td>-100.987219</td>\n",
       "      <td>0101000020957F0000B4F00BDD8B4858C10AC3619C83A6...</td>\n",
       "      <td>La Virreina</td>\n",
       "      <td>Av. Carranza 830</td>\n",
       "      <td>San Luis Potosi</td>\n",
       "      <td>SLP</td>\n",
       "      <td>Mexico</td>\n",
       "      <td>?</td>\n",
       "      <td>...</td>\n",
       "      <td>Wine-Beer</td>\n",
       "      <td>none</td>\n",
       "      <td>informal</td>\n",
       "      <td>no_accessibility</td>\n",
       "      <td>medium</td>\n",
       "      <td>?</td>\n",
       "      <td>familiar</td>\n",
       "      <td>f</td>\n",
       "      <td>closed</td>\n",
       "      <td>none</td>\n",
       "    </tr>\n",
       "    <tr>\n",
       "      <th>121</th>\n",
       "      <td>135085</td>\n",
       "      <td>22.150802</td>\n",
       "      <td>-100.982680</td>\n",
       "      <td>0101000020957F00009F823DA6094858C18A2D4D37F9A4...</td>\n",
       "      <td>Tortas Locas Hipocampo</td>\n",
       "      <td>Venustiano Carranza 719 Centro</td>\n",
       "      <td>San Luis Potosi</td>\n",
       "      <td>SLP</td>\n",
       "      <td>Mexico</td>\n",
       "      <td>?</td>\n",
       "      <td>...</td>\n",
       "      <td>No_Alcohol_Served</td>\n",
       "      <td>not permitted</td>\n",
       "      <td>informal</td>\n",
       "      <td>no_accessibility</td>\n",
       "      <td>medium</td>\n",
       "      <td>?</td>\n",
       "      <td>familiar</td>\n",
       "      <td>f</td>\n",
       "      <td>closed</td>\n",
       "      <td>none</td>\n",
       "    </tr>\n",
       "    <tr>\n",
       "      <th>122</th>\n",
       "      <td>132663</td>\n",
       "      <td>23.752511</td>\n",
       "      <td>-99.166954</td>\n",
       "      <td>0101000020957F0000FDF8D26EE08157C1FEDB6A1FDB4E...</td>\n",
       "      <td>tacos abi</td>\n",
       "      <td>?</td>\n",
       "      <td>victoria</td>\n",
       "      <td>tamaulipas</td>\n",
       "      <td>mexico</td>\n",
       "      <td>?</td>\n",
       "      <td>...</td>\n",
       "      <td>No_Alcohol_Served</td>\n",
       "      <td>none</td>\n",
       "      <td>informal</td>\n",
       "      <td>completely</td>\n",
       "      <td>low</td>\n",
       "      <td>?</td>\n",
       "      <td>familiar</td>\n",
       "      <td>f</td>\n",
       "      <td>closed</td>\n",
       "      <td>none</td>\n",
       "    </tr>\n",
       "    <tr>\n",
       "      <th>123</th>\n",
       "      <td>132626</td>\n",
       "      <td>23.737583</td>\n",
       "      <td>-99.135132</td>\n",
       "      <td>0101000020957F0000AA7883ADD88457C1FA651328BA46...</td>\n",
       "      <td>la perica hamburguesa</td>\n",
       "      <td>?</td>\n",
       "      <td>victoria</td>\n",
       "      <td>tamaulipas</td>\n",
       "      <td>?</td>\n",
       "      <td>?</td>\n",
       "      <td>...</td>\n",
       "      <td>No_Alcohol_Served</td>\n",
       "      <td>none</td>\n",
       "      <td>informal</td>\n",
       "      <td>completely</td>\n",
       "      <td>medium</td>\n",
       "      <td>?</td>\n",
       "      <td>familiar</td>\n",
       "      <td>t</td>\n",
       "      <td>closed</td>\n",
       "      <td>none</td>\n",
       "    </tr>\n",
       "    <tr>\n",
       "      <th>124</th>\n",
       "      <td>132583</td>\n",
       "      <td>18.922290</td>\n",
       "      <td>-99.234332</td>\n",
       "      <td>0101000020957F0000FBE7171F056F5AC1E8A6C0A5AF55...</td>\n",
       "      <td>McDonalds Centro</td>\n",
       "      <td>Rayon sn col. Centro</td>\n",
       "      <td>Cuernavaca</td>\n",
       "      <td>Morelos</td>\n",
       "      <td>Mexico</td>\n",
       "      <td>?</td>\n",
       "      <td>...</td>\n",
       "      <td>No_Alcohol_Served</td>\n",
       "      <td>not permitted</td>\n",
       "      <td>informal</td>\n",
       "      <td>partially</td>\n",
       "      <td>low</td>\n",
       "      <td>no</td>\n",
       "      <td>familiar</td>\n",
       "      <td>t</td>\n",
       "      <td>closed</td>\n",
       "      <td>none</td>\n",
       "    </tr>\n",
       "    <tr>\n",
       "      <th>125</th>\n",
       "      <td>132866</td>\n",
       "      <td>22.141220</td>\n",
       "      <td>-100.931311</td>\n",
       "      <td>0101000020957F000013871838EC4A58C1B5DF74F8E396...</td>\n",
       "      <td>Chaires</td>\n",
       "      <td>Ricardo B. Anaya</td>\n",
       "      <td>San Luis Potosi</td>\n",
       "      <td>San Luis Potosi</td>\n",
       "      <td>Mexico</td>\n",
       "      <td>?</td>\n",
       "      <td>...</td>\n",
       "      <td>No_Alcohol_Served</td>\n",
       "      <td>not permitted</td>\n",
       "      <td>informal</td>\n",
       "      <td>completely</td>\n",
       "      <td>medium</td>\n",
       "      <td>?</td>\n",
       "      <td>familiar</td>\n",
       "      <td>f</td>\n",
       "      <td>closed</td>\n",
       "      <td>none</td>\n",
       "    </tr>\n",
       "    <tr>\n",
       "      <th>126</th>\n",
       "      <td>135072</td>\n",
       "      <td>22.149192</td>\n",
       "      <td>-101.002936</td>\n",
       "      <td>0101000020957F0000E7B79B1DB94758C1D29BC363D8AA...</td>\n",
       "      <td>Sushi Itto</td>\n",
       "      <td>Venustiano Carranza 1809 C Polanco</td>\n",
       "      <td>San Luis Potosi</td>\n",
       "      <td>SLP</td>\n",
       "      <td>Mexico</td>\n",
       "      <td>?</td>\n",
       "      <td>...</td>\n",
       "      <td>No_Alcohol_Served</td>\n",
       "      <td>none</td>\n",
       "      <td>informal</td>\n",
       "      <td>no_accessibility</td>\n",
       "      <td>medium</td>\n",
       "      <td>sushi-itto.com.mx</td>\n",
       "      <td>familiar</td>\n",
       "      <td>f</td>\n",
       "      <td>closed</td>\n",
       "      <td>none</td>\n",
       "    </tr>\n",
       "    <tr>\n",
       "      <th>127</th>\n",
       "      <td>135109</td>\n",
       "      <td>18.921785</td>\n",
       "      <td>-99.235350</td>\n",
       "      <td>0101000020957F0000A6BF695F136F5AC1DADF87B20556...</td>\n",
       "      <td>Paniroles</td>\n",
       "      <td>?</td>\n",
       "      <td>?</td>\n",
       "      <td>?</td>\n",
       "      <td>?</td>\n",
       "      <td>?</td>\n",
       "      <td>...</td>\n",
       "      <td>Wine-Beer</td>\n",
       "      <td>not permitted</td>\n",
       "      <td>informal</td>\n",
       "      <td>no_accessibility</td>\n",
       "      <td>medium</td>\n",
       "      <td>?</td>\n",
       "      <td>quiet</td>\n",
       "      <td>f</td>\n",
       "      <td>closed</td>\n",
       "      <td>Internet</td>\n",
       "    </tr>\n",
       "    <tr>\n",
       "      <th>128</th>\n",
       "      <td>135019</td>\n",
       "      <td>18.875011</td>\n",
       "      <td>-99.159422</td>\n",
       "      <td>0101000020957F0000B49B2E5C6E785AC12F9D58435241...</td>\n",
       "      <td>Restaurant Bar Coty y Pablo</td>\n",
       "      <td>Paseo de Las Fuentes 24 Pedregal de Las Fuentes</td>\n",
       "      <td>Jiutepec</td>\n",
       "      <td>Morelos</td>\n",
       "      <td>Mexico</td>\n",
       "      <td>?</td>\n",
       "      <td>...</td>\n",
       "      <td>No_Alcohol_Served</td>\n",
       "      <td>none</td>\n",
       "      <td>informal</td>\n",
       "      <td>completely</td>\n",
       "      <td>low</td>\n",
       "      <td>?</td>\n",
       "      <td>familiar</td>\n",
       "      <td>f</td>\n",
       "      <td>closed</td>\n",
       "      <td>none</td>\n",
       "    </tr>\n",
       "    <tr>\n",
       "      <th>129</th>\n",
       "      <td>132877</td>\n",
       "      <td>22.135364</td>\n",
       "      <td>-100.934948</td>\n",
       "      <td>0101000020957F000090735015B84B58C1AF0DC0414698...</td>\n",
       "      <td>sirloin stockade</td>\n",
       "      <td>?</td>\n",
       "      <td>?</td>\n",
       "      <td>?</td>\n",
       "      <td>?</td>\n",
       "      <td>?</td>\n",
       "      <td>...</td>\n",
       "      <td>No_Alcohol_Served</td>\n",
       "      <td>none</td>\n",
       "      <td>informal</td>\n",
       "      <td>completely</td>\n",
       "      <td>low</td>\n",
       "      <td>?</td>\n",
       "      <td>familiar</td>\n",
       "      <td>f</td>\n",
       "      <td>closed</td>\n",
       "      <td>none</td>\n",
       "    </tr>\n",
       "  </tbody>\n",
       "</table>\n",
       "<p>130 rows × 21 columns</p>\n",
       "</div>"
      ],
      "text/plain": [
       "     placeID   latitude   longitude  \\\n",
       "0     134999  18.915421  -99.184871   \n",
       "1     132825  22.147392 -100.983092   \n",
       "2     135106  22.149709 -100.976093   \n",
       "3     132667  23.752697  -99.163359   \n",
       "4     132613  23.752903  -99.165076   \n",
       "5     135040  22.135617 -100.969709   \n",
       "6     132732  23.754357  -99.171288   \n",
       "7     132875  22.149901 -100.993779   \n",
       "8     132609  23.760268  -99.165865   \n",
       "9     135082  22.151448 -100.915099   \n",
       "10    135070  22.152918 -100.915164   \n",
       "11    135069  22.140129 -100.944872   \n",
       "12    135065  22.149580 -100.999557   \n",
       "13    135076  22.181017 -100.973614   \n",
       "14    135086  22.141421 -101.013955   \n",
       "15    132870  22.143078 -100.935479   \n",
       "16    132854  22.137863 -100.938327   \n",
       "17    132937  22.150019 -100.979920   \n",
       "18    132856  22.151378 -100.974634   \n",
       "19    132668  23.738212  -99.151955   \n",
       "20    135033  22.141610 -100.973142   \n",
       "21    132862  22.150643 -100.987015   \n",
       "22    134983  18.948657  -99.235361   \n",
       "23    132851  22.136872 -100.934574   \n",
       "24    135013  18.917441  -99.165945   \n",
       "25    135042  22.159357 -100.973411   \n",
       "26    132768  18.925773  -99.232636   \n",
       "27    132561  23.726819  -99.126506   \n",
       "28    135045  22.151189 -100.981790   \n",
       "29    132847  22.144336 -100.937382   \n",
       "..       ...        ...         ...   \n",
       "100   134996  18.923429  -99.216413   \n",
       "101   132755  22.153324 -101.019546   \n",
       "102   135043  22.185756 -100.944518   \n",
       "103   132654  23.735523  -99.129588   \n",
       "104   135049  22.135011 -101.028600   \n",
       "105   135073  22.147175 -100.974269   \n",
       "106   132560  23.752304  -99.166913   \n",
       "107   134976  18.916654  -99.227110   \n",
       "108   135075  22.139573 -100.991564   \n",
       "109   132660  23.752943  -99.164679   \n",
       "110   132921  22.150305 -100.989134   \n",
       "111   132594  23.752168  -99.165709   \n",
       "112   134986  18.928798  -99.239513   \n",
       "113   135062  22.153703 -100.979033   \n",
       "114   132766  18.910178  -99.231544   \n",
       "115   135088  18.876011  -99.219890   \n",
       "116   135058  22.165587 -101.001273   \n",
       "117   132754  22.147738 -100.990616   \n",
       "118   132584  23.752365  -99.165288   \n",
       "119   135032  22.152481 -100.973486   \n",
       "120   135028  22.146658 -100.987219   \n",
       "121   135085  22.150802 -100.982680   \n",
       "122   132663  23.752511  -99.166954   \n",
       "123   132626  23.737583  -99.135132   \n",
       "124   132583  18.922290  -99.234332   \n",
       "125   132866  22.141220 -100.931311   \n",
       "126   135072  22.149192 -101.002936   \n",
       "127   135109  18.921785  -99.235350   \n",
       "128   135019  18.875011  -99.159422   \n",
       "129   132877  22.135364 -100.934948   \n",
       "\n",
       "                                        the_geom_meter  \\\n",
       "0    0101000020957F000088568DE356715AC138C0A525FC46...   \n",
       "1    0101000020957F00001AD016568C4858C1243261274BA5...   \n",
       "2    0101000020957F0000649D6F21634858C119AE9BF528A3...   \n",
       "3    0101000020957F00005D67BCDDED8157C1222A2DC8D84D...   \n",
       "4    0101000020957F00008EBA2D06DC8157C194E03B7B504E...   \n",
       "5    0101000020957F00001B552189B84A58C15A2AAEFD2CA2...   \n",
       "6    0101000020957F00008A20E615808157C16272FECBF84F...   \n",
       "7    0101000020957F00008A2A0747DE4758C11EB31D2A31A8...   \n",
       "8    0101000020957F0000A478418BBA8057C133851EB22C4E...   \n",
       "9    0101000020957F0000A29FAF95CD4958C1FEEEBB73A991...   \n",
       "10   0101000020957F0000ED435B84934958C1B3CF85FA9791...   \n",
       "11   0101000020957F000038E5D546B74A58C18FD29AD0D29A...   \n",
       "12   0101000020957F000094A6A8E3C14758C17435E6D1DBA9...   \n",
       "13   0101000020957F00005657121FAA4358C1A8030D5598A0...   \n",
       "14   0101000020957F0000FA1A0E5A9B4858C17C884C4173AE...   \n",
       "15   0101000020957F0000550FC1FC854A58C16D7D4E35F897...   \n",
       "16   0101000020957F0000FEC3FB453E4B58C19B4A46361799...   \n",
       "17   0101000020957F0000F9F19DDC3B4858C191B265A83BA4...   \n",
       "18   0101000020957F0000C1B7D30B2C4858C1CE557111A5A2...   \n",
       "19   0101000020957F000003B195E25F8457C1C535BD04614B...   \n",
       "20   0101000020957F00000F624C60B54958C11757339BCCA2...   \n",
       "21   0101000020957F0000AF95272CF14758C165B2F91238A6...   \n",
       "22   0101000020957F0000DEF36F4FC76A5AC162B083D9A054...   \n",
       "23   0101000020957F0000C74DE39C7F4B58C1061F29171498...   \n",
       "24   0101000020957F0000D241E94E7B715AC119862B3B1E41...   \n",
       "25   0101000020957F0000C66BB014FC4658C17CFE8D93D2A1...   \n",
       "26   0101000020957F000000DD3546816E5AC119D4BD17FD54...   \n",
       "27   0101000020957F000004457BB7AA8657C15F10835CD944...   \n",
       "28   0101000020957F00000B6735CA004858C108FD525CB2A4...   \n",
       "29   0101000020957F00004717A23D474A58C17D1F10297098...   \n",
       "..                                                 ...   \n",
       "100  0101000020957F0000340233E7476F5AC132844E2A2C50...   \n",
       "101  0101000020957F000026CADE45A14658C1F011EBCA55AF...   \n",
       "102  0101000020957F00006B9D7207BE4358C12419118D0598...   \n",
       "103  0101000020957F000040E8F628488557C18224E8B94845...   \n",
       "104  0101000020957F00005DAD35642E4958C11BBCDE4A02B3...   \n",
       "105  0101000020957F0000D010A853D34858C116A1EA51CAA2...   \n",
       "106  0101000020957F0000FC60BDA8E88157C1B2C357D6DA4E...   \n",
       "107  0101000020957F00002838E29F19705AC1BC368BDAC753...   \n",
       "108  0101000020957F0000332AE8AF824958C15A4195A82CA8...   \n",
       "109  0101000020957F00003D7905C9DC8157C13FCD1AB7334E...   \n",
       "110  0101000020957F00006376BB64EF4758C1013687E5D7A6...   \n",
       "111  0101000020957F00003AE4C6DBF48157C1CE38ECC1864E...   \n",
       "112  0101000020957F00002A0D05E2D96D5AC1AB058CB1EC56...   \n",
       "113  0101000020957F0000D177B9CFB14758C162A211E1C2A3...   \n",
       "114  0101000020957F000043A319BA06715AC1944336987755...   \n",
       "115  0101000020957F0000E14AD4DBC7765AC1F7B33C85B153...   \n",
       "116  0101000020957F0000EB71019D424558C15CC5404365A9...   \n",
       "117  0101000020957F00002493B678494858C1AD55D2316BA7...   \n",
       "118  0101000020957F000048C65BA7EF8157C177F2344D664E...   \n",
       "119  0101000020957F000017D69FF5084858C1A8F2188740A2...   \n",
       "120  0101000020957F0000B4F00BDD8B4858C10AC3619C83A6...   \n",
       "121  0101000020957F00009F823DA6094858C18A2D4D37F9A4...   \n",
       "122  0101000020957F0000FDF8D26EE08157C1FEDB6A1FDB4E...   \n",
       "123  0101000020957F0000AA7883ADD88457C1FA651328BA46...   \n",
       "124  0101000020957F0000FBE7171F056F5AC1E8A6C0A5AF55...   \n",
       "125  0101000020957F000013871838EC4A58C1B5DF74F8E396...   \n",
       "126  0101000020957F0000E7B79B1DB94758C1D29BC363D8AA...   \n",
       "127  0101000020957F0000A6BF695F136F5AC1DADF87B20556...   \n",
       "128  0101000020957F0000B49B2E5C6E785AC12F9D58435241...   \n",
       "129  0101000020957F000090735015B84B58C1AF0DC0414698...   \n",
       "\n",
       "                                                  name  \\\n",
       "0                                      Kiku Cuernavaca   \n",
       "1                                      puesto de tacos   \n",
       "2                         El RincпїЅn de San Francisco   \n",
       "3                       little pizza Emilio Portes Gil   \n",
       "4                                        carnitas_mata   \n",
       "5                             Restaurant los Compadres   \n",
       "6                                   Taqueria EL amigo    \n",
       "7                                            shi ro ie   \n",
       "8                             Pollo_Frito_Buenos_Aires   \n",
       "9                                 la Estrella de Dimas   \n",
       "10                                      Restaurante 75   \n",
       "11                           Abondance Restaurante Bar   \n",
       "12                                El angel Restaurante   \n",
       "13                           Restaurante Pueblo Bonito   \n",
       "14                         Mcdonalds Parque Tangamanga   \n",
       "15                      Tortas y hamburguesas el gordo   \n",
       "16                                             Sirlone   \n",
       "17                                         rockabilly    \n",
       "18                                       Unicols Pizza   \n",
       "19                                      TACOS EL GUERO   \n",
       "20                    Restaurant El Muladar de Calzada   \n",
       "21                                La Posada del Virrey   \n",
       "22   Restaurant and Bar and Clothesline Carlos N Ch...   \n",
       "23                                                 KFC   \n",
       "24                                           Giovannis   \n",
       "25                         Restaurant Oriental Express   \n",
       "26                                  Mariscos Tia Licha   \n",
       "27                                          cafe ambar   \n",
       "28                             Restaurante la Gran Via   \n",
       "29                                        don burguers   \n",
       "..                                                 ...   \n",
       "100                               Sanborns Casa Piedra   \n",
       "101                               La Estrella de Dimas   \n",
       "102                                      pizza clasica   \n",
       "103              Carnitas Mata  Calle 16 de Septiembre   \n",
       "104                Restaurante de Mariscos la Langosta   \n",
       "105                       Restaurante Bar El Gallinero   \n",
       "106                                 puesto de gorditas   \n",
       "107                                            Log Yin   \n",
       "108                               Mariscos El Pescador   \n",
       "109              carnitas mata calle Emilio Portes Gil   \n",
       "110                                           crudalia   \n",
       "111                 tacos de barbacoa enfrente del Tec   \n",
       "112                           Restaurant Las Mananitas   \n",
       "113                      Restaurante El Cielo Potosino   \n",
       "114                                             Mikasa   \n",
       "115                                  Cafeteria cenidet   \n",
       "116                               Restaurante Tiberius   \n",
       "117                                    Cabana Huasteca   \n",
       "118                                 Gorditas Dona Tota   \n",
       "119                 Cafeteria y Restaurant El Pacifico   \n",
       "120                                        La Virreina   \n",
       "121                             Tortas Locas Hipocampo   \n",
       "122                                          tacos abi   \n",
       "123                              la perica hamburguesa   \n",
       "124                                   McDonalds Centro   \n",
       "125                                            Chaires   \n",
       "126                                         Sushi Itto   \n",
       "127                                          Paniroles   \n",
       "128                        Restaurant Bar Coty y Pablo   \n",
       "129                                   sirloin stockade   \n",
       "\n",
       "                                             address             city  \\\n",
       "0                                         Revolucion       Cuernavaca   \n",
       "1             esquina santos degollado y leon guzman           s.l.p.   \n",
       "2                                    Universidad 169  San Luis Potosi   \n",
       "3                            calle emilio portes gil        victoria    \n",
       "4                             lic. Emilio portes gil         victoria   \n",
       "5                     Camino a Simon Diaz 155 Centro  San Luis Potosi   \n",
       "6                   Calle Mezquite Fracc Framboyanes      Cd Victoria   \n",
       "7                                                  ?                ?   \n",
       "8                                            tampico         victoria   \n",
       "9                  Villa de Pozos 192 Villa de Pozos  San Luis Potosi   \n",
       "10                Villa de Pozos 4497 Villa de Pozos  San Luis Potosi   \n",
       "11                       Industrias 908 Valle Dorado  San Luis Potosi   \n",
       "12                   Venustiano Carranza 1625 Jardin  San Luis Potosi   \n",
       "13                           Mexico 2015 Providencia  San Luis Potosi   \n",
       "14               Lateral Salvador Nava Martinez 3145  San Luis Potosi   \n",
       "15                                  Ricardo B. Anaya  San Luis Potosi   \n",
       "16                                      carr. mexico  San Luis Potosi   \n",
       "17                               agustin de iturbide  san luis potosi   \n",
       "18                                  Plaza del Carmen  San Luis Potosi   \n",
       "19                                                 ?         victoria   \n",
       "20                    De Guadalupe 460 San Miguelito  San Luis Potosi   \n",
       "21                                   Av. V. Carranza  San Luis Potosi   \n",
       "22                        Domingo 10 711 El Empleado       Cuernavaca   \n",
       "23                                                 ?  San Luis Potosi   \n",
       "24                       40 Norte Civac 1RA. Seccion         Jiutepec   \n",
       "25                           Tangamanga 7 Tangamanga  San Luis Potosi   \n",
       "26                         avenida salvador montiel        cuernavaca   \n",
       "27                                                 ?                ?   \n",
       "28                    Venustiano Carranza 560 Centro  San Luis Potosi   \n",
       "29                         r.b. anaya esq. florencia              slp   \n",
       "..                                               ...              ...   \n",
       "100                                Lomas del Mirador       Cuernavaca   \n",
       "101                              Av. de los Pintores  San Luis Potosi   \n",
       "102                  524 Soledad de Graciano Sanchez          Soledad   \n",
       "103                                 16 de Septiembre        victoria    \n",
       "104           Cordillera de Los Alpes 675 Loma Verde  San Luis Potosi   \n",
       "105                  Pascual M. Hernandez 210 Centro  San Luis Potosi   \n",
       "106                            frente al tecnologico         victoria   \n",
       "107                                                ?                ?   \n",
       "108                   Himno Nacional 2104 Tangamanga  San Luis Potosi   \n",
       "109                                Emilio Portes Gil         victoria   \n",
       "110                                                ?                ?   \n",
       "111                                                ?                ?   \n",
       "112                              Ricardo Linares 107       Cuernavaca   \n",
       "113                   Julian de Los Reyes 400 Centro  San Luis Potosi   \n",
       "114                 Himno nacional esq. Blvd. Juarez       Cuernavaca   \n",
       "115                    Interior Internado Palmira SN       Cuernavaca   \n",
       "116                                  Munoz Sn Centro  San Luis Potosi   \n",
       "117                                   Cuauhtemoc 455  San Luis Potosi   \n",
       "118                                                ?                ?   \n",
       "119                          Constitucion 200 Centro  San Luis Potosi   \n",
       "120                                 Av. Carranza 830  San Luis Potosi   \n",
       "121                   Venustiano Carranza 719 Centro  San Luis Potosi   \n",
       "122                                                ?         victoria   \n",
       "123                                                ?         victoria   \n",
       "124                             Rayon sn col. Centro       Cuernavaca   \n",
       "125                                 Ricardo B. Anaya  San Luis Potosi   \n",
       "126               Venustiano Carranza 1809 C Polanco  San Luis Potosi   \n",
       "127                                                ?                ?   \n",
       "128  Paseo de Las Fuentes 24 Pedregal de Las Fuentes         Jiutepec   \n",
       "129                                                ?                ?   \n",
       "\n",
       "               state country fax      ...                  alcohol  \\\n",
       "0            Morelos  Mexico   ?      ...        No_Alcohol_Served   \n",
       "1             s.l.p.  mexico   ?      ...        No_Alcohol_Served   \n",
       "2    San Luis Potosi  Mexico   ?      ...                Wine-Beer   \n",
       "3         tamaulipas       ?   ?      ...        No_Alcohol_Served   \n",
       "4         Tamaulipas  Mexico   ?      ...        No_Alcohol_Served   \n",
       "5                SLP  Mexico   ?      ...                Wine-Beer   \n",
       "6         Tamaulipas  Mexico   ?      ...        No_Alcohol_Served   \n",
       "7                  ?       ?   ?      ...                Wine-Beer   \n",
       "8         Tamaulipas  Mexico   ?      ...        No_Alcohol_Served   \n",
       "9                SLP  Mexico   ?      ...        No_Alcohol_Served   \n",
       "10               SLP  Mexico   ?      ...        No_Alcohol_Served   \n",
       "11               SLP  Mexico   ?      ...                Wine-Beer   \n",
       "12               SLP  Mexico   ?      ...                Wine-Beer   \n",
       "13               SLP  Mexico   ?      ...                Wine-Beer   \n",
       "14               SLP  Mexico   ?      ...        No_Alcohol_Served   \n",
       "15   San Luis Potosi  Mexico   ?      ...        No_Alcohol_Served   \n",
       "16   San Luis Potosi  Mexico   ?      ...                Wine-Beer   \n",
       "17   san luis potosi  mexico   ?      ...                 Full_Bar   \n",
       "18   San Luis Potosi  Mexico   ?      ...                Wine-Beer   \n",
       "19        tamaulipas  mexico   ?      ...        No_Alcohol_Served   \n",
       "20               SLP  Mexico   ?      ...        No_Alcohol_Served   \n",
       "21   San Luis Potosi  Mexico   ?      ...                Wine-Beer   \n",
       "22           Morelos  Mexico   ?      ...                 Full_Bar   \n",
       "23   San Luis Potosi  Mexico   ?      ...        No_Alcohol_Served   \n",
       "24           Morelos  Mexico   ?      ...        No_Alcohol_Served   \n",
       "25               SLP  Mexico   ?      ...        No_Alcohol_Served   \n",
       "26           morelos  mexico   ?      ...        No_Alcohol_Served   \n",
       "27                 ?       ?   ?      ...        No_Alcohol_Served   \n",
       "28               SLP  Mexico   ?      ...                Wine-Beer   \n",
       "29               slp  mexico   ?      ...        No_Alcohol_Served   \n",
       "..               ...     ...  ..      ...                      ...   \n",
       "100          Morelos  Mexico   ?      ...                Wine-Beer   \n",
       "101           S.L.P.  Mexico   ?      ...        No_Alcohol_Served   \n",
       "102              SLP  Mexico   ?      ...        No_Alcohol_Served   \n",
       "103       tamaulipas       ?   ?      ...        No_Alcohol_Served   \n",
       "104              SLP  Mexico   ?      ...        No_Alcohol_Served   \n",
       "105              SLP  Mexico   ?      ...                Wine-Beer   \n",
       "106       tamaulipas  mexico   ?      ...        No_Alcohol_Served   \n",
       "107                ?       ?   ?      ...        No_Alcohol_Served   \n",
       "108              SLP  Mexico   ?      ...        No_Alcohol_Served   \n",
       "109       tamaulipas       ?   ?      ...        No_Alcohol_Served   \n",
       "110                ?       ?   ?      ...                Wine-Beer   \n",
       "111                ?       ?   ?      ...        No_Alcohol_Served   \n",
       "112          Morelos  Mexico   ?      ...                Wine-Beer   \n",
       "113              SLP  Mexico   ?      ...        No_Alcohol_Served   \n",
       "114          Morelos  Mexico   ?      ...                Wine-Beer   \n",
       "115          Morelos  Mexico   ?      ...        No_Alcohol_Served   \n",
       "116              SLP  Mexico   ?      ...        No_Alcohol_Served   \n",
       "117           S.L.P.  Mexico   ?      ...        No_Alcohol_Served   \n",
       "118                ?       ?   ?      ...        No_Alcohol_Served   \n",
       "119              SLP  Mexico   ?      ...                Wine-Beer   \n",
       "120              SLP  Mexico   ?      ...                Wine-Beer   \n",
       "121              SLP  Mexico   ?      ...        No_Alcohol_Served   \n",
       "122       tamaulipas  mexico   ?      ...        No_Alcohol_Served   \n",
       "123       tamaulipas       ?   ?      ...        No_Alcohol_Served   \n",
       "124          Morelos  Mexico   ?      ...        No_Alcohol_Served   \n",
       "125  San Luis Potosi  Mexico   ?      ...        No_Alcohol_Served   \n",
       "126              SLP  Mexico   ?      ...        No_Alcohol_Served   \n",
       "127                ?       ?   ?      ...                Wine-Beer   \n",
       "128          Morelos  Mexico   ?      ...        No_Alcohol_Served   \n",
       "129                ?       ?   ?      ...        No_Alcohol_Served   \n",
       "\n",
       "      smoking_area dress_code     accessibility   price  \\\n",
       "0             none   informal  no_accessibility  medium   \n",
       "1             none   informal        completely     low   \n",
       "2      only at bar   informal         partially  medium   \n",
       "3             none   informal        completely     low   \n",
       "4        permitted   informal        completely  medium   \n",
       "5             none   informal  no_accessibility    high   \n",
       "6             none     casual        completely     low   \n",
       "7          section   informal  no_accessibility    high   \n",
       "8    not permitted   informal        completely     low   \n",
       "9             none   informal  no_accessibility  medium   \n",
       "10            none   informal  no_accessibility  medium   \n",
       "11            none   informal  no_accessibility     low   \n",
       "12         section   informal  no_accessibility    high   \n",
       "13            none   informal  no_accessibility    high   \n",
       "14   not permitted   informal  no_accessibility  medium   \n",
       "15   not permitted   informal  no_accessibility     low   \n",
       "16            none   informal        completely  medium   \n",
       "17         section   informal        completely     low   \n",
       "18            none   informal        completely     low   \n",
       "19            none   informal        completely     low   \n",
       "20         section   informal  no_accessibility  medium   \n",
       "21            none     casual        completely    high   \n",
       "22         section   informal  no_accessibility    high   \n",
       "23   not permitted   informal        completely     low   \n",
       "24            none   informal  no_accessibility     low   \n",
       "25            none   informal  no_accessibility  medium   \n",
       "26   not permitted     casual         partially  medium   \n",
       "27            none   informal        completely     low   \n",
       "28            none     casual  no_accessibility    high   \n",
       "29            none   informal  no_accessibility     low   \n",
       "..             ...        ...               ...     ...   \n",
       "100    only at bar   informal  no_accessibility  medium   \n",
       "101           none   informal         partially  medium   \n",
       "102           none   informal  no_accessibility  medium   \n",
       "103           none   informal        completely     low   \n",
       "104           none   informal  no_accessibility  medium   \n",
       "105        section   informal  no_accessibility    high   \n",
       "106      permitted   informal  no_accessibility     low   \n",
       "107           none   informal  no_accessibility     low   \n",
       "108           none   informal  no_accessibility  medium   \n",
       "109           none   informal        completely     low   \n",
       "110        section     casual        completely     low   \n",
       "111  not permitted   informal        completely     low   \n",
       "112           none     formal  no_accessibility    high   \n",
       "113           none   informal  no_accessibility  medium   \n",
       "114           none   informal  no_accessibility  medium   \n",
       "115  not permitted   informal  no_accessibility     low   \n",
       "116           none   informal  no_accessibility  medium   \n",
       "117           none   informal         partially  medium   \n",
       "118  not permitted   informal        completely  medium   \n",
       "119        section   informal  no_accessibility  medium   \n",
       "120           none   informal  no_accessibility  medium   \n",
       "121  not permitted   informal  no_accessibility  medium   \n",
       "122           none   informal        completely     low   \n",
       "123           none   informal        completely  medium   \n",
       "124  not permitted   informal         partially     low   \n",
       "125  not permitted   informal        completely  medium   \n",
       "126           none   informal  no_accessibility  medium   \n",
       "127  not permitted   informal  no_accessibility  medium   \n",
       "128           none   informal        completely     low   \n",
       "129           none   informal        completely     low   \n",
       "\n",
       "                       url Rambience franchise    area other_services  \n",
       "0    kikucuernavaca.com.mx  familiar         f  closed           none  \n",
       "1                        ?  familiar         f    open           none  \n",
       "2                        ?  familiar         f    open           none  \n",
       "3                        ?  familiar         t  closed           none  \n",
       "4                        ?  familiar         t  closed           none  \n",
       "5                        ?  familiar         f  closed           none  \n",
       "6                        ?  familiar         f    open           none  \n",
       "7                        ?  familiar         t    open       Internet  \n",
       "8                        ?     quiet         t  closed           none  \n",
       "9                        ?  familiar         f  closed           none  \n",
       "10                       ?  familiar         f  closed           none  \n",
       "11                       ?  familiar         f  closed           none  \n",
       "12                       ?  familiar         f  closed           none  \n",
       "13                       ?  familiar         f  closed           none  \n",
       "14                       ?  familiar         t  closed           none  \n",
       "15                       ?  familiar         f  closed           none  \n",
       "16                       ?  familiar         f  closed           none  \n",
       "17                       ?     quiet         f  closed        variety  \n",
       "18                       ?  familiar         f  closed           none  \n",
       "19                       ?  familiar         f  closed           none  \n",
       "20                       ?  familiar         f  closed           none  \n",
       "21                       ?  familiar         f  closed           none  \n",
       "22   carlosandcharlies.com  familiar         f  closed           none  \n",
       "23                       ?  familiar         f  closed           none  \n",
       "24                       ?  familiar         f  closed           none  \n",
       "25                       ?  familiar         f  closed           none  \n",
       "26                       ?  familiar         t  closed           none  \n",
       "27                       ?  familiar         f  closed           none  \n",
       "28        lagranvia.com.mx  familiar         f  closed           none  \n",
       "29                       ?  familiar         f    open           none  \n",
       "..                     ...       ...       ...     ...            ...  \n",
       "100                      ?  familiar         t  closed       Internet  \n",
       "101                      ?  familiar         f  closed        variety  \n",
       "102                      ?  familiar         f  closed           none  \n",
       "103                      ?  familiar         f  closed           none  \n",
       "104                      ?  familiar         f  closed           none  \n",
       "105                      ?  familiar         f  closed           none  \n",
       "106                      ?  familiar         f    open           none  \n",
       "107                      ?  familiar         f  closed           none  \n",
       "108                      ?  familiar         f  closed           none  \n",
       "109                      ?  familiar         f  closed           none  \n",
       "110                      ?     quiet         f    open           none  \n",
       "111                      ?  familiar         f    open           none  \n",
       "112    lasmananitas.com.mx  familiar         f  closed           none  \n",
       "113                      ?  familiar         f  closed           none  \n",
       "114                      ?  familiar         f  closed           none  \n",
       "115     www.cenidet.edu.mx     quiet         f  closed           none  \n",
       "116                      ?  familiar         t  closed           none  \n",
       "117                      ?  familiar         f  closed           none  \n",
       "118                      ?  familiar         t  closed           none  \n",
       "119                      ?  familiar         f  closed           none  \n",
       "120                      ?  familiar         f  closed           none  \n",
       "121                      ?  familiar         f  closed           none  \n",
       "122                      ?  familiar         f  closed           none  \n",
       "123                      ?  familiar         t  closed           none  \n",
       "124                     no  familiar         t  closed           none  \n",
       "125                      ?  familiar         f  closed           none  \n",
       "126      sushi-itto.com.mx  familiar         f  closed           none  \n",
       "127                      ?     quiet         f  closed       Internet  \n",
       "128                      ?  familiar         f  closed           none  \n",
       "129                      ?  familiar         f  closed           none  \n",
       "\n",
       "[130 rows x 21 columns]"
      ]
     },
     "execution_count": 4,
     "metadata": {},
     "output_type": "execute_result"
    }
   ],
   "source": [
    "data"
   ]
  },
  {
   "cell_type": "code",
   "execution_count": 5,
   "metadata": {},
   "outputs": [
    {
     "name": "stdout",
     "output_type": "stream",
     "text": [
      "     placeID   latitude   longitude  \\\n",
      "0     134999  18.915421  -99.184871   \n",
      "1     132825  22.147392 -100.983092   \n",
      "2     135106  22.149709 -100.976093   \n",
      "3     132667  23.752697  -99.163359   \n",
      "4     132613  23.752903  -99.165076   \n",
      "5     135040  22.135617 -100.969709   \n",
      "6     132732  23.754357  -99.171288   \n",
      "7     132875  22.149901 -100.993779   \n",
      "8     132609  23.760268  -99.165865   \n",
      "9     135082  22.151448 -100.915099   \n",
      "10    135070  22.152918 -100.915164   \n",
      "11    135069  22.140129 -100.944872   \n",
      "12    135065  22.149580 -100.999557   \n",
      "13    135076  22.181017 -100.973614   \n",
      "14    135086  22.141421 -101.013955   \n",
      "15    132870  22.143078 -100.935479   \n",
      "16    132854  22.137863 -100.938327   \n",
      "17    132937  22.150019 -100.979920   \n",
      "18    132856  22.151378 -100.974634   \n",
      "19    132668  23.738212  -99.151955   \n",
      "20    135033  22.141610 -100.973142   \n",
      "21    132862  22.150643 -100.987015   \n",
      "22    134983  18.948657  -99.235361   \n",
      "23    132851  22.136872 -100.934574   \n",
      "24    135013  18.917441  -99.165945   \n",
      "25    135042  22.159357 -100.973411   \n",
      "26    132768  18.925773  -99.232636   \n",
      "27    132561  23.726819  -99.126506   \n",
      "28    135045  22.151189 -100.981790   \n",
      "29    132847  22.144336 -100.937382   \n",
      "..       ...        ...         ...   \n",
      "100   134996  18.923429  -99.216413   \n",
      "101   132755  22.153324 -101.019546   \n",
      "102   135043  22.185756 -100.944518   \n",
      "103   132654  23.735523  -99.129588   \n",
      "104   135049  22.135011 -101.028600   \n",
      "105   135073  22.147175 -100.974269   \n",
      "106   132560  23.752304  -99.166913   \n",
      "107   134976  18.916654  -99.227110   \n",
      "108   135075  22.139573 -100.991564   \n",
      "109   132660  23.752943  -99.164679   \n",
      "110   132921  22.150305 -100.989134   \n",
      "111   132594  23.752168  -99.165709   \n",
      "112   134986  18.928798  -99.239513   \n",
      "113   135062  22.153703 -100.979033   \n",
      "114   132766  18.910178  -99.231544   \n",
      "115   135088  18.876011  -99.219890   \n",
      "116   135058  22.165587 -101.001273   \n",
      "117   132754  22.147738 -100.990616   \n",
      "118   132584  23.752365  -99.165288   \n",
      "119   135032  22.152481 -100.973486   \n",
      "120   135028  22.146658 -100.987219   \n",
      "121   135085  22.150802 -100.982680   \n",
      "122   132663  23.752511  -99.166954   \n",
      "123   132626  23.737583  -99.135132   \n",
      "124   132583  18.922290  -99.234332   \n",
      "125   132866  22.141220 -100.931311   \n",
      "126   135072  22.149192 -101.002936   \n",
      "127   135109  18.921785  -99.235350   \n",
      "128   135019  18.875011  -99.159422   \n",
      "129   132877  22.135364 -100.934948   \n",
      "\n",
      "                                        the_geom_meter  \\\n",
      "0    0101000020957F000088568DE356715AC138C0A525FC46...   \n",
      "1    0101000020957F00001AD016568C4858C1243261274BA5...   \n",
      "2    0101000020957F0000649D6F21634858C119AE9BF528A3...   \n",
      "3    0101000020957F00005D67BCDDED8157C1222A2DC8D84D...   \n",
      "4    0101000020957F00008EBA2D06DC8157C194E03B7B504E...   \n",
      "5    0101000020957F00001B552189B84A58C15A2AAEFD2CA2...   \n",
      "6    0101000020957F00008A20E615808157C16272FECBF84F...   \n",
      "7    0101000020957F00008A2A0747DE4758C11EB31D2A31A8...   \n",
      "8    0101000020957F0000A478418BBA8057C133851EB22C4E...   \n",
      "9    0101000020957F0000A29FAF95CD4958C1FEEEBB73A991...   \n",
      "10   0101000020957F0000ED435B84934958C1B3CF85FA9791...   \n",
      "11   0101000020957F000038E5D546B74A58C18FD29AD0D29A...   \n",
      "12   0101000020957F000094A6A8E3C14758C17435E6D1DBA9...   \n",
      "13   0101000020957F00005657121FAA4358C1A8030D5598A0...   \n",
      "14   0101000020957F0000FA1A0E5A9B4858C17C884C4173AE...   \n",
      "15   0101000020957F0000550FC1FC854A58C16D7D4E35F897...   \n",
      "16   0101000020957F0000FEC3FB453E4B58C19B4A46361799...   \n",
      "17   0101000020957F0000F9F19DDC3B4858C191B265A83BA4...   \n",
      "18   0101000020957F0000C1B7D30B2C4858C1CE557111A5A2...   \n",
      "19   0101000020957F000003B195E25F8457C1C535BD04614B...   \n",
      "20   0101000020957F00000F624C60B54958C11757339BCCA2...   \n",
      "21   0101000020957F0000AF95272CF14758C165B2F91238A6...   \n",
      "22   0101000020957F0000DEF36F4FC76A5AC162B083D9A054...   \n",
      "23   0101000020957F0000C74DE39C7F4B58C1061F29171498...   \n",
      "24   0101000020957F0000D241E94E7B715AC119862B3B1E41...   \n",
      "25   0101000020957F0000C66BB014FC4658C17CFE8D93D2A1...   \n",
      "26   0101000020957F000000DD3546816E5AC119D4BD17FD54...   \n",
      "27   0101000020957F000004457BB7AA8657C15F10835CD944...   \n",
      "28   0101000020957F00000B6735CA004858C108FD525CB2A4...   \n",
      "29   0101000020957F00004717A23D474A58C17D1F10297098...   \n",
      "..                                                 ...   \n",
      "100  0101000020957F0000340233E7476F5AC132844E2A2C50...   \n",
      "101  0101000020957F000026CADE45A14658C1F011EBCA55AF...   \n",
      "102  0101000020957F00006B9D7207BE4358C12419118D0598...   \n",
      "103  0101000020957F000040E8F628488557C18224E8B94845...   \n",
      "104  0101000020957F00005DAD35642E4958C11BBCDE4A02B3...   \n",
      "105  0101000020957F0000D010A853D34858C116A1EA51CAA2...   \n",
      "106  0101000020957F0000FC60BDA8E88157C1B2C357D6DA4E...   \n",
      "107  0101000020957F00002838E29F19705AC1BC368BDAC753...   \n",
      "108  0101000020957F0000332AE8AF824958C15A4195A82CA8...   \n",
      "109  0101000020957F00003D7905C9DC8157C13FCD1AB7334E...   \n",
      "110  0101000020957F00006376BB64EF4758C1013687E5D7A6...   \n",
      "111  0101000020957F00003AE4C6DBF48157C1CE38ECC1864E...   \n",
      "112  0101000020957F00002A0D05E2D96D5AC1AB058CB1EC56...   \n",
      "113  0101000020957F0000D177B9CFB14758C162A211E1C2A3...   \n",
      "114  0101000020957F000043A319BA06715AC1944336987755...   \n",
      "115  0101000020957F0000E14AD4DBC7765AC1F7B33C85B153...   \n",
      "116  0101000020957F0000EB71019D424558C15CC5404365A9...   \n",
      "117  0101000020957F00002493B678494858C1AD55D2316BA7...   \n",
      "118  0101000020957F000048C65BA7EF8157C177F2344D664E...   \n",
      "119  0101000020957F000017D69FF5084858C1A8F2188740A2...   \n",
      "120  0101000020957F0000B4F00BDD8B4858C10AC3619C83A6...   \n",
      "121  0101000020957F00009F823DA6094858C18A2D4D37F9A4...   \n",
      "122  0101000020957F0000FDF8D26EE08157C1FEDB6A1FDB4E...   \n",
      "123  0101000020957F0000AA7883ADD88457C1FA651328BA46...   \n",
      "124  0101000020957F0000FBE7171F056F5AC1E8A6C0A5AF55...   \n",
      "125  0101000020957F000013871838EC4A58C1B5DF74F8E396...   \n",
      "126  0101000020957F0000E7B79B1DB94758C1D29BC363D8AA...   \n",
      "127  0101000020957F0000A6BF695F136F5AC1DADF87B20556...   \n",
      "128  0101000020957F0000B49B2E5C6E785AC12F9D58435241...   \n",
      "129  0101000020957F000090735015B84B58C1AF0DC0414698...   \n",
      "\n",
      "                                                  name  \\\n",
      "0                                      Kiku Cuernavaca   \n",
      "1                                      puesto de tacos   \n",
      "2                         El RincпїЅn de San Francisco   \n",
      "3                       little pizza Emilio Portes Gil   \n",
      "4                                        carnitas_mata   \n",
      "5                             Restaurant los Compadres   \n",
      "6                                   Taqueria EL amigo    \n",
      "7                                            shi ro ie   \n",
      "8                             Pollo_Frito_Buenos_Aires   \n",
      "9                                 la Estrella de Dimas   \n",
      "10                                      Restaurante 75   \n",
      "11                           Abondance Restaurante Bar   \n",
      "12                                El angel Restaurante   \n",
      "13                           Restaurante Pueblo Bonito   \n",
      "14                         Mcdonalds Parque Tangamanga   \n",
      "15                      Tortas y hamburguesas el gordo   \n",
      "16                                             Sirlone   \n",
      "17                                         rockabilly    \n",
      "18                                       Unicols Pizza   \n",
      "19                                      TACOS EL GUERO   \n",
      "20                    Restaurant El Muladar de Calzada   \n",
      "21                                La Posada del Virrey   \n",
      "22   Restaurant and Bar and Clothesline Carlos N Ch...   \n",
      "23                                                 KFC   \n",
      "24                                           Giovannis   \n",
      "25                         Restaurant Oriental Express   \n",
      "26                                  Mariscos Tia Licha   \n",
      "27                                          cafe ambar   \n",
      "28                             Restaurante la Gran Via   \n",
      "29                                        don burguers   \n",
      "..                                                 ...   \n",
      "100                               Sanborns Casa Piedra   \n",
      "101                               La Estrella de Dimas   \n",
      "102                                      pizza clasica   \n",
      "103              Carnitas Mata  Calle 16 de Septiembre   \n",
      "104                Restaurante de Mariscos la Langosta   \n",
      "105                       Restaurante Bar El Gallinero   \n",
      "106                                 puesto de gorditas   \n",
      "107                                            Log Yin   \n",
      "108                               Mariscos El Pescador   \n",
      "109              carnitas mata calle Emilio Portes Gil   \n",
      "110                                           crudalia   \n",
      "111                 tacos de barbacoa enfrente del Tec   \n",
      "112                           Restaurant Las Mananitas   \n",
      "113                      Restaurante El Cielo Potosino   \n",
      "114                                             Mikasa   \n",
      "115                                  Cafeteria cenidet   \n",
      "116                               Restaurante Tiberius   \n",
      "117                                    Cabana Huasteca   \n",
      "118                                 Gorditas Dona Tota   \n",
      "119                 Cafeteria y Restaurant El Pacifico   \n",
      "120                                        La Virreina   \n",
      "121                             Tortas Locas Hipocampo   \n",
      "122                                          tacos abi   \n",
      "123                              la perica hamburguesa   \n",
      "124                                   McDonalds Centro   \n",
      "125                                            Chaires   \n",
      "126                                         Sushi Itto   \n",
      "127                                          Paniroles   \n",
      "128                        Restaurant Bar Coty y Pablo   \n",
      "129                                   sirloin stockade   \n",
      "\n",
      "                                             address             city  \\\n",
      "0                                         Revolucion       Cuernavaca   \n",
      "1             esquina santos degollado y leon guzman           s.l.p.   \n",
      "2                                    Universidad 169  San Luis Potosi   \n",
      "3                            calle emilio portes gil        victoria    \n",
      "4                             lic. Emilio portes gil         victoria   \n",
      "5                     Camino a Simon Diaz 155 Centro  San Luis Potosi   \n",
      "6                   Calle Mezquite Fracc Framboyanes      Cd Victoria   \n",
      "7                                                  ?                ?   \n",
      "8                                            tampico         victoria   \n",
      "9                  Villa de Pozos 192 Villa de Pozos  San Luis Potosi   \n",
      "10                Villa de Pozos 4497 Villa de Pozos  San Luis Potosi   \n",
      "11                       Industrias 908 Valle Dorado  San Luis Potosi   \n",
      "12                   Venustiano Carranza 1625 Jardin  San Luis Potosi   \n",
      "13                           Mexico 2015 Providencia  San Luis Potosi   \n",
      "14               Lateral Salvador Nava Martinez 3145  San Luis Potosi   \n",
      "15                                  Ricardo B. Anaya  San Luis Potosi   \n",
      "16                                      carr. mexico  San Luis Potosi   \n",
      "17                               agustin de iturbide  san luis potosi   \n",
      "18                                  Plaza del Carmen  San Luis Potosi   \n",
      "19                                                 ?         victoria   \n",
      "20                    De Guadalupe 460 San Miguelito  San Luis Potosi   \n",
      "21                                   Av. V. Carranza  San Luis Potosi   \n",
      "22                        Domingo 10 711 El Empleado       Cuernavaca   \n",
      "23                                                 ?  San Luis Potosi   \n",
      "24                       40 Norte Civac 1RA. Seccion         Jiutepec   \n",
      "25                           Tangamanga 7 Tangamanga  San Luis Potosi   \n",
      "26                         avenida salvador montiel        cuernavaca   \n",
      "27                                                 ?                ?   \n",
      "28                    Venustiano Carranza 560 Centro  San Luis Potosi   \n",
      "29                         r.b. anaya esq. florencia              slp   \n",
      "..                                               ...              ...   \n",
      "100                                Lomas del Mirador       Cuernavaca   \n",
      "101                              Av. de los Pintores  San Luis Potosi   \n",
      "102                  524 Soledad de Graciano Sanchez          Soledad   \n",
      "103                                 16 de Septiembre        victoria    \n",
      "104           Cordillera de Los Alpes 675 Loma Verde  San Luis Potosi   \n",
      "105                  Pascual M. Hernandez 210 Centro  San Luis Potosi   \n",
      "106                            frente al tecnologico         victoria   \n",
      "107                                                ?                ?   \n",
      "108                   Himno Nacional 2104 Tangamanga  San Luis Potosi   \n",
      "109                                Emilio Portes Gil         victoria   \n",
      "110                                                ?                ?   \n",
      "111                                                ?                ?   \n",
      "112                              Ricardo Linares 107       Cuernavaca   \n",
      "113                   Julian de Los Reyes 400 Centro  San Luis Potosi   \n",
      "114                 Himno nacional esq. Blvd. Juarez       Cuernavaca   \n",
      "115                    Interior Internado Palmira SN       Cuernavaca   \n",
      "116                                  Munoz Sn Centro  San Luis Potosi   \n",
      "117                                   Cuauhtemoc 455  San Luis Potosi   \n",
      "118                                                ?                ?   \n",
      "119                          Constitucion 200 Centro  San Luis Potosi   \n",
      "120                                 Av. Carranza 830  San Luis Potosi   \n",
      "121                   Venustiano Carranza 719 Centro  San Luis Potosi   \n",
      "122                                                ?         victoria   \n",
      "123                                                ?         victoria   \n",
      "124                             Rayon sn col. Centro       Cuernavaca   \n",
      "125                                 Ricardo B. Anaya  San Luis Potosi   \n",
      "126               Venustiano Carranza 1809 C Polanco  San Luis Potosi   \n",
      "127                                                ?                ?   \n",
      "128  Paseo de Las Fuentes 24 Pedregal de Las Fuentes         Jiutepec   \n",
      "129                                                ?                ?   \n",
      "\n",
      "               state country fax      ...                  alcohol  \\\n",
      "0            Morelos  Mexico   ?      ...        No_Alcohol_Served   \n",
      "1             s.l.p.  mexico   ?      ...        No_Alcohol_Served   \n",
      "2    San Luis Potosi  Mexico   ?      ...                Wine-Beer   \n",
      "3         tamaulipas       ?   ?      ...        No_Alcohol_Served   \n",
      "4         Tamaulipas  Mexico   ?      ...        No_Alcohol_Served   \n",
      "5                SLP  Mexico   ?      ...                Wine-Beer   \n",
      "6         Tamaulipas  Mexico   ?      ...        No_Alcohol_Served   \n",
      "7                  ?       ?   ?      ...                Wine-Beer   \n",
      "8         Tamaulipas  Mexico   ?      ...        No_Alcohol_Served   \n",
      "9                SLP  Mexico   ?      ...        No_Alcohol_Served   \n",
      "10               SLP  Mexico   ?      ...        No_Alcohol_Served   \n",
      "11               SLP  Mexico   ?      ...                Wine-Beer   \n",
      "12               SLP  Mexico   ?      ...                Wine-Beer   \n",
      "13               SLP  Mexico   ?      ...                Wine-Beer   \n",
      "14               SLP  Mexico   ?      ...        No_Alcohol_Served   \n",
      "15   San Luis Potosi  Mexico   ?      ...        No_Alcohol_Served   \n",
      "16   San Luis Potosi  Mexico   ?      ...                Wine-Beer   \n",
      "17   san luis potosi  mexico   ?      ...                 Full_Bar   \n",
      "18   San Luis Potosi  Mexico   ?      ...                Wine-Beer   \n",
      "19        tamaulipas  mexico   ?      ...        No_Alcohol_Served   \n",
      "20               SLP  Mexico   ?      ...        No_Alcohol_Served   \n",
      "21   San Luis Potosi  Mexico   ?      ...                Wine-Beer   \n",
      "22           Morelos  Mexico   ?      ...                 Full_Bar   \n",
      "23   San Luis Potosi  Mexico   ?      ...        No_Alcohol_Served   \n",
      "24           Morelos  Mexico   ?      ...        No_Alcohol_Served   \n",
      "25               SLP  Mexico   ?      ...        No_Alcohol_Served   \n",
      "26           morelos  mexico   ?      ...        No_Alcohol_Served   \n",
      "27                 ?       ?   ?      ...        No_Alcohol_Served   \n",
      "28               SLP  Mexico   ?      ...                Wine-Beer   \n",
      "29               slp  mexico   ?      ...        No_Alcohol_Served   \n",
      "..               ...     ...  ..      ...                      ...   \n",
      "100          Morelos  Mexico   ?      ...                Wine-Beer   \n",
      "101           S.L.P.  Mexico   ?      ...        No_Alcohol_Served   \n",
      "102              SLP  Mexico   ?      ...        No_Alcohol_Served   \n",
      "103       tamaulipas       ?   ?      ...        No_Alcohol_Served   \n",
      "104              SLP  Mexico   ?      ...        No_Alcohol_Served   \n",
      "105              SLP  Mexico   ?      ...                Wine-Beer   \n",
      "106       tamaulipas  mexico   ?      ...        No_Alcohol_Served   \n",
      "107                ?       ?   ?      ...        No_Alcohol_Served   \n",
      "108              SLP  Mexico   ?      ...        No_Alcohol_Served   \n",
      "109       tamaulipas       ?   ?      ...        No_Alcohol_Served   \n",
      "110                ?       ?   ?      ...                Wine-Beer   \n",
      "111                ?       ?   ?      ...        No_Alcohol_Served   \n",
      "112          Morelos  Mexico   ?      ...                Wine-Beer   \n",
      "113              SLP  Mexico   ?      ...        No_Alcohol_Served   \n",
      "114          Morelos  Mexico   ?      ...                Wine-Beer   \n",
      "115          Morelos  Mexico   ?      ...        No_Alcohol_Served   \n",
      "116              SLP  Mexico   ?      ...        No_Alcohol_Served   \n",
      "117           S.L.P.  Mexico   ?      ...        No_Alcohol_Served   \n",
      "118                ?       ?   ?      ...        No_Alcohol_Served   \n",
      "119              SLP  Mexico   ?      ...                Wine-Beer   \n",
      "120              SLP  Mexico   ?      ...                Wine-Beer   \n",
      "121              SLP  Mexico   ?      ...        No_Alcohol_Served   \n",
      "122       tamaulipas  mexico   ?      ...        No_Alcohol_Served   \n",
      "123       tamaulipas       ?   ?      ...        No_Alcohol_Served   \n",
      "124          Morelos  Mexico   ?      ...        No_Alcohol_Served   \n",
      "125  San Luis Potosi  Mexico   ?      ...        No_Alcohol_Served   \n",
      "126              SLP  Mexico   ?      ...        No_Alcohol_Served   \n",
      "127                ?       ?   ?      ...                Wine-Beer   \n",
      "128          Morelos  Mexico   ?      ...        No_Alcohol_Served   \n",
      "129                ?       ?   ?      ...        No_Alcohol_Served   \n",
      "\n",
      "      smoking_area dress_code     accessibility   price  \\\n",
      "0             none   informal  no_accessibility  medium   \n",
      "1             none   informal        completely     low   \n",
      "2      only at bar   informal         partially  medium   \n",
      "3             none   informal        completely     low   \n",
      "4        permitted   informal        completely  medium   \n",
      "5             none   informal  no_accessibility    high   \n",
      "6             none     casual        completely     low   \n",
      "7          section   informal  no_accessibility    high   \n",
      "8    not permitted   informal        completely     low   \n",
      "9             none   informal  no_accessibility  medium   \n",
      "10            none   informal  no_accessibility  medium   \n",
      "11            none   informal  no_accessibility     low   \n",
      "12         section   informal  no_accessibility    high   \n",
      "13            none   informal  no_accessibility    high   \n",
      "14   not permitted   informal  no_accessibility  medium   \n",
      "15   not permitted   informal  no_accessibility     low   \n",
      "16            none   informal        completely  medium   \n",
      "17         section   informal        completely     low   \n",
      "18            none   informal        completely     low   \n",
      "19            none   informal        completely     low   \n",
      "20         section   informal  no_accessibility  medium   \n",
      "21            none     casual        completely    high   \n",
      "22         section   informal  no_accessibility    high   \n",
      "23   not permitted   informal        completely     low   \n",
      "24            none   informal  no_accessibility     low   \n",
      "25            none   informal  no_accessibility  medium   \n",
      "26   not permitted     casual         partially  medium   \n",
      "27            none   informal        completely     low   \n",
      "28            none     casual  no_accessibility    high   \n",
      "29            none   informal  no_accessibility     low   \n",
      "..             ...        ...               ...     ...   \n",
      "100    only at bar   informal  no_accessibility  medium   \n",
      "101           none   informal         partially  medium   \n",
      "102           none   informal  no_accessibility  medium   \n",
      "103           none   informal        completely     low   \n",
      "104           none   informal  no_accessibility  medium   \n",
      "105        section   informal  no_accessibility    high   \n",
      "106      permitted   informal  no_accessibility     low   \n",
      "107           none   informal  no_accessibility     low   \n",
      "108           none   informal  no_accessibility  medium   \n",
      "109           none   informal        completely     low   \n",
      "110        section     casual        completely     low   \n",
      "111  not permitted   informal        completely     low   \n",
      "112           none     formal  no_accessibility    high   \n",
      "113           none   informal  no_accessibility  medium   \n",
      "114           none   informal  no_accessibility  medium   \n",
      "115  not permitted   informal  no_accessibility     low   \n",
      "116           none   informal  no_accessibility  medium   \n",
      "117           none   informal         partially  medium   \n",
      "118  not permitted   informal        completely  medium   \n",
      "119        section   informal  no_accessibility  medium   \n",
      "120           none   informal  no_accessibility  medium   \n",
      "121  not permitted   informal  no_accessibility  medium   \n",
      "122           none   informal        completely     low   \n",
      "123           none   informal        completely  medium   \n",
      "124  not permitted   informal         partially     low   \n",
      "125  not permitted   informal        completely  medium   \n",
      "126           none   informal  no_accessibility  medium   \n",
      "127  not permitted   informal  no_accessibility  medium   \n",
      "128           none   informal        completely     low   \n",
      "129           none   informal        completely     low   \n",
      "\n",
      "                       url Rambience franchise    area other_services  \n",
      "0    kikucuernavaca.com.mx  familiar         f  closed           none  \n",
      "1                        ?  familiar         f    open           none  \n",
      "2                        ?  familiar         f    open           none  \n",
      "3                        ?  familiar         t  closed           none  \n",
      "4                        ?  familiar         t  closed           none  \n",
      "5                        ?  familiar         f  closed           none  \n",
      "6                        ?  familiar         f    open           none  \n",
      "7                        ?  familiar         t    open       Internet  \n",
      "8                        ?     quiet         t  closed           none  \n",
      "9                        ?  familiar         f  closed           none  \n",
      "10                       ?  familiar         f  closed           none  \n",
      "11                       ?  familiar         f  closed           none  \n",
      "12                       ?  familiar         f  closed           none  \n",
      "13                       ?  familiar         f  closed           none  \n",
      "14                       ?  familiar         t  closed           none  \n",
      "15                       ?  familiar         f  closed           none  \n",
      "16                       ?  familiar         f  closed           none  \n",
      "17                       ?     quiet         f  closed        variety  \n",
      "18                       ?  familiar         f  closed           none  \n",
      "19                       ?  familiar         f  closed           none  \n",
      "20                       ?  familiar         f  closed           none  \n",
      "21                       ?  familiar         f  closed           none  \n",
      "22   carlosandcharlies.com  familiar         f  closed           none  \n",
      "23                       ?  familiar         f  closed           none  \n",
      "24                       ?  familiar         f  closed           none  \n",
      "25                       ?  familiar         f  closed           none  \n",
      "26                       ?  familiar         t  closed           none  \n",
      "27                       ?  familiar         f  closed           none  \n",
      "28        lagranvia.com.mx  familiar         f  closed           none  \n",
      "29                       ?  familiar         f    open           none  \n",
      "..                     ...       ...       ...     ...            ...  \n",
      "100                      ?  familiar         t  closed       Internet  \n",
      "101                      ?  familiar         f  closed        variety  \n",
      "102                      ?  familiar         f  closed           none  \n",
      "103                      ?  familiar         f  closed           none  \n",
      "104                      ?  familiar         f  closed           none  \n",
      "105                      ?  familiar         f  closed           none  \n",
      "106                      ?  familiar         f    open           none  \n",
      "107                      ?  familiar         f  closed           none  \n",
      "108                      ?  familiar         f  closed           none  \n",
      "109                      ?  familiar         f  closed           none  \n",
      "110                      ?     quiet         f    open           none  \n",
      "111                      ?  familiar         f    open           none  \n",
      "112    lasmananitas.com.mx  familiar         f  closed           none  \n",
      "113                      ?  familiar         f  closed           none  \n",
      "114                      ?  familiar         f  closed           none  \n",
      "115     www.cenidet.edu.mx     quiet         f  closed           none  \n",
      "116                      ?  familiar         t  closed           none  \n",
      "117                      ?  familiar         f  closed           none  \n",
      "118                      ?  familiar         t  closed           none  \n",
      "119                      ?  familiar         f  closed           none  \n",
      "120                      ?  familiar         f  closed           none  \n",
      "121                      ?  familiar         f  closed           none  \n",
      "122                      ?  familiar         f  closed           none  \n",
      "123                      ?  familiar         t  closed           none  \n",
      "124                     no  familiar         t  closed           none  \n",
      "125                      ?  familiar         f  closed           none  \n",
      "126      sushi-itto.com.mx  familiar         f  closed           none  \n",
      "127                      ?     quiet         f  closed       Internet  \n",
      "128                      ?  familiar         f  closed           none  \n",
      "129                      ?  familiar         f  closed           none  \n",
      "\n",
      "[130 rows x 21 columns]\n"
     ]
    }
   ],
   "source": [
    "print(data)"
   ]
  },
  {
   "cell_type": "markdown",
   "metadata": {},
   "source": [
    "Вывведем 5 первых строк таблицы данных."
   ]
  },
  {
   "cell_type": "code",
   "execution_count": 6,
   "metadata": {},
   "outputs": [
    {
     "data": {
      "text/html": [
       "<div>\n",
       "<style>\n",
       "    .dataframe thead tr:only-child th {\n",
       "        text-align: right;\n",
       "    }\n",
       "\n",
       "    .dataframe thead th {\n",
       "        text-align: left;\n",
       "    }\n",
       "\n",
       "    .dataframe tbody tr th {\n",
       "        vertical-align: top;\n",
       "    }\n",
       "</style>\n",
       "<table border=\"1\" class=\"dataframe\">\n",
       "  <thead>\n",
       "    <tr style=\"text-align: right;\">\n",
       "      <th></th>\n",
       "      <th>placeID</th>\n",
       "      <th>latitude</th>\n",
       "      <th>longitude</th>\n",
       "      <th>the_geom_meter</th>\n",
       "      <th>name</th>\n",
       "      <th>address</th>\n",
       "      <th>city</th>\n",
       "      <th>state</th>\n",
       "      <th>country</th>\n",
       "      <th>fax</th>\n",
       "      <th>...</th>\n",
       "      <th>alcohol</th>\n",
       "      <th>smoking_area</th>\n",
       "      <th>dress_code</th>\n",
       "      <th>accessibility</th>\n",
       "      <th>price</th>\n",
       "      <th>url</th>\n",
       "      <th>Rambience</th>\n",
       "      <th>franchise</th>\n",
       "      <th>area</th>\n",
       "      <th>other_services</th>\n",
       "    </tr>\n",
       "  </thead>\n",
       "  <tbody>\n",
       "    <tr>\n",
       "      <th>0</th>\n",
       "      <td>134999</td>\n",
       "      <td>18.915421</td>\n",
       "      <td>-99.184871</td>\n",
       "      <td>0101000020957F000088568DE356715AC138C0A525FC46...</td>\n",
       "      <td>Kiku Cuernavaca</td>\n",
       "      <td>Revolucion</td>\n",
       "      <td>Cuernavaca</td>\n",
       "      <td>Morelos</td>\n",
       "      <td>Mexico</td>\n",
       "      <td>?</td>\n",
       "      <td>...</td>\n",
       "      <td>No_Alcohol_Served</td>\n",
       "      <td>none</td>\n",
       "      <td>informal</td>\n",
       "      <td>no_accessibility</td>\n",
       "      <td>medium</td>\n",
       "      <td>kikucuernavaca.com.mx</td>\n",
       "      <td>familiar</td>\n",
       "      <td>f</td>\n",
       "      <td>closed</td>\n",
       "      <td>none</td>\n",
       "    </tr>\n",
       "    <tr>\n",
       "      <th>1</th>\n",
       "      <td>132825</td>\n",
       "      <td>22.147392</td>\n",
       "      <td>-100.983092</td>\n",
       "      <td>0101000020957F00001AD016568C4858C1243261274BA5...</td>\n",
       "      <td>puesto de tacos</td>\n",
       "      <td>esquina santos degollado y leon guzman</td>\n",
       "      <td>s.l.p.</td>\n",
       "      <td>s.l.p.</td>\n",
       "      <td>mexico</td>\n",
       "      <td>?</td>\n",
       "      <td>...</td>\n",
       "      <td>No_Alcohol_Served</td>\n",
       "      <td>none</td>\n",
       "      <td>informal</td>\n",
       "      <td>completely</td>\n",
       "      <td>low</td>\n",
       "      <td>?</td>\n",
       "      <td>familiar</td>\n",
       "      <td>f</td>\n",
       "      <td>open</td>\n",
       "      <td>none</td>\n",
       "    </tr>\n",
       "    <tr>\n",
       "      <th>2</th>\n",
       "      <td>135106</td>\n",
       "      <td>22.149709</td>\n",
       "      <td>-100.976093</td>\n",
       "      <td>0101000020957F0000649D6F21634858C119AE9BF528A3...</td>\n",
       "      <td>El RincпїЅn de San Francisco</td>\n",
       "      <td>Universidad 169</td>\n",
       "      <td>San Luis Potosi</td>\n",
       "      <td>San Luis Potosi</td>\n",
       "      <td>Mexico</td>\n",
       "      <td>?</td>\n",
       "      <td>...</td>\n",
       "      <td>Wine-Beer</td>\n",
       "      <td>only at bar</td>\n",
       "      <td>informal</td>\n",
       "      <td>partially</td>\n",
       "      <td>medium</td>\n",
       "      <td>?</td>\n",
       "      <td>familiar</td>\n",
       "      <td>f</td>\n",
       "      <td>open</td>\n",
       "      <td>none</td>\n",
       "    </tr>\n",
       "    <tr>\n",
       "      <th>3</th>\n",
       "      <td>132667</td>\n",
       "      <td>23.752697</td>\n",
       "      <td>-99.163359</td>\n",
       "      <td>0101000020957F00005D67BCDDED8157C1222A2DC8D84D...</td>\n",
       "      <td>little pizza Emilio Portes Gil</td>\n",
       "      <td>calle emilio portes gil</td>\n",
       "      <td>victoria</td>\n",
       "      <td>tamaulipas</td>\n",
       "      <td>?</td>\n",
       "      <td>?</td>\n",
       "      <td>...</td>\n",
       "      <td>No_Alcohol_Served</td>\n",
       "      <td>none</td>\n",
       "      <td>informal</td>\n",
       "      <td>completely</td>\n",
       "      <td>low</td>\n",
       "      <td>?</td>\n",
       "      <td>familiar</td>\n",
       "      <td>t</td>\n",
       "      <td>closed</td>\n",
       "      <td>none</td>\n",
       "    </tr>\n",
       "    <tr>\n",
       "      <th>4</th>\n",
       "      <td>132613</td>\n",
       "      <td>23.752903</td>\n",
       "      <td>-99.165076</td>\n",
       "      <td>0101000020957F00008EBA2D06DC8157C194E03B7B504E...</td>\n",
       "      <td>carnitas_mata</td>\n",
       "      <td>lic. Emilio portes gil</td>\n",
       "      <td>victoria</td>\n",
       "      <td>Tamaulipas</td>\n",
       "      <td>Mexico</td>\n",
       "      <td>?</td>\n",
       "      <td>...</td>\n",
       "      <td>No_Alcohol_Served</td>\n",
       "      <td>permitted</td>\n",
       "      <td>informal</td>\n",
       "      <td>completely</td>\n",
       "      <td>medium</td>\n",
       "      <td>?</td>\n",
       "      <td>familiar</td>\n",
       "      <td>t</td>\n",
       "      <td>closed</td>\n",
       "      <td>none</td>\n",
       "    </tr>\n",
       "  </tbody>\n",
       "</table>\n",
       "<p>5 rows × 21 columns</p>\n",
       "</div>"
      ],
      "text/plain": [
       "   placeID   latitude   longitude  \\\n",
       "0   134999  18.915421  -99.184871   \n",
       "1   132825  22.147392 -100.983092   \n",
       "2   135106  22.149709 -100.976093   \n",
       "3   132667  23.752697  -99.163359   \n",
       "4   132613  23.752903  -99.165076   \n",
       "\n",
       "                                      the_geom_meter  \\\n",
       "0  0101000020957F000088568DE356715AC138C0A525FC46...   \n",
       "1  0101000020957F00001AD016568C4858C1243261274BA5...   \n",
       "2  0101000020957F0000649D6F21634858C119AE9BF528A3...   \n",
       "3  0101000020957F00005D67BCDDED8157C1222A2DC8D84D...   \n",
       "4  0101000020957F00008EBA2D06DC8157C194E03B7B504E...   \n",
       "\n",
       "                             name                                 address  \\\n",
       "0                 Kiku Cuernavaca                              Revolucion   \n",
       "1                 puesto de tacos  esquina santos degollado y leon guzman   \n",
       "2    El RincпїЅn de San Francisco                         Universidad 169   \n",
       "3  little pizza Emilio Portes Gil                 calle emilio portes gil   \n",
       "4                   carnitas_mata                  lic. Emilio portes gil   \n",
       "\n",
       "              city            state country fax      ...        \\\n",
       "0       Cuernavaca          Morelos  Mexico   ?      ...         \n",
       "1           s.l.p.           s.l.p.  mexico   ?      ...         \n",
       "2  San Luis Potosi  San Luis Potosi  Mexico   ?      ...         \n",
       "3        victoria        tamaulipas       ?   ?      ...         \n",
       "4         victoria       Tamaulipas  Mexico   ?      ...         \n",
       "\n",
       "             alcohol smoking_area dress_code     accessibility   price  \\\n",
       "0  No_Alcohol_Served         none   informal  no_accessibility  medium   \n",
       "1  No_Alcohol_Served         none   informal        completely     low   \n",
       "2          Wine-Beer  only at bar   informal         partially  medium   \n",
       "3  No_Alcohol_Served         none   informal        completely     low   \n",
       "4  No_Alcohol_Served    permitted   informal        completely  medium   \n",
       "\n",
       "                     url Rambience franchise    area other_services  \n",
       "0  kikucuernavaca.com.mx  familiar         f  closed           none  \n",
       "1                      ?  familiar         f    open           none  \n",
       "2                      ?  familiar         f    open           none  \n",
       "3                      ?  familiar         t  closed           none  \n",
       "4                      ?  familiar         t  closed           none  \n",
       "\n",
       "[5 rows x 21 columns]"
      ]
     },
     "execution_count": 6,
     "metadata": {},
     "output_type": "execute_result"
    }
   ],
   "source": [
    "data.head()"
   ]
  },
  {
   "cell_type": "markdown",
   "metadata": {},
   "source": [
    "Выведем последние 5 строк таблицы данных."
   ]
  },
  {
   "cell_type": "code",
   "execution_count": 7,
   "metadata": {},
   "outputs": [
    {
     "data": {
      "text/html": [
       "<div>\n",
       "<style>\n",
       "    .dataframe thead tr:only-child th {\n",
       "        text-align: right;\n",
       "    }\n",
       "\n",
       "    .dataframe thead th {\n",
       "        text-align: left;\n",
       "    }\n",
       "\n",
       "    .dataframe tbody tr th {\n",
       "        vertical-align: top;\n",
       "    }\n",
       "</style>\n",
       "<table border=\"1\" class=\"dataframe\">\n",
       "  <thead>\n",
       "    <tr style=\"text-align: right;\">\n",
       "      <th></th>\n",
       "      <th>placeID</th>\n",
       "      <th>latitude</th>\n",
       "      <th>longitude</th>\n",
       "      <th>the_geom_meter</th>\n",
       "      <th>name</th>\n",
       "      <th>address</th>\n",
       "      <th>city</th>\n",
       "      <th>state</th>\n",
       "      <th>country</th>\n",
       "      <th>fax</th>\n",
       "      <th>...</th>\n",
       "      <th>alcohol</th>\n",
       "      <th>smoking_area</th>\n",
       "      <th>dress_code</th>\n",
       "      <th>accessibility</th>\n",
       "      <th>price</th>\n",
       "      <th>url</th>\n",
       "      <th>Rambience</th>\n",
       "      <th>franchise</th>\n",
       "      <th>area</th>\n",
       "      <th>other_services</th>\n",
       "    </tr>\n",
       "  </thead>\n",
       "  <tbody>\n",
       "    <tr>\n",
       "      <th>125</th>\n",
       "      <td>132866</td>\n",
       "      <td>22.141220</td>\n",
       "      <td>-100.931311</td>\n",
       "      <td>0101000020957F000013871838EC4A58C1B5DF74F8E396...</td>\n",
       "      <td>Chaires</td>\n",
       "      <td>Ricardo B. Anaya</td>\n",
       "      <td>San Luis Potosi</td>\n",
       "      <td>San Luis Potosi</td>\n",
       "      <td>Mexico</td>\n",
       "      <td>?</td>\n",
       "      <td>...</td>\n",
       "      <td>No_Alcohol_Served</td>\n",
       "      <td>not permitted</td>\n",
       "      <td>informal</td>\n",
       "      <td>completely</td>\n",
       "      <td>medium</td>\n",
       "      <td>?</td>\n",
       "      <td>familiar</td>\n",
       "      <td>f</td>\n",
       "      <td>closed</td>\n",
       "      <td>none</td>\n",
       "    </tr>\n",
       "    <tr>\n",
       "      <th>126</th>\n",
       "      <td>135072</td>\n",
       "      <td>22.149192</td>\n",
       "      <td>-101.002936</td>\n",
       "      <td>0101000020957F0000E7B79B1DB94758C1D29BC363D8AA...</td>\n",
       "      <td>Sushi Itto</td>\n",
       "      <td>Venustiano Carranza 1809 C Polanco</td>\n",
       "      <td>San Luis Potosi</td>\n",
       "      <td>SLP</td>\n",
       "      <td>Mexico</td>\n",
       "      <td>?</td>\n",
       "      <td>...</td>\n",
       "      <td>No_Alcohol_Served</td>\n",
       "      <td>none</td>\n",
       "      <td>informal</td>\n",
       "      <td>no_accessibility</td>\n",
       "      <td>medium</td>\n",
       "      <td>sushi-itto.com.mx</td>\n",
       "      <td>familiar</td>\n",
       "      <td>f</td>\n",
       "      <td>closed</td>\n",
       "      <td>none</td>\n",
       "    </tr>\n",
       "    <tr>\n",
       "      <th>127</th>\n",
       "      <td>135109</td>\n",
       "      <td>18.921785</td>\n",
       "      <td>-99.235350</td>\n",
       "      <td>0101000020957F0000A6BF695F136F5AC1DADF87B20556...</td>\n",
       "      <td>Paniroles</td>\n",
       "      <td>?</td>\n",
       "      <td>?</td>\n",
       "      <td>?</td>\n",
       "      <td>?</td>\n",
       "      <td>?</td>\n",
       "      <td>...</td>\n",
       "      <td>Wine-Beer</td>\n",
       "      <td>not permitted</td>\n",
       "      <td>informal</td>\n",
       "      <td>no_accessibility</td>\n",
       "      <td>medium</td>\n",
       "      <td>?</td>\n",
       "      <td>quiet</td>\n",
       "      <td>f</td>\n",
       "      <td>closed</td>\n",
       "      <td>Internet</td>\n",
       "    </tr>\n",
       "    <tr>\n",
       "      <th>128</th>\n",
       "      <td>135019</td>\n",
       "      <td>18.875011</td>\n",
       "      <td>-99.159422</td>\n",
       "      <td>0101000020957F0000B49B2E5C6E785AC12F9D58435241...</td>\n",
       "      <td>Restaurant Bar Coty y Pablo</td>\n",
       "      <td>Paseo de Las Fuentes 24 Pedregal de Las Fuentes</td>\n",
       "      <td>Jiutepec</td>\n",
       "      <td>Morelos</td>\n",
       "      <td>Mexico</td>\n",
       "      <td>?</td>\n",
       "      <td>...</td>\n",
       "      <td>No_Alcohol_Served</td>\n",
       "      <td>none</td>\n",
       "      <td>informal</td>\n",
       "      <td>completely</td>\n",
       "      <td>low</td>\n",
       "      <td>?</td>\n",
       "      <td>familiar</td>\n",
       "      <td>f</td>\n",
       "      <td>closed</td>\n",
       "      <td>none</td>\n",
       "    </tr>\n",
       "    <tr>\n",
       "      <th>129</th>\n",
       "      <td>132877</td>\n",
       "      <td>22.135364</td>\n",
       "      <td>-100.934948</td>\n",
       "      <td>0101000020957F000090735015B84B58C1AF0DC0414698...</td>\n",
       "      <td>sirloin stockade</td>\n",
       "      <td>?</td>\n",
       "      <td>?</td>\n",
       "      <td>?</td>\n",
       "      <td>?</td>\n",
       "      <td>?</td>\n",
       "      <td>...</td>\n",
       "      <td>No_Alcohol_Served</td>\n",
       "      <td>none</td>\n",
       "      <td>informal</td>\n",
       "      <td>completely</td>\n",
       "      <td>low</td>\n",
       "      <td>?</td>\n",
       "      <td>familiar</td>\n",
       "      <td>f</td>\n",
       "      <td>closed</td>\n",
       "      <td>none</td>\n",
       "    </tr>\n",
       "  </tbody>\n",
       "</table>\n",
       "<p>5 rows × 21 columns</p>\n",
       "</div>"
      ],
      "text/plain": [
       "     placeID   latitude   longitude  \\\n",
       "125   132866  22.141220 -100.931311   \n",
       "126   135072  22.149192 -101.002936   \n",
       "127   135109  18.921785  -99.235350   \n",
       "128   135019  18.875011  -99.159422   \n",
       "129   132877  22.135364 -100.934948   \n",
       "\n",
       "                                        the_geom_meter  \\\n",
       "125  0101000020957F000013871838EC4A58C1B5DF74F8E396...   \n",
       "126  0101000020957F0000E7B79B1DB94758C1D29BC363D8AA...   \n",
       "127  0101000020957F0000A6BF695F136F5AC1DADF87B20556...   \n",
       "128  0101000020957F0000B49B2E5C6E785AC12F9D58435241...   \n",
       "129  0101000020957F000090735015B84B58C1AF0DC0414698...   \n",
       "\n",
       "                            name  \\\n",
       "125                      Chaires   \n",
       "126                   Sushi Itto   \n",
       "127                    Paniroles   \n",
       "128  Restaurant Bar Coty y Pablo   \n",
       "129             sirloin stockade   \n",
       "\n",
       "                                             address             city  \\\n",
       "125                                 Ricardo B. Anaya  San Luis Potosi   \n",
       "126               Venustiano Carranza 1809 C Polanco  San Luis Potosi   \n",
       "127                                                ?                ?   \n",
       "128  Paseo de Las Fuentes 24 Pedregal de Las Fuentes         Jiutepec   \n",
       "129                                                ?                ?   \n",
       "\n",
       "               state country fax      ...                  alcohol  \\\n",
       "125  San Luis Potosi  Mexico   ?      ...        No_Alcohol_Served   \n",
       "126              SLP  Mexico   ?      ...        No_Alcohol_Served   \n",
       "127                ?       ?   ?      ...                Wine-Beer   \n",
       "128          Morelos  Mexico   ?      ...        No_Alcohol_Served   \n",
       "129                ?       ?   ?      ...        No_Alcohol_Served   \n",
       "\n",
       "      smoking_area dress_code     accessibility   price                url  \\\n",
       "125  not permitted   informal        completely  medium                  ?   \n",
       "126           none   informal  no_accessibility  medium  sushi-itto.com.mx   \n",
       "127  not permitted   informal  no_accessibility  medium                  ?   \n",
       "128           none   informal        completely     low                  ?   \n",
       "129           none   informal        completely     low                  ?   \n",
       "\n",
       "    Rambience franchise    area other_services  \n",
       "125  familiar         f  closed           none  \n",
       "126  familiar         f  closed           none  \n",
       "127     quiet         f  closed       Internet  \n",
       "128  familiar         f  closed           none  \n",
       "129  familiar         f  closed           none  \n",
       "\n",
       "[5 rows x 21 columns]"
      ]
     },
     "execution_count": 7,
     "metadata": {},
     "output_type": "execute_result"
    }
   ],
   "source": [
    "data.tail()"
   ]
  },
  {
   "cell_type": "markdown",
   "metadata": {},
   "source": [
    "Посмотрим, сколько данных хранится и выведем название столбцов."
   ]
  },
  {
   "cell_type": "code",
   "execution_count": 8,
   "metadata": {},
   "outputs": [
    {
     "name": "stdout",
     "output_type": "stream",
     "text": [
      "(130, 21)\n",
      "Index(['placeID', 'latitude', 'longitude', 'the_geom_meter', 'name', 'address',\n",
      "       'city', 'state', 'country', 'fax', 'zip', 'alcohol', 'smoking_area',\n",
      "       'dress_code', 'accessibility', 'price', 'url', 'Rambience', 'franchise',\n",
      "       'area', 'other_services'],\n",
      "      dtype='object')\n"
     ]
    }
   ],
   "source": [
    "print(data.shape)\n",
    "print(data.columns)"
   ]
  },
  {
   "cell_type": "markdown",
   "metadata": {},
   "source": [
    "Имеем 130 строк и 21 столбец. Названия столбцов так же выведены."
   ]
  },
  {
   "cell_type": "markdown",
   "metadata": {},
   "source": [
    "Испытаем еще некоторые команды."
   ]
  },
  {
   "cell_type": "code",
   "execution_count": 9,
   "metadata": {},
   "outputs": [
    {
     "data": {
      "text/plain": [
       "RangeIndex(start=0, stop=130, step=1)"
      ]
     },
     "execution_count": 9,
     "metadata": {},
     "output_type": "execute_result"
    }
   ],
   "source": [
    "data.index"
   ]
  },
  {
   "cell_type": "code",
   "execution_count": 10,
   "metadata": {},
   "outputs": [
    {
     "data": {
      "text/plain": [
       "'Abondance Restaurante Bar'"
      ]
     },
     "execution_count": 10,
     "metadata": {},
     "output_type": "execute_result"
    }
   ],
   "source": [
    "data.at[11, 'name']"
   ]
  },
  {
   "cell_type": "code",
   "execution_count": 11,
   "metadata": {},
   "outputs": [
    {
     "data": {
      "text/plain": [
       "0          none\n",
       "1          none\n",
       "2          none\n",
       "3          none\n",
       "4          none\n",
       "5          none\n",
       "6          none\n",
       "7      Internet\n",
       "8          none\n",
       "9          none\n",
       "10         none\n",
       "11         none\n",
       "12         none\n",
       "13         none\n",
       "14         none\n",
       "15         none\n",
       "16         none\n",
       "17      variety\n",
       "18         none\n",
       "19         none\n",
       "20         none\n",
       "21         none\n",
       "22         none\n",
       "23         none\n",
       "24         none\n",
       "25         none\n",
       "26         none\n",
       "27         none\n",
       "28         none\n",
       "29         none\n",
       "         ...   \n",
       "100    Internet\n",
       "101     variety\n",
       "102        none\n",
       "103        none\n",
       "104        none\n",
       "105        none\n",
       "106        none\n",
       "107        none\n",
       "108        none\n",
       "109        none\n",
       "110        none\n",
       "111        none\n",
       "112        none\n",
       "113        none\n",
       "114        none\n",
       "115        none\n",
       "116        none\n",
       "117        none\n",
       "118        none\n",
       "119        none\n",
       "120        none\n",
       "121        none\n",
       "122        none\n",
       "123        none\n",
       "124        none\n",
       "125        none\n",
       "126        none\n",
       "127    Internet\n",
       "128        none\n",
       "129        none\n",
       "Name: other_services, Length: 130, dtype: object"
      ]
     },
     "execution_count": 11,
     "metadata": {},
     "output_type": "execute_result"
    }
   ],
   "source": [
    "data['other_services']"
   ]
  },
  {
   "cell_type": "markdown",
   "metadata": {},
   "source": [
    "Выведем все числовые признаки."
   ]
  },
  {
   "cell_type": "code",
   "execution_count": 12,
   "metadata": {},
   "outputs": [
    {
     "data": {
      "text/html": [
       "<div>\n",
       "<style>\n",
       "    .dataframe thead tr:only-child th {\n",
       "        text-align: right;\n",
       "    }\n",
       "\n",
       "    .dataframe thead th {\n",
       "        text-align: left;\n",
       "    }\n",
       "\n",
       "    .dataframe tbody tr th {\n",
       "        vertical-align: top;\n",
       "    }\n",
       "</style>\n",
       "<table border=\"1\" class=\"dataframe\">\n",
       "  <thead>\n",
       "    <tr style=\"text-align: right;\">\n",
       "      <th></th>\n",
       "      <th>placeID</th>\n",
       "      <th>latitude</th>\n",
       "      <th>longitude</th>\n",
       "    </tr>\n",
       "  </thead>\n",
       "  <tbody>\n",
       "    <tr>\n",
       "      <th>count</th>\n",
       "      <td>130.000000</td>\n",
       "      <td>130.000000</td>\n",
       "      <td>130.000000</td>\n",
       "    </tr>\n",
       "    <tr>\n",
       "      <th>mean</th>\n",
       "      <td>134012.784615</td>\n",
       "      <td>21.858863</td>\n",
       "      <td>-100.342933</td>\n",
       "    </tr>\n",
       "    <tr>\n",
       "      <th>std</th>\n",
       "      <td>1140.644582</td>\n",
       "      <td>1.496830</td>\n",
       "      <td>0.860585</td>\n",
       "    </tr>\n",
       "    <tr>\n",
       "      <th>min</th>\n",
       "      <td>132560.000000</td>\n",
       "      <td>18.859803</td>\n",
       "      <td>-101.028600</td>\n",
       "    </tr>\n",
       "    <tr>\n",
       "      <th>25%</th>\n",
       "      <td>132831.000000</td>\n",
       "      <td>22.139574</td>\n",
       "      <td>-100.987838</td>\n",
       "    </tr>\n",
       "    <tr>\n",
       "      <th>50%</th>\n",
       "      <td>134994.000000</td>\n",
       "      <td>22.149063</td>\n",
       "      <td>-100.956777</td>\n",
       "    </tr>\n",
       "    <tr>\n",
       "      <th>75%</th>\n",
       "      <td>135050.750000</td>\n",
       "      <td>22.160125</td>\n",
       "      <td>-99.220458</td>\n",
       "    </tr>\n",
       "    <tr>\n",
       "      <th>max</th>\n",
       "      <td>135109.000000</td>\n",
       "      <td>23.760268</td>\n",
       "      <td>-99.126506</td>\n",
       "    </tr>\n",
       "  </tbody>\n",
       "</table>\n",
       "</div>"
      ],
      "text/plain": [
       "             placeID    latitude   longitude\n",
       "count     130.000000  130.000000  130.000000\n",
       "mean   134012.784615   21.858863 -100.342933\n",
       "std      1140.644582    1.496830    0.860585\n",
       "min    132560.000000   18.859803 -101.028600\n",
       "25%    132831.000000   22.139574 -100.987838\n",
       "50%    134994.000000   22.149063 -100.956777\n",
       "75%    135050.750000   22.160125  -99.220458\n",
       "max    135109.000000   23.760268  -99.126506"
      ]
     },
     "execution_count": 12,
     "metadata": {},
     "output_type": "execute_result"
    }
   ],
   "source": [
    "data.describe()"
   ]
  },
  {
   "cell_type": "markdown",
   "metadata": {},
   "source": [
    "Вычеслим корреляцию между ними, выведем на экран."
   ]
  },
  {
   "cell_type": "code",
   "execution_count": 13,
   "metadata": {},
   "outputs": [
    {
     "data": {
      "text/html": [
       "<div>\n",
       "<style>\n",
       "    .dataframe thead tr:only-child th {\n",
       "        text-align: right;\n",
       "    }\n",
       "\n",
       "    .dataframe thead th {\n",
       "        text-align: left;\n",
       "    }\n",
       "\n",
       "    .dataframe tbody tr th {\n",
       "        vertical-align: top;\n",
       "    }\n",
       "</style>\n",
       "<table border=\"1\" class=\"dataframe\">\n",
       "  <thead>\n",
       "    <tr style=\"text-align: right;\">\n",
       "      <th></th>\n",
       "      <th>placeID</th>\n",
       "      <th>latitude</th>\n",
       "      <th>longitude</th>\n",
       "    </tr>\n",
       "  </thead>\n",
       "  <tbody>\n",
       "    <tr>\n",
       "      <th>placeID</th>\n",
       "      <td>1.000000</td>\n",
       "      <td>-0.378477</td>\n",
       "      <td>-0.257727</td>\n",
       "    </tr>\n",
       "    <tr>\n",
       "      <th>latitude</th>\n",
       "      <td>-0.378477</td>\n",
       "      <td>1.000000</td>\n",
       "      <td>-0.243800</td>\n",
       "    </tr>\n",
       "    <tr>\n",
       "      <th>longitude</th>\n",
       "      <td>-0.257727</td>\n",
       "      <td>-0.243800</td>\n",
       "      <td>1.000000</td>\n",
       "    </tr>\n",
       "  </tbody>\n",
       "</table>\n",
       "</div>"
      ],
      "text/plain": [
       "            placeID  latitude  longitude\n",
       "placeID    1.000000 -0.378477  -0.257727\n",
       "latitude  -0.378477  1.000000  -0.243800\n",
       "longitude -0.257727 -0.243800   1.000000"
      ]
     },
     "execution_count": 13,
     "metadata": {},
     "output_type": "execute_result"
    }
   ],
   "source": [
    "data.corr()"
   ]
  },
  {
   "cell_type": "code",
   "execution_count": 14,
   "metadata": {},
   "outputs": [
    {
     "data": {
      "image/png": "[encoded data removed]",
      "text/plain": [
       "<matplotlib.figure.Figure at 0x23758fc6c18>"
      ]
     },
     "metadata": {},
     "output_type": "display_data"
    }
   ],
   "source": [
    "from pandas.plotting import scatter_matrix \n",
    "scatter_matrix(data, alpha = .01, figsize = (10, 10)) \n",
    "pass"
   ]
  },
  {
   "cell_type": "code",
   "execution_count": 15,
   "metadata": {},
   "outputs": [
    {
     "data": {
      "image/png": "[encoded data removed]",
      "text/plain": [
       "<matplotlib.figure.Figure at 0x2375993bfd0>"
      ]
     },
     "metadata": {},
     "output_type": "display_data"
    }
   ],
   "source": [
    "plt.plot(data['latitude'], data['longitude'], 'o', alpha = 0.05)\n",
    "plt.xlabel('latitude')\n",
    "plt.ylabel('longitude')\n",
    "plt.title('latitude vs longitude')\n",
    "pass"
   ]
  },
  {
   "cell_type": "code",
   "execution_count": 16,
   "metadata": {},
   "outputs": [
    {
     "data": {
      "text/html": [
       "<div>\n",
       "<style>\n",
       "    .dataframe thead tr:only-child th {\n",
       "        text-align: right;\n",
       "    }\n",
       "\n",
       "    .dataframe thead th {\n",
       "        text-align: left;\n",
       "    }\n",
       "\n",
       "    .dataframe tbody tr th {\n",
       "        vertical-align: top;\n",
       "    }\n",
       "</style>\n",
       "<table border=\"1\" class=\"dataframe\">\n",
       "  <thead>\n",
       "    <tr style=\"text-align: right;\">\n",
       "      <th></th>\n",
       "      <th>the_geom_meter</th>\n",
       "      <th>name</th>\n",
       "      <th>address</th>\n",
       "      <th>city</th>\n",
       "      <th>state</th>\n",
       "      <th>country</th>\n",
       "      <th>fax</th>\n",
       "      <th>zip</th>\n",
       "      <th>alcohol</th>\n",
       "      <th>smoking_area</th>\n",
       "      <th>dress_code</th>\n",
       "      <th>accessibility</th>\n",
       "      <th>price</th>\n",
       "      <th>url</th>\n",
       "      <th>Rambience</th>\n",
       "      <th>franchise</th>\n",
       "      <th>area</th>\n",
       "      <th>other_services</th>\n",
       "    </tr>\n",
       "  </thead>\n",
       "  <tbody>\n",
       "    <tr>\n",
       "      <th>count</th>\n",
       "      <td>130</td>\n",
       "      <td>130</td>\n",
       "      <td>130</td>\n",
       "      <td>130</td>\n",
       "      <td>130</td>\n",
       "      <td>130</td>\n",
       "      <td>130</td>\n",
       "      <td>130</td>\n",
       "      <td>130</td>\n",
       "      <td>130</td>\n",
       "      <td>130</td>\n",
       "      <td>130</td>\n",
       "      <td>130</td>\n",
       "      <td>130</td>\n",
       "      <td>130</td>\n",
       "      <td>130</td>\n",
       "      <td>130</td>\n",
       "      <td>130</td>\n",
       "    </tr>\n",
       "    <tr>\n",
       "      <th>unique</th>\n",
       "      <td>130</td>\n",
       "      <td>129</td>\n",
       "      <td>100</td>\n",
       "      <td>17</td>\n",
       "      <td>13</td>\n",
       "      <td>3</td>\n",
       "      <td>1</td>\n",
       "      <td>35</td>\n",
       "      <td>3</td>\n",
       "      <td>5</td>\n",
       "      <td>3</td>\n",
       "      <td>3</td>\n",
       "      <td>3</td>\n",
       "      <td>14</td>\n",
       "      <td>2</td>\n",
       "      <td>2</td>\n",
       "      <td>2</td>\n",
       "      <td>3</td>\n",
       "    </tr>\n",
       "    <tr>\n",
       "      <th>top</th>\n",
       "      <td>0101000020957F000049095EB34A4858C15CB4BD1EE1AB...</td>\n",
       "      <td>Gorditas Dona Tota</td>\n",
       "      <td>?</td>\n",
       "      <td>San Luis Potosi</td>\n",
       "      <td>SLP</td>\n",
       "      <td>Mexico</td>\n",
       "      <td>?</td>\n",
       "      <td>?</td>\n",
       "      <td>No_Alcohol_Served</td>\n",
       "      <td>none</td>\n",
       "      <td>informal</td>\n",
       "      <td>no_accessibility</td>\n",
       "      <td>medium</td>\n",
       "      <td>?</td>\n",
       "      <td>familiar</td>\n",
       "      <td>f</td>\n",
       "      <td>closed</td>\n",
       "      <td>none</td>\n",
       "    </tr>\n",
       "    <tr>\n",
       "      <th>freq</th>\n",
       "      <td>1</td>\n",
       "      <td>2</td>\n",
       "      <td>27</td>\n",
       "      <td>64</td>\n",
       "      <td>50</td>\n",
       "      <td>89</td>\n",
       "      <td>130</td>\n",
       "      <td>74</td>\n",
       "      <td>87</td>\n",
       "      <td>70</td>\n",
       "      <td>118</td>\n",
       "      <td>76</td>\n",
       "      <td>60</td>\n",
       "      <td>116</td>\n",
       "      <td>121</td>\n",
       "      <td>108</td>\n",
       "      <td>115</td>\n",
       "      <td>119</td>\n",
       "    </tr>\n",
       "  </tbody>\n",
       "</table>\n",
       "</div>"
      ],
      "text/plain": [
       "                                           the_geom_meter                name  \\\n",
       "count                                                 130                 130   \n",
       "unique                                                130                 129   \n",
       "top     0101000020957F000049095EB34A4858C15CB4BD1EE1AB...  Gorditas Dona Tota   \n",
       "freq                                                    1                   2   \n",
       "\n",
       "       address             city state country  fax  zip            alcohol  \\\n",
       "count      130              130   130     130  130  130                130   \n",
       "unique     100               17    13       3    1   35                  3   \n",
       "top          ?  San Luis Potosi   SLP  Mexico    ?    ?  No_Alcohol_Served   \n",
       "freq        27               64    50      89  130   74                 87   \n",
       "\n",
       "       smoking_area dress_code     accessibility   price  url Rambience  \\\n",
       "count           130        130               130     130  130       130   \n",
       "unique            5          3                 3       3   14         2   \n",
       "top            none   informal  no_accessibility  medium    ?  familiar   \n",
       "freq             70        118                76      60  116       121   \n",
       "\n",
       "       franchise    area other_services  \n",
       "count        130     130            130  \n",
       "unique         2       2              3  \n",
       "top            f  closed           none  \n",
       "freq         108     115            119  "
      ]
     },
     "execution_count": 16,
     "metadata": {},
     "output_type": "execute_result"
    }
   ],
   "source": [
    "data.describe(include = ['object'])"
   ]
  },
  {
   "cell_type": "markdown",
   "metadata": {},
   "source": [
    "# Подготовка данных"
   ]
  },
  {
   "cell_type": "markdown",
   "metadata": {},
   "source": [
    "Для начала разделим все признаки на колличественные и категориальные."
   ]
  },
  {
   "cell_type": "code",
   "execution_count": 17,
   "metadata": {},
   "outputs": [
    {
     "name": "stdout",
     "output_type": "stream",
     "text": [
      "Categorical: \n",
      "['the_geom_meter', 'name', 'address', 'city', 'state', 'country', 'fax', 'zip', 'alcohol', 'smoking_area', 'dress_code', 'accessibility', 'price', 'url', 'Rambience', 'franchise', 'area', 'other_services']\n",
      "Numerical: \n",
      "['placeID', 'latitude', 'longitude']\n",
      "\n",
      "Size of table: (130, 21)\n"
     ]
    }
   ],
   "source": [
    "categorical_cols = [col for col in data.columns if data[col].dtype.name == \"object\"]\n",
    "numerical_cols = [col for col in data.columns if data[col].dtype.name != \"object\"]\n",
    "print(\"Categorical: \\n\" + str(categorical_cols))\n",
    "print(\"Numerical: \\n\" + str(numerical_cols))\n",
    "print(\"\\nSize of table: \" + str(data.shape))"
   ]
  },
  {
   "cell_type": "markdown",
   "metadata": {},
   "source": [
    "Так как каждый ресторан имеет свой уникальный ID, то можем удалить столбец с названиями."
   ]
  },
  {
   "cell_type": "code",
   "execution_count": 18,
   "metadata": {
    "collapsed": true
   },
   "outputs": [],
   "source": [
    "data = data.drop('name', axis=1)"
   ]
  },
  {
   "cell_type": "markdown",
   "metadata": {},
   "source": [
    "Будем предсказывать такой параметр как area, я интерпретировала его как тип помещения. Open - ресторан открытого типа (летняя верадна, есть возможность приема пищи на природе), closed - ресторан закрытого типа (никаких открытых площадок). Удалим столбец с параметром, который будем предстказывать."
   ]
  },
  {
   "cell_type": "code",
   "execution_count": 19,
   "metadata": {
    "collapsed": true
   },
   "outputs": [],
   "source": [
    "y = data['area']\n",
    "data = data.drop('area', axis=1)"
   ]
  },
  {
   "cell_type": "markdown",
   "metadata": {
    "collapsed": true
   },
   "source": [
    "Опять посмотрим на разделение по признакам."
   ]
  },
  {
   "cell_type": "code",
   "execution_count": 20,
   "metadata": {},
   "outputs": [
    {
     "name": "stdout",
     "output_type": "stream",
     "text": [
      "Categorical: \n",
      "['the_geom_meter', 'address', 'city', 'state', 'country', 'fax', 'zip', 'alcohol', 'smoking_area', 'dress_code', 'accessibility', 'price', 'url', 'Rambience', 'franchise', 'other_services']\n",
      "Numerical: \n",
      "['placeID', 'latitude', 'longitude']\n",
      "\n",
      "Size of table: (130, 19)\n"
     ]
    }
   ],
   "source": [
    "categorical_cols = [col for col in data.columns if data[col].dtype.name == \"object\"]\n",
    "numerical_cols = [col for col in data.columns if data[col].dtype.name != \"object\"]\n",
    "print(\"Categorical: \\n\" + str(categorical_cols))\n",
    "print(\"Numerical: \\n\" + str(numerical_cols))\n",
    "print(\"\\nSize of table: \" + str(data.shape))"
   ]
  },
  {
   "cell_type": "markdown",
   "metadata": {},
   "source": [
    "Стоит отметить, что в базе данных пропущенное значение обозначается как \"?\". Столбец fax полностью состоит из таких значений. убедимся в этом и удалим его за ненадобностью."
   ]
  },
  {
   "cell_type": "code",
   "execution_count": 21,
   "metadata": {},
   "outputs": [
    {
     "data": {
      "text/plain": [
       "0      True\n",
       "1      True\n",
       "2      True\n",
       "3      True\n",
       "4      True\n",
       "5      True\n",
       "6      True\n",
       "7      True\n",
       "8      True\n",
       "9      True\n",
       "10     True\n",
       "11     True\n",
       "12     True\n",
       "13     True\n",
       "14     True\n",
       "15     True\n",
       "16     True\n",
       "17     True\n",
       "18     True\n",
       "19     True\n",
       "20     True\n",
       "21     True\n",
       "22     True\n",
       "23     True\n",
       "24     True\n",
       "25     True\n",
       "26     True\n",
       "27     True\n",
       "28     True\n",
       "29     True\n",
       "       ... \n",
       "100    True\n",
       "101    True\n",
       "102    True\n",
       "103    True\n",
       "104    True\n",
       "105    True\n",
       "106    True\n",
       "107    True\n",
       "108    True\n",
       "109    True\n",
       "110    True\n",
       "111    True\n",
       "112    True\n",
       "113    True\n",
       "114    True\n",
       "115    True\n",
       "116    True\n",
       "117    True\n",
       "118    True\n",
       "119    True\n",
       "120    True\n",
       "121    True\n",
       "122    True\n",
       "123    True\n",
       "124    True\n",
       "125    True\n",
       "126    True\n",
       "127    True\n",
       "128    True\n",
       "129    True\n",
       "Name: fax, Length: 130, dtype: bool"
      ]
     },
     "execution_count": 21,
     "metadata": {},
     "output_type": "execute_result"
    }
   ],
   "source": [
    "data['fax'] == '?'"
   ]
  },
  {
   "cell_type": "code",
   "execution_count": 22,
   "metadata": {
    "collapsed": true
   },
   "outputs": [],
   "source": [
    "data = data.drop('fax', axis=1)"
   ]
  },
  {
   "cell_type": "markdown",
   "metadata": {},
   "source": [
    "Нужно проверить остальные столбцы. Если наиболее популярное значение - \"?\", столбец следует удалить, т.к. данных недостаточно."
   ]
  },
  {
   "cell_type": "code",
   "execution_count": 23,
   "metadata": {},
   "outputs": [
    {
     "data": {
      "text/plain": [
       "count     130\n",
       "unique     14\n",
       "top         ?\n",
       "freq      116\n",
       "Name: url, dtype: object"
      ]
     },
     "execution_count": 23,
     "metadata": {},
     "output_type": "execute_result"
    }
   ],
   "source": [
    "data['url'].describe()"
   ]
  },
  {
   "cell_type": "markdown",
   "metadata": {},
   "source": [
    "Столбец url следует удалить."
   ]
  },
  {
   "cell_type": "code",
   "execution_count": 24,
   "metadata": {
    "collapsed": true
   },
   "outputs": [],
   "source": [
    "data = data.drop('url', axis=1)"
   ]
  },
  {
   "cell_type": "code",
   "execution_count": 25,
   "metadata": {},
   "outputs": [
    {
     "data": {
      "text/plain": [
       "count     130\n",
       "unique     35\n",
       "top         ?\n",
       "freq       74\n",
       "Name: zip, dtype: object"
      ]
     },
     "execution_count": 25,
     "metadata": {},
     "output_type": "execute_result"
    }
   ],
   "source": [
    "data['zip'].describe()"
   ]
  },
  {
   "cell_type": "code",
   "execution_count": 26,
   "metadata": {
    "collapsed": true
   },
   "outputs": [],
   "source": [
    "data = data.drop('zip', axis=1)"
   ]
  },
  {
   "cell_type": "markdown",
   "metadata": {},
   "source": [
    "Уберем следующие параметры, для облегчения вычислений и т.к. логически данные параметры не влияют на предсказываемое значение."
   ]
  },
  {
   "cell_type": "code",
   "execution_count": 27,
   "metadata": {
    "collapsed": true
   },
   "outputs": [],
   "source": [
    "data = data.drop('latitude', axis=1)\n",
    "data = data.drop('longitude', axis=1)\n",
    "data = data.drop('the_geom_meter', axis=1)\n",
    "data = data.drop('address', axis=1)\n",
    "data = data.drop('city', axis=1)\n",
    "data = data.drop('state', axis=1)\n",
    "data = data.drop('country', axis=1)"
   ]
  },
  {
   "cell_type": "markdown",
   "metadata": {},
   "source": [
    "Посмотрим на разделение по численым и номинальным признакам вновь:"
   ]
  },
  {
   "cell_type": "code",
   "execution_count": 28,
   "metadata": {},
   "outputs": [
    {
     "name": "stdout",
     "output_type": "stream",
     "text": [
      "Categorical: \n",
      "['alcohol', 'smoking_area', 'dress_code', 'accessibility', 'price', 'Rambience', 'franchise', 'other_services']\n",
      "Numerical: \n",
      "['placeID']\n",
      "\n",
      "Size of table: (130, 9)\n"
     ]
    }
   ],
   "source": [
    "categorical_cols = [col for col in data.columns if data[col].dtype.name == \"object\"]\n",
    "numerical_cols = [col for col in data.columns if data[col].dtype.name != \"object\"]\n",
    "print(\"Categorical: \\n\" + str(categorical_cols))\n",
    "print(\"Numerical: \\n\" + str(numerical_cols))\n",
    "print(\"\\nSize of table: \" + str(data.shape))"
   ]
  },
  {
   "cell_type": "markdown",
   "metadata": {},
   "source": [
    "# Векторизация"
   ]
  },
  {
   "cell_type": "markdown",
   "metadata": {},
   "source": [
    "Поделим наши признаки на два типа: бинарные (принимают только 2 возможных значения) и небинарные."
   ]
  },
  {
   "cell_type": "code",
   "execution_count": 29,
   "metadata": {},
   "outputs": [
    {
     "name": "stdout",
     "output_type": "stream",
     "text": [
      "['Rambience', 'franchise'] ['alcohol', 'smoking_area', 'dress_code', 'accessibility', 'price', 'other_services']\n"
     ]
    }
   ],
   "source": [
    "data_describe = data.describe(include = [object])\n",
    "binary_columns = [c for c in categorical_cols if data_describe[c]['unique'] == 2]\n",
    "nonbinary_columns = [c for c in categorical_cols if data_describe[c]['unique'] > 2]\n",
    "print(binary_columns, nonbinary_columns)"
   ]
  },
  {
   "cell_type": "markdown",
   "metadata": {},
   "source": [
    "У нас оказалось 3 бинарных и 6 небинарных признаков. Поступим следующим образом: для бинарных признаков вместо категории будет использовать значение 0 или 1; для небинарных признаков - вместо его n значений введем n признаков со значениями 0 или 1, получится вектор, сумма элементов которого 1. "
   ]
  },
  {
   "cell_type": "code",
   "execution_count": 30,
   "metadata": {},
   "outputs": [
    {
     "data": {
      "text/plain": [
       "count     130\n",
       "unique      2\n",
       "top         0\n",
       "freq      108\n",
       "Name: franchise, dtype: int64"
      ]
     },
     "execution_count": 30,
     "metadata": {},
     "output_type": "execute_result"
    }
   ],
   "source": [
    "data.at[data['franchise']=='f', 'franchise'] = 0\n",
    "data.at[data['franchise']=='t', 'franchise'] = 1\n",
    "data['franchise'].describe()"
   ]
  },
  {
   "cell_type": "code",
   "execution_count": 31,
   "metadata": {},
   "outputs": [
    {
     "data": {
      "text/plain": [
       "count     130\n",
       "unique      2\n",
       "top         0\n",
       "freq      121\n",
       "Name: Rambience, dtype: int64"
      ]
     },
     "execution_count": 31,
     "metadata": {},
     "output_type": "execute_result"
    }
   ],
   "source": [
    "data.at[data['Rambience']=='familiar', 'Rambience'] = 0\n",
    "data.at[data['Rambience']=='quiet', 'Rambience'] = 1\n",
    "data['Rambience'].describe()"
   ]
  },
  {
   "cell_type": "markdown",
   "metadata": {},
   "source": [
    "К небинарным признакам применим метод векторизации. Для начала, рассмотрим столбец alcohol и определим, сколько в нем уникальных значений."
   ]
  },
  {
   "cell_type": "code",
   "execution_count": 32,
   "metadata": {},
   "outputs": [
    {
     "data": {
      "text/plain": [
       "array(['No_Alcohol_Served', 'Wine-Beer', 'Full_Bar'], dtype=object)"
      ]
     },
     "execution_count": 32,
     "metadata": {},
     "output_type": "execute_result"
    }
   ],
   "source": [
    "data['alcohol'].unique()"
   ]
  },
  {
   "cell_type": "markdown",
   "metadata": {},
   "source": [
    "Как можно заметить, всего 3 различных значений. Заменим признак alcohol на 3 новых признака."
   ]
  },
  {
   "cell_type": "code",
   "execution_count": 33,
   "metadata": {},
   "outputs": [
    {
     "name": "stdout",
     "output_type": "stream",
     "text": [
      "Index(['alcohol_Full_Bar', 'alcohol_No_Alcohol_Served', 'alcohol_Wine-Beer',\n",
      "       'smoking_area_none', 'smoking_area_not permitted',\n",
      "       'smoking_area_only at bar', 'smoking_area_permitted',\n",
      "       'smoking_area_section', 'dress_code_casual', 'dress_code_formal',\n",
      "       'dress_code_informal', 'accessibility_completely',\n",
      "       'accessibility_no_accessibility', 'accessibility_partially',\n",
      "       'price_high', 'price_low', 'price_medium', 'other_services_Internet',\n",
      "       'other_services_none', 'other_services_variety'],\n",
      "      dtype='object')\n"
     ]
    }
   ],
   "source": [
    "data_nonbinary = pd.get_dummies(data[nonbinary_columns])\n",
    "print(data_nonbinary.columns)"
   ]
  },
  {
   "cell_type": "markdown",
   "metadata": {},
   "source": [
    "Для красоты названия всех столбцов заменим пробелы на \"_\"."
   ]
  },
  {
   "cell_type": "code",
   "execution_count": 34,
   "metadata": {},
   "outputs": [
    {
     "name": "stdout",
     "output_type": "stream",
     "text": [
      "Index(['alcohol_Full_Bar', 'alcohol_No_Alcohol_Served', 'alcohol_Wine-Beer',\n",
      "       'smoking_area_none', 'smoking_area_not_permitted',\n",
      "       'smoking_area_only_at_bar', 'smoking_area_permitted',\n",
      "       'smoking_area_section', 'dress_code_casual', 'dress_code_formal',\n",
      "       'dress_code_informal', 'accessibility_completely',\n",
      "       'accessibility_no_accessibility', 'accessibility_partially',\n",
      "       'price_high', 'price_low', 'price_medium', 'other_services_Internet',\n",
      "       'other_services_none', 'other_services_variety'],\n",
      "      dtype='object')\n"
     ]
    }
   ],
   "source": [
    "data_nonbinary.columns = map(lambda col: col.replace(\" \", \"_\"), data_nonbinary.columns)\n",
    "print(data_nonbinary.columns)"
   ]
  },
  {
   "cell_type": "markdown",
   "metadata": {},
   "source": [
    "Далее проведем нормализацию."
   ]
  },
  {
   "cell_type": "code",
   "execution_count": 35,
   "metadata": {},
   "outputs": [
    {
     "data": {
      "text/html": [
       "<div>\n",
       "<style>\n",
       "    .dataframe thead tr:only-child th {\n",
       "        text-align: right;\n",
       "    }\n",
       "\n",
       "    .dataframe thead th {\n",
       "        text-align: left;\n",
       "    }\n",
       "\n",
       "    .dataframe tbody tr th {\n",
       "        vertical-align: top;\n",
       "    }\n",
       "</style>\n",
       "<table border=\"1\" class=\"dataframe\">\n",
       "  <thead>\n",
       "    <tr style=\"text-align: right;\">\n",
       "      <th></th>\n",
       "      <th>placeID</th>\n",
       "    </tr>\n",
       "  </thead>\n",
       "  <tbody>\n",
       "    <tr>\n",
       "      <th>count</th>\n",
       "      <td>130.000000</td>\n",
       "    </tr>\n",
       "    <tr>\n",
       "      <th>mean</th>\n",
       "      <td>134012.784615</td>\n",
       "    </tr>\n",
       "    <tr>\n",
       "      <th>std</th>\n",
       "      <td>1140.644582</td>\n",
       "    </tr>\n",
       "    <tr>\n",
       "      <th>min</th>\n",
       "      <td>132560.000000</td>\n",
       "    </tr>\n",
       "    <tr>\n",
       "      <th>25%</th>\n",
       "      <td>132831.000000</td>\n",
       "    </tr>\n",
       "    <tr>\n",
       "      <th>50%</th>\n",
       "      <td>134994.000000</td>\n",
       "    </tr>\n",
       "    <tr>\n",
       "      <th>75%</th>\n",
       "      <td>135050.750000</td>\n",
       "    </tr>\n",
       "    <tr>\n",
       "      <th>max</th>\n",
       "      <td>135109.000000</td>\n",
       "    </tr>\n",
       "  </tbody>\n",
       "</table>\n",
       "</div>"
      ],
      "text/plain": [
       "             placeID\n",
       "count     130.000000\n",
       "mean   134012.784615\n",
       "std      1140.644582\n",
       "min    132560.000000\n",
       "25%    132831.000000\n",
       "50%    134994.000000\n",
       "75%    135050.750000\n",
       "max    135109.000000"
      ]
     },
     "execution_count": 35,
     "metadata": {},
     "output_type": "execute_result"
    }
   ],
   "source": [
    "data_numerical = data[numerical_cols]\n",
    "data_numerical.describe()"
   ]
  },
  {
   "cell_type": "code",
   "execution_count": 36,
   "metadata": {
    "collapsed": true
   },
   "outputs": [],
   "source": [
    "data_numerical = (data_numerical - data_numerical.mean(axis = 0))/data_numerical.std(axis = 0)"
   ]
  },
  {
   "cell_type": "code",
   "execution_count": 37,
   "metadata": {},
   "outputs": [
    {
     "data": {
      "text/html": [
       "<div>\n",
       "<style>\n",
       "    .dataframe thead tr:only-child th {\n",
       "        text-align: right;\n",
       "    }\n",
       "\n",
       "    .dataframe thead th {\n",
       "        text-align: left;\n",
       "    }\n",
       "\n",
       "    .dataframe tbody tr th {\n",
       "        vertical-align: top;\n",
       "    }\n",
       "</style>\n",
       "<table border=\"1\" class=\"dataframe\">\n",
       "  <thead>\n",
       "    <tr style=\"text-align: right;\">\n",
       "      <th></th>\n",
       "      <th>placeID</th>\n",
       "    </tr>\n",
       "  </thead>\n",
       "  <tbody>\n",
       "    <tr>\n",
       "      <th>count</th>\n",
       "      <td>1.300000e+02</td>\n",
       "    </tr>\n",
       "    <tr>\n",
       "      <th>mean</th>\n",
       "      <td>-2.745667e-15</td>\n",
       "    </tr>\n",
       "    <tr>\n",
       "      <th>std</th>\n",
       "      <td>1.000000e+00</td>\n",
       "    </tr>\n",
       "    <tr>\n",
       "      <th>min</th>\n",
       "      <td>-1.273652e+00</td>\n",
       "    </tr>\n",
       "    <tr>\n",
       "      <th>25%</th>\n",
       "      <td>-1.036067e+00</td>\n",
       "    </tr>\n",
       "    <tr>\n",
       "      <th>50%</th>\n",
       "      <td>8.602289e-01</td>\n",
       "    </tr>\n",
       "    <tr>\n",
       "      <th>75%</th>\n",
       "      <td>9.099814e-01</td>\n",
       "    </tr>\n",
       "    <tr>\n",
       "      <th>max</th>\n",
       "      <td>9.610490e-01</td>\n",
       "    </tr>\n",
       "  </tbody>\n",
       "</table>\n",
       "</div>"
      ],
      "text/plain": [
       "            placeID\n",
       "count  1.300000e+02\n",
       "mean  -2.745667e-15\n",
       "std    1.000000e+00\n",
       "min   -1.273652e+00\n",
       "25%   -1.036067e+00\n",
       "50%    8.602289e-01\n",
       "75%    9.099814e-01\n",
       "max    9.610490e-01"
      ]
     },
     "execution_count": 37,
     "metadata": {},
     "output_type": "execute_result"
    }
   ],
   "source": [
    "data_numerical.describe()"
   ]
  },
  {
   "cell_type": "markdown",
   "metadata": {},
   "source": [
    "Соединим все в одну таблицу."
   ]
  },
  {
   "cell_type": "code",
   "execution_count": 38,
   "metadata": {},
   "outputs": [
    {
     "name": "stdout",
     "output_type": "stream",
     "text": [
      "(130, 23)\n"
     ]
    }
   ],
   "source": [
    "data = pd.concat((data_numerical, data_nonbinary, data[binary_columns]), axis = 1)\n",
    "print(data.shape)"
   ]
  },
  {
   "cell_type": "code",
   "execution_count": 39,
   "metadata": {},
   "outputs": [
    {
     "data": {
      "text/html": [
       "<div>\n",
       "<style>\n",
       "    .dataframe thead tr:only-child th {\n",
       "        text-align: right;\n",
       "    }\n",
       "\n",
       "    .dataframe thead th {\n",
       "        text-align: left;\n",
       "    }\n",
       "\n",
       "    .dataframe tbody tr th {\n",
       "        vertical-align: top;\n",
       "    }\n",
       "</style>\n",
       "<table border=\"1\" class=\"dataframe\">\n",
       "  <thead>\n",
       "    <tr style=\"text-align: right;\">\n",
       "      <th></th>\n",
       "      <th>placeID</th>\n",
       "      <th>alcohol_Full_Bar</th>\n",
       "      <th>alcohol_No_Alcohol_Served</th>\n",
       "      <th>alcohol_Wine-Beer</th>\n",
       "      <th>smoking_area_none</th>\n",
       "      <th>smoking_area_not_permitted</th>\n",
       "      <th>smoking_area_only_at_bar</th>\n",
       "      <th>smoking_area_permitted</th>\n",
       "      <th>smoking_area_section</th>\n",
       "      <th>dress_code_casual</th>\n",
       "      <th>...</th>\n",
       "      <th>dress_code_informal</th>\n",
       "      <th>accessibility_completely</th>\n",
       "      <th>accessibility_no_accessibility</th>\n",
       "      <th>accessibility_partially</th>\n",
       "      <th>price_high</th>\n",
       "      <th>price_low</th>\n",
       "      <th>price_medium</th>\n",
       "      <th>other_services_Internet</th>\n",
       "      <th>other_services_none</th>\n",
       "      <th>other_services_variety</th>\n",
       "    </tr>\n",
       "  </thead>\n",
       "  <tbody>\n",
       "    <tr>\n",
       "      <th>count</th>\n",
       "      <td>1.300000e+02</td>\n",
       "      <td>130.000000</td>\n",
       "      <td>130.000000</td>\n",
       "      <td>130.000000</td>\n",
       "      <td>130.000000</td>\n",
       "      <td>130.000000</td>\n",
       "      <td>130.000000</td>\n",
       "      <td>130.000000</td>\n",
       "      <td>130.000000</td>\n",
       "      <td>130.000000</td>\n",
       "      <td>...</td>\n",
       "      <td>130.000000</td>\n",
       "      <td>130.000000</td>\n",
       "      <td>130.000000</td>\n",
       "      <td>130.000000</td>\n",
       "      <td>130.000000</td>\n",
       "      <td>130.000000</td>\n",
       "      <td>130.000000</td>\n",
       "      <td>130.000000</td>\n",
       "      <td>130.000000</td>\n",
       "      <td>130.000000</td>\n",
       "    </tr>\n",
       "    <tr>\n",
       "      <th>mean</th>\n",
       "      <td>-2.745667e-15</td>\n",
       "      <td>0.069231</td>\n",
       "      <td>0.669231</td>\n",
       "      <td>0.261538</td>\n",
       "      <td>0.538462</td>\n",
       "      <td>0.192308</td>\n",
       "      <td>0.015385</td>\n",
       "      <td>0.069231</td>\n",
       "      <td>0.184615</td>\n",
       "      <td>0.076923</td>\n",
       "      <td>...</td>\n",
       "      <td>0.907692</td>\n",
       "      <td>0.346154</td>\n",
       "      <td>0.584615</td>\n",
       "      <td>0.069231</td>\n",
       "      <td>0.192308</td>\n",
       "      <td>0.346154</td>\n",
       "      <td>0.461538</td>\n",
       "      <td>0.030769</td>\n",
       "      <td>0.915385</td>\n",
       "      <td>0.053846</td>\n",
       "    </tr>\n",
       "    <tr>\n",
       "      <th>std</th>\n",
       "      <td>1.000000e+00</td>\n",
       "      <td>0.254828</td>\n",
       "      <td>0.472310</td>\n",
       "      <td>0.441173</td>\n",
       "      <td>0.500447</td>\n",
       "      <td>0.395638</td>\n",
       "      <td>0.123553</td>\n",
       "      <td>0.254828</td>\n",
       "      <td>0.389486</td>\n",
       "      <td>0.267500</td>\n",
       "      <td>...</td>\n",
       "      <td>0.290580</td>\n",
       "      <td>0.477583</td>\n",
       "      <td>0.494695</td>\n",
       "      <td>0.254828</td>\n",
       "      <td>0.395638</td>\n",
       "      <td>0.477583</td>\n",
       "      <td>0.500447</td>\n",
       "      <td>0.173360</td>\n",
       "      <td>0.279385</td>\n",
       "      <td>0.226587</td>\n",
       "    </tr>\n",
       "    <tr>\n",
       "      <th>min</th>\n",
       "      <td>-1.273652e+00</td>\n",
       "      <td>0.000000</td>\n",
       "      <td>0.000000</td>\n",
       "      <td>0.000000</td>\n",
       "      <td>0.000000</td>\n",
       "      <td>0.000000</td>\n",
       "      <td>0.000000</td>\n",
       "      <td>0.000000</td>\n",
       "      <td>0.000000</td>\n",
       "      <td>0.000000</td>\n",
       "      <td>...</td>\n",
       "      <td>0.000000</td>\n",
       "      <td>0.000000</td>\n",
       "      <td>0.000000</td>\n",
       "      <td>0.000000</td>\n",
       "      <td>0.000000</td>\n",
       "      <td>0.000000</td>\n",
       "      <td>0.000000</td>\n",
       "      <td>0.000000</td>\n",
       "      <td>0.000000</td>\n",
       "      <td>0.000000</td>\n",
       "    </tr>\n",
       "    <tr>\n",
       "      <th>25%</th>\n",
       "      <td>-1.036067e+00</td>\n",
       "      <td>0.000000</td>\n",
       "      <td>0.000000</td>\n",
       "      <td>0.000000</td>\n",
       "      <td>0.000000</td>\n",
       "      <td>0.000000</td>\n",
       "      <td>0.000000</td>\n",
       "      <td>0.000000</td>\n",
       "      <td>0.000000</td>\n",
       "      <td>0.000000</td>\n",
       "      <td>...</td>\n",
       "      <td>1.000000</td>\n",
       "      <td>0.000000</td>\n",
       "      <td>0.000000</td>\n",
       "      <td>0.000000</td>\n",
       "      <td>0.000000</td>\n",
       "      <td>0.000000</td>\n",
       "      <td>0.000000</td>\n",
       "      <td>0.000000</td>\n",
       "      <td>1.000000</td>\n",
       "      <td>0.000000</td>\n",
       "    </tr>\n",
       "    <tr>\n",
       "      <th>50%</th>\n",
       "      <td>8.602289e-01</td>\n",
       "      <td>0.000000</td>\n",
       "      <td>1.000000</td>\n",
       "      <td>0.000000</td>\n",
       "      <td>1.000000</td>\n",
       "      <td>0.000000</td>\n",
       "      <td>0.000000</td>\n",
       "      <td>0.000000</td>\n",
       "      <td>0.000000</td>\n",
       "      <td>0.000000</td>\n",
       "      <td>...</td>\n",
       "      <td>1.000000</td>\n",
       "      <td>0.000000</td>\n",
       "      <td>1.000000</td>\n",
       "      <td>0.000000</td>\n",
       "      <td>0.000000</td>\n",
       "      <td>0.000000</td>\n",
       "      <td>0.000000</td>\n",
       "      <td>0.000000</td>\n",
       "      <td>1.000000</td>\n",
       "      <td>0.000000</td>\n",
       "    </tr>\n",
       "    <tr>\n",
       "      <th>75%</th>\n",
       "      <td>9.099814e-01</td>\n",
       "      <td>0.000000</td>\n",
       "      <td>1.000000</td>\n",
       "      <td>1.000000</td>\n",
       "      <td>1.000000</td>\n",
       "      <td>0.000000</td>\n",
       "      <td>0.000000</td>\n",
       "      <td>0.000000</td>\n",
       "      <td>0.000000</td>\n",
       "      <td>0.000000</td>\n",
       "      <td>...</td>\n",
       "      <td>1.000000</td>\n",
       "      <td>1.000000</td>\n",
       "      <td>1.000000</td>\n",
       "      <td>0.000000</td>\n",
       "      <td>0.000000</td>\n",
       "      <td>1.000000</td>\n",
       "      <td>1.000000</td>\n",
       "      <td>0.000000</td>\n",
       "      <td>1.000000</td>\n",
       "      <td>0.000000</td>\n",
       "    </tr>\n",
       "    <tr>\n",
       "      <th>max</th>\n",
       "      <td>9.610490e-01</td>\n",
       "      <td>1.000000</td>\n",
       "      <td>1.000000</td>\n",
       "      <td>1.000000</td>\n",
       "      <td>1.000000</td>\n",
       "      <td>1.000000</td>\n",
       "      <td>1.000000</td>\n",
       "      <td>1.000000</td>\n",
       "      <td>1.000000</td>\n",
       "      <td>1.000000</td>\n",
       "      <td>...</td>\n",
       "      <td>1.000000</td>\n",
       "      <td>1.000000</td>\n",
       "      <td>1.000000</td>\n",
       "      <td>1.000000</td>\n",
       "      <td>1.000000</td>\n",
       "      <td>1.000000</td>\n",
       "      <td>1.000000</td>\n",
       "      <td>1.000000</td>\n",
       "      <td>1.000000</td>\n",
       "      <td>1.000000</td>\n",
       "    </tr>\n",
       "  </tbody>\n",
       "</table>\n",
       "<p>8 rows × 21 columns</p>\n",
       "</div>"
      ],
      "text/plain": [
       "            placeID  alcohol_Full_Bar  alcohol_No_Alcohol_Served  \\\n",
       "count  1.300000e+02        130.000000                 130.000000   \n",
       "mean  -2.745667e-15          0.069231                   0.669231   \n",
       "std    1.000000e+00          0.254828                   0.472310   \n",
       "min   -1.273652e+00          0.000000                   0.000000   \n",
       "25%   -1.036067e+00          0.000000                   0.000000   \n",
       "50%    8.602289e-01          0.000000                   1.000000   \n",
       "75%    9.099814e-01          0.000000                   1.000000   \n",
       "max    9.610490e-01          1.000000                   1.000000   \n",
       "\n",
       "       alcohol_Wine-Beer  smoking_area_none  smoking_area_not_permitted  \\\n",
       "count         130.000000         130.000000                  130.000000   \n",
       "mean            0.261538           0.538462                    0.192308   \n",
       "std             0.441173           0.500447                    0.395638   \n",
       "min             0.000000           0.000000                    0.000000   \n",
       "25%             0.000000           0.000000                    0.000000   \n",
       "50%             0.000000           1.000000                    0.000000   \n",
       "75%             1.000000           1.000000                    0.000000   \n",
       "max             1.000000           1.000000                    1.000000   \n",
       "\n",
       "       smoking_area_only_at_bar  smoking_area_permitted  smoking_area_section  \\\n",
       "count                130.000000              130.000000            130.000000   \n",
       "mean                   0.015385                0.069231              0.184615   \n",
       "std                    0.123553                0.254828              0.389486   \n",
       "min                    0.000000                0.000000              0.000000   \n",
       "25%                    0.000000                0.000000              0.000000   \n",
       "50%                    0.000000                0.000000              0.000000   \n",
       "75%                    0.000000                0.000000              0.000000   \n",
       "max                    1.000000                1.000000              1.000000   \n",
       "\n",
       "       dress_code_casual           ...            dress_code_informal  \\\n",
       "count         130.000000           ...                     130.000000   \n",
       "mean            0.076923           ...                       0.907692   \n",
       "std             0.267500           ...                       0.290580   \n",
       "min             0.000000           ...                       0.000000   \n",
       "25%             0.000000           ...                       1.000000   \n",
       "50%             0.000000           ...                       1.000000   \n",
       "75%             0.000000           ...                       1.000000   \n",
       "max             1.000000           ...                       1.000000   \n",
       "\n",
       "       accessibility_completely  accessibility_no_accessibility  \\\n",
       "count                130.000000                      130.000000   \n",
       "mean                   0.346154                        0.584615   \n",
       "std                    0.477583                        0.494695   \n",
       "min                    0.000000                        0.000000   \n",
       "25%                    0.000000                        0.000000   \n",
       "50%                    0.000000                        1.000000   \n",
       "75%                    1.000000                        1.000000   \n",
       "max                    1.000000                        1.000000   \n",
       "\n",
       "       accessibility_partially  price_high   price_low  price_medium  \\\n",
       "count               130.000000  130.000000  130.000000    130.000000   \n",
       "mean                  0.069231    0.192308    0.346154      0.461538   \n",
       "std                   0.254828    0.395638    0.477583      0.500447   \n",
       "min                   0.000000    0.000000    0.000000      0.000000   \n",
       "25%                   0.000000    0.000000    0.000000      0.000000   \n",
       "50%                   0.000000    0.000000    0.000000      0.000000   \n",
       "75%                   0.000000    0.000000    1.000000      1.000000   \n",
       "max                   1.000000    1.000000    1.000000      1.000000   \n",
       "\n",
       "       other_services_Internet  other_services_none  other_services_variety  \n",
       "count               130.000000           130.000000              130.000000  \n",
       "mean                  0.030769             0.915385                0.053846  \n",
       "std                   0.173360             0.279385                0.226587  \n",
       "min                   0.000000             0.000000                0.000000  \n",
       "25%                   0.000000             1.000000                0.000000  \n",
       "50%                   0.000000             1.000000                0.000000  \n",
       "75%                   0.000000             1.000000                0.000000  \n",
       "max                   1.000000             1.000000                1.000000  \n",
       "\n",
       "[8 rows x 21 columns]"
      ]
     },
     "execution_count": 39,
     "metadata": {},
     "output_type": "execute_result"
    }
   ],
   "source": [
    "data.describe()"
   ]
  },
  {
   "cell_type": "markdown",
   "metadata": {},
   "source": [
    "# Х и Y"
   ]
  },
  {
   "cell_type": "code",
   "execution_count": 40,
   "metadata": {
    "collapsed": true
   },
   "outputs": [],
   "source": [
    "X = data\n",
    "feature_names = X.columns"
   ]
  },
  {
   "cell_type": "code",
   "execution_count": 41,
   "metadata": {},
   "outputs": [
    {
     "data": {
      "text/plain": [
       "count        130\n",
       "unique         2\n",
       "top       closed\n",
       "freq         115\n",
       "Name: area, dtype: object"
      ]
     },
     "execution_count": 41,
     "metadata": {},
     "output_type": "execute_result"
    }
   ],
   "source": [
    "y.describe()"
   ]
  },
  {
   "cell_type": "code",
   "execution_count": 42,
   "metadata": {},
   "outputs": [
    {
     "data": {
      "text/plain": [
       "pandas.core.indexes.base.Index"
      ]
     },
     "execution_count": 42,
     "metadata": {},
     "output_type": "execute_result"
    }
   ],
   "source": [
    "type(feature_names)"
   ]
  },
  {
   "cell_type": "code",
   "execution_count": 43,
   "metadata": {},
   "outputs": [
    {
     "data": {
      "text/plain": [
       "Index(['placeID', 'alcohol_Full_Bar', 'alcohol_No_Alcohol_Served',\n",
       "       'alcohol_Wine-Beer', 'smoking_area_none', 'smoking_area_not_permitted',\n",
       "       'smoking_area_only_at_bar', 'smoking_area_permitted',\n",
       "       'smoking_area_section', 'dress_code_casual', 'dress_code_formal',\n",
       "       'dress_code_informal', 'accessibility_completely',\n",
       "       'accessibility_no_accessibility', 'accessibility_partially',\n",
       "       'price_high', 'price_low', 'price_medium', 'other_services_Internet',\n",
       "       'other_services_none', 'other_services_variety', 'Rambience',\n",
       "       'franchise'],\n",
       "      dtype='object')"
      ]
     },
     "execution_count": 43,
     "metadata": {},
     "output_type": "execute_result"
    }
   ],
   "source": [
    "feature_names"
   ]
  },
  {
   "cell_type": "code",
   "execution_count": 44,
   "metadata": {},
   "outputs": [
    {
     "name": "stdout",
     "output_type": "stream",
     "text": [
      "(130, 23)\n",
      "(130,)\n"
     ]
    }
   ],
   "source": [
    "print(X.shape)\n",
    "print(y.shape)\n",
    "N, d = X.shape"
   ]
  },
  {
   "cell_type": "code",
   "execution_count": 45,
   "metadata": {},
   "outputs": [
    {
     "data": {
      "text/plain": [
       "pandas.core.series.Series"
      ]
     },
     "execution_count": 45,
     "metadata": {},
     "output_type": "execute_result"
    }
   ],
   "source": [
    "type(y)"
   ]
  },
  {
   "cell_type": "code",
   "execution_count": 46,
   "metadata": {},
   "outputs": [
    {
     "name": "stdout",
     "output_type": "stream",
     "text": [
      "91 39\n"
     ]
    }
   ],
   "source": [
    "from sklearn.model_selection import train_test_split\n",
    "X_train, X_test, y_train, y_test = train_test_split(X, y, test_size = 0.3, random_state = 1)\n",
    "\n",
    "N_train, _ = X_train.shape \n",
    "N_test,  _ = X_test.shape \n",
    "\n",
    "print(N_train, N_test)"
   ]
  },
  {
   "cell_type": "markdown",
   "metadata": {},
   "source": [
    "# KNN"
   ]
  },
  {
   "cell_type": "code",
   "execution_count": 47,
   "metadata": {
    "collapsed": true
   },
   "outputs": [],
   "source": [
    "from sklearn.neighbors import KNeighborsClassifier"
   ]
  },
  {
   "cell_type": "code",
   "execution_count": 48,
   "metadata": {
    "collapsed": true
   },
   "outputs": [],
   "source": [
    "knn = KNeighborsClassifier(n_neighbors = 10)"
   ]
  },
  {
   "cell_type": "code",
   "execution_count": 49,
   "metadata": {},
   "outputs": [
    {
     "data": {
      "text/plain": [
       "KNeighborsClassifier(algorithm='auto', leaf_size=30, metric='minkowski',\n",
       "           metric_params=None, n_jobs=1, n_neighbors=10, p=2,\n",
       "           weights='uniform')"
      ]
     },
     "execution_count": 49,
     "metadata": {},
     "output_type": "execute_result"
    }
   ],
   "source": [
    "knn.fit(X_train, y_train)"
   ]
  },
  {
   "cell_type": "code",
   "execution_count": 50,
   "metadata": {},
   "outputs": [
    {
     "data": {
      "text/plain": [
       "KNeighborsClassifier(algorithm='auto', leaf_size=30, metric='minkowski',\n",
       "           metric_params=None, n_jobs=1, n_neighbors=10, p=2,\n",
       "           weights='uniform')"
      ]
     },
     "execution_count": 50,
     "metadata": {},
     "output_type": "execute_result"
    }
   ],
   "source": [
    "knn"
   ]
  },
  {
   "cell_type": "code",
   "execution_count": 51,
   "metadata": {},
   "outputs": [
    {
     "name": "stdout",
     "output_type": "stream",
     "text": [
      "0.0989010989011 0.0769230769231\n"
     ]
    }
   ],
   "source": [
    "y_train_predict = knn.predict(X_train)\n",
    "y_test_predict = knn.predict(X_test)\n",
    "\n",
    "err_train = np.mean(y_train != y_train_predict)\n",
    "err_test  = np.mean(y_test  != y_test_predict)\n",
    "\n",
    "print(err_train, err_test)"
   ]
  },
  {
   "cell_type": "markdown",
   "metadata": {},
   "source": [
    "Другой способ вычисления ошибки."
   ]
  },
  {
   "cell_type": "code",
   "execution_count": 52,
   "metadata": {
    "collapsed": true
   },
   "outputs": [],
   "source": [
    "err_test = 1 - knn.score(X_test, y_test)"
   ]
  },
  {
   "cell_type": "code",
   "execution_count": 53,
   "metadata": {},
   "outputs": [
    {
     "data": {
      "text/plain": [
       "0.076923076923076872"
      ]
     },
     "execution_count": 53,
     "metadata": {},
     "output_type": "execute_result"
    }
   ],
   "source": [
    "err_test"
   ]
  },
  {
   "cell_type": "code",
   "execution_count": 54,
   "metadata": {},
   "outputs": [
    {
     "name": "stdout",
     "output_type": "stream",
     "text": [
      "[[35  0]\n",
      " [ 3  1]]\n"
     ]
    }
   ],
   "source": [
    "from sklearn.metrics import confusion_matrix\n",
    "\n",
    "print(confusion_matrix(y_test, y_test_predict))"
   ]
  },
  {
   "cell_type": "markdown",
   "metadata": {},
   "source": [
    "Осуществим подбор параметра. Необходимо подобрать такой параметр k, чтобы ошибка была минимальной."
   ]
  },
  {
   "cell_type": "code",
   "execution_count": 55,
   "metadata": {},
   "outputs": [
    {
     "name": "stdout",
     "output_type": "stream",
     "text": [
      "0.10989010989 3\n"
     ]
    }
   ],
   "source": [
    "from sklearn.model_selection import GridSearchCV\n",
    "nnb = [1, 3, 5, 10, 15, 20, 25, 35, 45, 55]\n",
    "knn = KNeighborsClassifier()\n",
    "grid = GridSearchCV(knn, param_grid = {'n_neighbors': nnb}, cv=10)\n",
    "grid.fit(X_train, y_train)\n",
    "\n",
    "best_cv_err = 1 - grid.best_score_\n",
    "best_n_neighbors = grid.best_estimator_.n_neighbors\n",
    "print(best_cv_err, best_n_neighbors)"
   ]
  },
  {
   "cell_type": "markdown",
   "metadata": {},
   "source": [
    "Вычислим значение ошибки еще раз при подобранном значении."
   ]
  },
  {
   "cell_type": "code",
   "execution_count": 56,
   "metadata": {},
   "outputs": [
    {
     "name": "stdout",
     "output_type": "stream",
     "text": [
      "0.0659340659341 0.0769230769231\n"
     ]
    }
   ],
   "source": [
    "knn = KNeighborsClassifier(n_neighbors = best_n_neighbors).fit(X_train, y_train)\n",
    "\n",
    "err_train = np.mean(y_train != knn.predict(X_train))\n",
    "err_test  = np.mean(y_test  != knn.predict(X_test))\n",
    "\n",
    "print(err_train, err_test)"
   ]
  },
  {
   "cell_type": "markdown",
   "metadata": {},
   "source": [
    "Как можно заметить, вероятность ошибки предсказания уменьшилась еще на 0.01."
   ]
  },
  {
   "cell_type": "markdown",
   "metadata": {
    "collapsed": true
   },
   "source": [
    "# ДЗ №4"
   ]
  },
  {
   "cell_type": "code",
   "execution_count": 57,
   "metadata": {
    "collapsed": true
   },
   "outputs": [],
   "source": [
    "from sklearn.datasets import load_digits\n",
    "digits = load_digits()"
   ]
  },
  {
   "cell_type": "markdown",
   "metadata": {},
   "source": [
    "Будем вновь предсказывать параметр area.В Х уже записаны все столбцы, кроме area, а в у - только столбец area."
   ]
  },
  {
   "cell_type": "code",
   "execution_count": 58,
   "metadata": {},
   "outputs": [
    {
     "name": "stdout",
     "output_type": "stream",
     "text": [
      "(130, 23)\n",
      "(130,)\n"
     ]
    }
   ],
   "source": [
    "print(X.shape)\n",
    "print(y.shape)"
   ]
  },
  {
   "cell_type": "markdown",
   "metadata": {},
   "source": [
    "Разобьем данные на обучающую и тестовую выборки. Процент тестовой выборки - 33%."
   ]
  },
  {
   "cell_type": "code",
   "execution_count": 59,
   "metadata": {},
   "outputs": [
    {
     "name": "stdout",
     "output_type": "stream",
     "text": [
      "87 43\n"
     ]
    }
   ],
   "source": [
    "from sklearn.model_selection import train_test_split\n",
    "X_train, X_test, y_train, y_test = train_test_split(X, y, test_size = 0.33, random_state = 42)\n",
    "N_test, _ = X_test.shape\n",
    "N_train, _ = X_train.shape \n",
    "\n",
    "print(N_train, N_test)"
   ]
  },
  {
   "cell_type": "markdown",
   "metadata": {},
   "source": [
    "# Обучение классификатора"
   ]
  },
  {
   "cell_type": "code",
   "execution_count": 60,
   "metadata": {
    "collapsed": true
   },
   "outputs": [],
   "source": [
    "from sklearn.neural_network import MLPClassifier"
   ]
  },
  {
   "cell_type": "code",
   "execution_count": 61,
   "metadata": {},
   "outputs": [
    {
     "data": {
      "text/plain": [
       "MLPClassifier(activation='logistic', alpha=0.0001, batch_size='auto',\n",
       "       beta_1=0.9, beta_2=0.999, early_stopping=False, epsilon=1e-08,\n",
       "       hidden_layer_sizes=10, learning_rate='constant',\n",
       "       learning_rate_init=0.001, max_iter=200, momentum=0.9,\n",
       "       nesterovs_momentum=True, power_t=0.5, random_state=5, shuffle=True,\n",
       "       solver='lbfgs', tol=0.0001, validation_fraction=0.1, verbose=False,\n",
       "       warm_start=False)"
      ]
     },
     "execution_count": 61,
     "metadata": {},
     "output_type": "execute_result"
    }
   ],
   "source": [
    "mlp_model = MLPClassifier(hidden_layer_sizes = (10), solver = 'lbfgs', \n",
    "                          activation = 'logistic', random_state = 5)\n",
    "mlp_model.fit(X_train, y_train)"
   ]
  },
  {
   "cell_type": "markdown",
   "metadata": {},
   "source": [
    "Данная нейронная сеть имеет 1 скрытый слой с 10 нейронами."
   ]
  },
  {
   "cell_type": "code",
   "execution_count": 62,
   "metadata": {
    "collapsed": true
   },
   "outputs": [],
   "source": [
    "y_train_pred = mlp_model.predict(X_train)\n",
    "y_test_pred = mlp_model.predict(X_test)"
   ]
  },
  {
   "cell_type": "markdown",
   "metadata": {},
   "source": [
    "Проверим качество классификатора. Для этого выведем ошибки на обучающей и тестовой выборках."
   ]
  },
  {
   "cell_type": "code",
   "execution_count": 63,
   "metadata": {},
   "outputs": [
    {
     "name": "stdout",
     "output_type": "stream",
     "text": [
      "0.0 0.116279069767\n"
     ]
    }
   ],
   "source": [
    "print(np.mean(y_train != y_train_pred), np.mean(y_test != y_test_pred))"
   ]
  },
  {
   "cell_type": "code",
   "execution_count": 64,
   "metadata": {},
   "outputs": [
    {
     "name": "stdout",
     "output_type": "stream",
     "text": [
      "0.116279069767\n"
     ]
    }
   ],
   "source": [
    "print(1 - mlp_model.score(X_test, y_test))"
   ]
  },
  {
   "cell_type": "markdown",
   "metadata": {},
   "source": [
    "Теперь испытаем нейронную сеть с 2 скрытыми слоями. На каждом скрытом слое также 10 нейронов."
   ]
  },
  {
   "cell_type": "code",
   "execution_count": 65,
   "metadata": {},
   "outputs": [
    {
     "data": {
      "text/plain": [
       "MLPClassifier(activation='logistic', alpha=0.0001, batch_size='auto',\n",
       "       beta_1=0.9, beta_2=0.999, early_stopping=False, epsilon=1e-08,\n",
       "       hidden_layer_sizes=(10, 10), learning_rate='constant',\n",
       "       learning_rate_init=0.001, max_iter=200, momentum=0.9,\n",
       "       nesterovs_momentum=True, power_t=0.5, random_state=5, shuffle=True,\n",
       "       solver='lbfgs', tol=0.0001, validation_fraction=0.1, verbose=False,\n",
       "       warm_start=False)"
      ]
     },
     "execution_count": 65,
     "metadata": {},
     "output_type": "execute_result"
    }
   ],
   "source": [
    "mlp_model = MLPClassifier(hidden_layer_sizes = (10,10), solver = 'lbfgs', \n",
    "                          activation = 'logistic', random_state = 5)\n",
    "mlp_model.fit(X_train, y_train)"
   ]
  },
  {
   "cell_type": "code",
   "execution_count": 66,
   "metadata": {
    "collapsed": true
   },
   "outputs": [],
   "source": [
    "y_train_pred = mlp_model.predict(X_train)\n",
    "y_test_pred = mlp_model.predict(X_test)"
   ]
  },
  {
   "cell_type": "markdown",
   "metadata": {},
   "source": [
    "Вновь выведем ошибки."
   ]
  },
  {
   "cell_type": "code",
   "execution_count": 67,
   "metadata": {},
   "outputs": [
    {
     "name": "stdout",
     "output_type": "stream",
     "text": [
      "0.0114942528736 0.116279069767\n"
     ]
    }
   ],
   "source": [
    "print(np.mean(y_train != y_train_pred), np.mean(y_test != y_test_pred))"
   ]
  },
  {
   "cell_type": "code",
   "execution_count": 68,
   "metadata": {},
   "outputs": [
    {
     "name": "stdout",
     "output_type": "stream",
     "text": [
      "0.116279069767\n"
     ]
    }
   ],
   "source": [
    "print(1 - mlp_model.score(X_test, y_test))"
   ]
  },
  {
   "cell_type": "markdown",
   "metadata": {},
   "source": [
    "Как можно видеть, ошибка тренировочной выборки меньше при однослойной нейронной сети. Значит будем использовать однослойную нейронную сеть."
   ]
  },
  {
   "cell_type": "markdown",
   "metadata": {},
   "source": [
    "# Подбор гиперпараметров"
   ]
  },
  {
   "cell_type": "markdown",
   "metadata": {},
   "source": [
    "Подберем для начала оптимальное значение параметра регуляризации alpha. Будем использовать однослойную нейронную сеть, скрытый слов которой содержит 10 нейронов."
   ]
  },
  {
   "cell_type": "code",
   "execution_count": 69,
   "metadata": {
    "collapsed": true
   },
   "outputs": [],
   "source": [
    "alpha_arr = np.logspace(-5, 1.3, 30)\n",
    "test_err = []\n",
    "train_err = []\n",
    "for alpha in alpha_arr:\n",
    "    mlp_model = MLPClassifier(alpha = alpha, hidden_layer_sizes = (10), \n",
    "                              solver = 'lbfgs', activation = 'logistic', random_state = 5)\n",
    "    mlp_model.fit(X_train, y_train)\n",
    "\n",
    "    y_train_pred = mlp_model.predict(X_train)\n",
    "    y_test_pred = mlp_model.predict(X_test)\n",
    "    train_err.append(np.mean(y_train != y_train_pred))\n",
    "    test_err.append(np.mean(y_test != y_test_pred))"
   ]
  },
  {
   "cell_type": "markdown",
   "metadata": {},
   "source": [
    "Построим график зависимости ошибки от параметра alpha."
   ]
  },
  {
   "cell_type": "code",
   "execution_count": 70,
   "metadata": {},
   "outputs": [
    {
     "data": {
      "image/png": "[encoded data removed]",
      "text/plain": [
       "<matplotlib.figure.Figure at 0x2375b9ba5f8>"
      ]
     },
     "metadata": {},
     "output_type": "display_data"
    }
   ],
   "source": [
    "plt.figure(figsize = (16, 6))\n",
    "plt.semilogx(alpha_arr, train_err, 'b-o', label = 'test')\n",
    "plt.semilogx(alpha_arr, test_err, 'r-o', label = 'train')\n",
    "plt.xlim([np.max(alpha_arr), np.min(alpha_arr)])\n",
    "plt.title('Error vs. alpha')\n",
    "plt.xlabel('alpha')\n",
    "plt.ylabel('error')\n",
    "plt.legend()\n",
    "pass"
   ]
  },
  {
   "cell_type": "code",
   "execution_count": 71,
   "metadata": {},
   "outputs": [
    {
     "name": "stdout",
     "output_type": "stream",
     "text": [
      "[  1.00000000e-05   1.64907869e-05   2.71946052e-05   4.48460439e-05\n",
      "   7.39546553e-05   1.21957046e-04   2.01116766e-04   3.31657372e-04\n",
      "   5.46929104e-04   9.01929130e-04   1.48735211e-03   2.45276066e-03\n",
      "   4.04479534e-03   6.67018579e-03   1.09996612e-02   1.81393069e-02\n",
      "   2.99131445e-02   4.93291291e-02   8.13476156e-02   1.34148619e-01\n",
      "   2.21221629e-01   3.64811874e-01   6.01603487e-01   9.92091490e-01\n",
      "   1.63603693e+00   2.69795364e+00   4.44913785e+00   7.33697841e+00\n",
      "   1.20992547e+01   1.99526231e+01]\n"
     ]
    }
   ],
   "source": [
    "print(alpha_arr)"
   ]
  },
  {
   "cell_type": "markdown",
   "metadata": {},
   "source": [
    "Наблюдаем переобучение при значении alpha > 0.6 (ошибка на тестовой выборке больше, чем на обучающей)."
   ]
  },
  {
   "cell_type": "markdown",
   "metadata": {},
   "source": [
    "Минимальные значения ошибок."
   ]
  },
  {
   "cell_type": "code",
   "execution_count": 72,
   "metadata": {},
   "outputs": [
    {
     "name": "stdout",
     "output_type": "stream",
     "text": [
      "0.0 0.0232558139535\n"
     ]
    }
   ],
   "source": [
    "min_train_err = np.min(train_err)\n",
    "min_test_err = np.min(test_err)\n",
    "print(min_train_err, min_test_err)"
   ]
  },
  {
   "cell_type": "markdown",
   "metadata": {},
   "source": [
    "Найдем оптимальное значение alpha."
   ]
  },
  {
   "cell_type": "code",
   "execution_count": 73,
   "metadata": {},
   "outputs": [
    {
     "name": "stdout",
     "output_type": "stream",
     "text": [
      "[ 0.99209149]\n"
     ]
    }
   ],
   "source": [
    "alpha_opt = alpha_arr[test_err == min_test_err]\n",
    "print(alpha_opt)"
   ]
  },
  {
   "cell_type": "code",
   "execution_count": 74,
   "metadata": {
    "collapsed": true
   },
   "outputs": [],
   "source": [
    "alpha_opt = alpha_opt[0]"
   ]
  },
  {
   "cell_type": "markdown",
   "metadata": {},
   "source": [
    "# Классификатор при найденном оптимальном значении alpha"
   ]
  },
  {
   "cell_type": "markdown",
   "metadata": {},
   "source": [
    "Повторяем обучение."
   ]
  },
  {
   "cell_type": "code",
   "execution_count": 75,
   "metadata": {},
   "outputs": [
    {
     "name": "stdout",
     "output_type": "stream",
     "text": [
      "0.0804597701149\n",
      "0.0232558139535\n"
     ]
    }
   ],
   "source": [
    "mlp_model = MLPClassifier(alpha = alpha_opt, hidden_layer_sizes = (10),\n",
    "                          solver = 'lbfgs', activation = 'logistic', random_state = 5)\n",
    "mlp_model.fit(X_train, y_train)\n",
    "\n",
    "y_train_pred = mlp_model.predict(X_train)\n",
    "y_test_pred = mlp_model.predict(X_test)\n",
    "print(np.mean(y_train != y_train_pred))\n",
    "print(np.mean(y_test != y_test_pred))"
   ]
  },
  {
   "cell_type": "markdown",
   "metadata": {},
   "source": [
    "# Подбор оптимального количества нейронов"
   ]
  },
  {
   "cell_type": "code",
   "execution_count": 76,
   "metadata": {
    "collapsed": true
   },
   "outputs": [],
   "source": [
    "neurons_arr = np.arange(2, 20, 1)\n",
    "test_err = []\n",
    "train_err = []\n",
    "for neurons in neurons_arr:\n",
    "    mlp_model = MLPClassifier(hidden_layer_sizes = (neurons), \n",
    "                              solver = 'lbfgs', activation = 'logistic', random_state = 5)\n",
    "    mlp_model.fit(X_train, y_train)\n",
    "\n",
    "    y_train_pred = mlp_model.predict(X_train)\n",
    "    y_test_pred = mlp_model.predict(X_test)\n",
    "    train_err.append(np.mean(y_train != y_train_pred))\n",
    "    test_err.append(np.mean(y_test != y_test_pred))"
   ]
  },
  {
   "cell_type": "code",
   "execution_count": 77,
   "metadata": {},
   "outputs": [
    {
     "data": {
      "image/png": "[encoded data removed]",
      "text/plain": [
       "<matplotlib.figure.Figure at 0x2375baffdd8>"
      ]
     },
     "metadata": {},
     "output_type": "display_data"
    }
   ],
   "source": [
    "plt.figure(figsize = (16, 6))\n",
    "plt.plot(neurons_arr, train_err, 'b-o', label = 'test')\n",
    "plt.plot(neurons_arr, test_err, 'r-o', label = 'train')\n",
    "plt.xlim([np.max(neurons_arr), np.min(neurons_arr)])\n",
    "plt.title('Error vs. neurons count')\n",
    "plt.xlabel('neurons count')\n",
    "plt.ylabel('error')\n",
    "plt.legend()\n",
    "pass"
   ]
  },
  {
   "cell_type": "code",
   "execution_count": 78,
   "metadata": {},
   "outputs": [
    {
     "name": "stdout",
     "output_type": "stream",
     "text": [
      "0.0 0.046511627907\n"
     ]
    }
   ],
   "source": [
    "min_train_err = np.min(train_err)\n",
    "min_test_err = np.min(test_err)\n",
    "print(min_train_err, min_test_err)"
   ]
  },
  {
   "cell_type": "code",
   "execution_count": 79,
   "metadata": {},
   "outputs": [
    {
     "name": "stdout",
     "output_type": "stream",
     "text": [
      "[8]\n"
     ]
    }
   ],
   "source": [
    "neurons_opt = neurons_arr[test_err == min_test_err]\n",
    "print(neurons_opt)\n",
    "neurons_opt = neurons_opt[0]"
   ]
  },
  {
   "cell_type": "markdown",
   "metadata": {
    "collapsed": true
   },
   "source": [
    "# ДЗ №5"
   ]
  },
  {
   "cell_type": "markdown",
   "metadata": {},
   "source": [
    "# Random Forest"
   ]
  },
  {
   "cell_type": "markdown",
   "metadata": {},
   "source": [
    "Разобьем данные на обучающую и тестовую выборки. Процент тестовой выборки - 33%."
   ]
  },
  {
   "cell_type": "code",
   "execution_count": 86,
   "metadata": {
    "collapsed": true
   },
   "outputs": [],
   "source": [
    "X_train, X_test, y_train, y_test = train_test_split(X, y, test_size = 0.33, random_state = 5)"
   ]
  },
  {
   "cell_type": "code",
   "execution_count": 87,
   "metadata": {},
   "outputs": [
    {
     "data": {
      "text/plain": [
       "RandomForestClassifier(bootstrap=True, class_weight=None, criterion='gini',\n",
       "            max_depth=None, max_features='auto', max_leaf_nodes=None,\n",
       "            min_impurity_decrease=0.0, min_impurity_split=None,\n",
       "            min_samples_leaf=1, min_samples_split=2,\n",
       "            min_weight_fraction_leaf=0.0, n_estimators=100, n_jobs=1,\n",
       "            oob_score=False, random_state=None, verbose=0,\n",
       "            warm_start=False)"
      ]
     },
     "execution_count": 87,
     "metadata": {},
     "output_type": "execute_result"
    }
   ],
   "source": [
    "from sklearn import ensemble\n",
    "rf = ensemble.RandomForestClassifier(n_estimators = 100)\n",
    "rf.fit(X_train, y_train)"
   ]
  },
  {
   "cell_type": "markdown",
   "metadata": {},
   "source": [
    "Выведем обучающую и тестовую ошибки."
   ]
  },
  {
   "cell_type": "code",
   "execution_count": 88,
   "metadata": {},
   "outputs": [
    {
     "name": "stdout",
     "output_type": "stream",
     "text": [
      "0.0 0.0697674418605\n"
     ]
    }
   ],
   "source": [
    "print(np.mean(y_train != rf.predict(X_train)), np.mean(y_test  != rf.predict(X_test)))"
   ]
  },
  {
   "cell_type": "markdown",
   "metadata": {},
   "source": [
    "Ошибка на обучающей выборке меньше, чем на тестовой - наблюдаем переобучение."
   ]
  },
  {
   "cell_type": "markdown",
   "metadata": {},
   "source": [
    "Построим график зависимости ошибки на обучающей и тестовой выборках, а также out-of-bag (oob) ошибки от количества деревьев."
   ]
  },
  {
   "cell_type": "code",
   "execution_count": 89,
   "metadata": {},
   "outputs": [
    {
     "data": {
      "image/png": "[encoded data removed]",
      "text/plain": [
       "<matplotlib.figure.Figure at 0x237591cb0f0>"
      ]
     },
     "metadata": {},
     "output_type": "display_data"
    }
   ],
   "source": [
    "trees_num_arr = np.arange(20, 201, 5)\n",
    "train_err = []\n",
    "test_err = []\n",
    "oob_err = []\n",
    "for trees_num in trees_num_arr:\n",
    "    rf = ensemble.RandomForestClassifier(n_estimators = trees_num, oob_score = True)\n",
    "    rf.fit(X_train, y_train)\n",
    "\n",
    "    train_err.append(np.mean(y_train != rf.predict(X_train)))\n",
    "    test_err.append(np.mean(y_test  != rf.predict(X_test)))\n",
    "    oob_err.append(1 - rf.oob_score_)\n",
    "\n",
    "plt.figure(figsize = (16, 6))\n",
    "plt.plot(trees_num_arr, train_err, 'b-o', label = 'train')\n",
    "plt.plot(trees_num_arr, test_err, 'r-o', label = 'test')\n",
    "plt.plot(trees_num_arr, oob_err, 'g-o', label = 'oob')\n",
    "plt.xlim([np.max(trees_num_arr), np.min(trees_num_arr)])\n",
    "plt.title('Error vs. number of trees')\n",
    "plt.xlabel('trees')\n",
    "plt.ylabel('error')\n",
    "plt.legend()\n",
    "pass"
   ]
  },
  {
   "cell_type": "markdown",
   "metadata": {},
   "source": [
    "Можно наблюдать переобучение на всех значениях количества деревьев."
   ]
  },
  {
   "cell_type": "markdown",
   "metadata": {},
   "source": [
    "Выведем минимальное значение ошибок."
   ]
  },
  {
   "cell_type": "code",
   "execution_count": 90,
   "metadata": {},
   "outputs": [
    {
     "name": "stdout",
     "output_type": "stream",
     "text": [
      "0.0 0.046511627907\n"
     ]
    }
   ],
   "source": [
    "print(np.min(train_err), np.min(test_err))"
   ]
  },
  {
   "cell_type": "markdown",
   "metadata": {},
   "source": [
    "Оптимальное количество деревьев"
   ]
  },
  {
   "cell_type": "code",
   "execution_count": 91,
   "metadata": {},
   "outputs": [
    {
     "name": "stdout",
     "output_type": "stream",
     "text": [
      "40\n"
     ]
    }
   ],
   "source": [
    "print(trees_num_arr[test_err == np.min(test_err)][0])"
   ]
  },
  {
   "cell_type": "markdown",
   "metadata": {},
   "source": [
    "# Extremely Random Forest"
   ]
  },
  {
   "cell_type": "markdown",
   "metadata": {},
   "source": [
    "Разобьем данные на обучающую и тестовую выборки. Процент тестовой выборки - 33%."
   ]
  },
  {
   "cell_type": "code",
   "execution_count": 92,
   "metadata": {
    "collapsed": true
   },
   "outputs": [],
   "source": [
    "X_train, X_test, y_train, y_test = train_test_split(X, y, test_size = 0.33, random_state = 5)"
   ]
  },
  {
   "cell_type": "code",
   "execution_count": 93,
   "metadata": {},
   "outputs": [
    {
     "data": {
      "text/plain": [
       "ExtraTreesClassifier(bootstrap=False, class_weight=None, criterion='gini',\n",
       "           max_depth=None, max_features='auto', max_leaf_nodes=None,\n",
       "           min_impurity_decrease=0.0, min_impurity_split=None,\n",
       "           min_samples_leaf=1, min_samples_split=2,\n",
       "           min_weight_fraction_leaf=0.0, n_estimators=100, n_jobs=1,\n",
       "           oob_score=False, random_state=None, verbose=0, warm_start=False)"
      ]
     },
     "execution_count": 93,
     "metadata": {},
     "output_type": "execute_result"
    }
   ],
   "source": [
    "ert = ensemble.ExtraTreesClassifier(n_estimators = 100)\n",
    "ert.fit(X_train, y_train)"
   ]
  },
  {
   "cell_type": "markdown",
   "metadata": {},
   "source": [
    "Выведем обучающую и тестовую ошибки."
   ]
  },
  {
   "cell_type": "code",
   "execution_count": 94,
   "metadata": {},
   "outputs": [
    {
     "name": "stdout",
     "output_type": "stream",
     "text": [
      "0.0 0.093023255814\n"
     ]
    }
   ],
   "source": [
    "print(np.mean(y_train != ert.predict(X_train)), np.mean(y_test  != ert.predict(X_test)))"
   ]
  },
  {
   "cell_type": "markdown",
   "metadata": {},
   "source": [
    "Ошибка на обучающей выборке меньше, чем на тестовой - наблюдаем переобучение."
   ]
  },
  {
   "cell_type": "markdown",
   "metadata": {},
   "source": [
    "Построим график зависимости ошибки на обучающей и тестовой выборках, а также out-of-bag (oob) ошибки от количества деревьев."
   ]
  },
  {
   "cell_type": "code",
   "execution_count": 95,
   "metadata": {},
   "outputs": [
    {
     "data": {
      "image/png": "[encoded data removed]",
      "text/plain": [
       "<matplotlib.figure.Figure at 0x23759551400>"
      ]
     },
     "metadata": {},
     "output_type": "display_data"
    }
   ],
   "source": [
    "trees_num_arr = np.arange(20, 201, 5)\n",
    "train_err = []\n",
    "test_err = []\n",
    "oob_err = []\n",
    "for trees_num in trees_num_arr:\n",
    "    ert = ensemble.ExtraTreesClassifier(n_estimators = trees_num, bootstrap = True, oob_score = True)\n",
    "    ert.fit(X_train, y_train)\n",
    "\n",
    "    train_err.append(np.mean(y_train != ert.predict(X_train)))\n",
    "    test_err.append(np.mean(y_test  != ert.predict(X_test)))\n",
    "    oob_err.append(1 - ert.oob_score_)\n",
    "\n",
    "plt.figure(figsize = (16, 6))\n",
    "plt.plot(trees_num_arr, train_err, 'b-o', label = 'train')\n",
    "plt.plot(trees_num_arr, test_err, 'r-o', label = 'test')\n",
    "plt.plot(trees_num_arr, oob_err, 'g-o', label = 'oob')\n",
    "plt.xlim([np.max(trees_num_arr), np.min(trees_num_arr)])\n",
    "plt.title('Error vs. number of trees')\n",
    "plt.xlabel('trees')\n",
    "plt.ylabel('error')\n",
    "plt.legend()\n",
    "pass"
   ]
  },
  {
   "cell_type": "markdown",
   "metadata": {},
   "source": [
    "Можно наблюдать переобучение на всем множестве количества деревьев."
   ]
  },
  {
   "cell_type": "markdown",
   "metadata": {},
   "source": [
    "Выведем минимальное значение ошибок"
   ]
  },
  {
   "cell_type": "code",
   "execution_count": 96,
   "metadata": {},
   "outputs": [
    {
     "name": "stdout",
     "output_type": "stream",
     "text": [
      "0.0 0.046511627907\n"
     ]
    }
   ],
   "source": [
    "print(np.min(train_err), np.min(test_err))"
   ]
  },
  {
   "cell_type": "markdown",
   "metadata": {},
   "source": [
    "Оптимальное количество деревьев"
   ]
  },
  {
   "cell_type": "code",
   "execution_count": 97,
   "metadata": {},
   "outputs": [
    {
     "name": "stdout",
     "output_type": "stream",
     "text": [
      "90\n"
     ]
    }
   ],
   "source": [
    "print(trees_num_arr[test_err == np.min(test_err)][0])"
   ]
  },
  {
   "cell_type": "markdown",
   "metadata": {},
   "source": [
    "# AdaBoost"
   ]
  },
  {
   "cell_type": "markdown",
   "metadata": {},
   "source": [
    "Разобьем данные на обучающую и тестовую выборки. Процент тестовой выборки - 33%."
   ]
  },
  {
   "cell_type": "code",
   "execution_count": 98,
   "metadata": {
    "collapsed": true
   },
   "outputs": [],
   "source": [
    "X_train, X_test, y_train, y_test = train_test_split(X, y, test_size = 0.33, random_state = 5)"
   ]
  },
  {
   "cell_type": "code",
   "execution_count": 99,
   "metadata": {},
   "outputs": [
    {
     "data": {
      "text/plain": [
       "AdaBoostClassifier(algorithm='SAMME.R', base_estimator=None,\n",
       "          learning_rate=1.0, n_estimators=100, random_state=None)"
      ]
     },
     "execution_count": 99,
     "metadata": {},
     "output_type": "execute_result"
    }
   ],
   "source": [
    "ada = ensemble.AdaBoostClassifier(n_estimators = 100)\n",
    "ada.fit(X_train, y_train)"
   ]
  },
  {
   "cell_type": "markdown",
   "metadata": {},
   "source": [
    "Выведем обучающую и тестовую ошибки."
   ]
  },
  {
   "cell_type": "code",
   "execution_count": 100,
   "metadata": {},
   "outputs": [
    {
     "name": "stdout",
     "output_type": "stream",
     "text": [
      "0.0 0.0697674418605\n"
     ]
    }
   ],
   "source": [
    "print(np.mean(y_train != ada.predict(X_train)), np.mean(y_test  != ada.predict(X_test)))"
   ]
  },
  {
   "cell_type": "markdown",
   "metadata": {},
   "source": [
    "Ошибка на обучающей выборке меньше, чем на тестовой - наблюдаем переобучение."
   ]
  },
  {
   "cell_type": "markdown",
   "metadata": {},
   "source": [
    "Построим график зависимости ошибки на обучающей и тестовой выборках."
   ]
  },
  {
   "cell_type": "code",
   "execution_count": 101,
   "metadata": {},
   "outputs": [
    {
     "data": {
      "image/png": "[encoded data removed]",
      "text/plain": [
       "<matplotlib.figure.Figure at 0x23759350400>"
      ]
     },
     "metadata": {},
     "output_type": "display_data"
    }
   ],
   "source": [
    "est_num_arr = np.arange(20, 201, 5)\n",
    "train_err = []\n",
    "test_err = []\n",
    "for est_num in est_num_arr:\n",
    "    ada = ensemble.AdaBoostClassifier(n_estimators = est_num)\n",
    "    ada.fit(X_train, y_train)\n",
    "\n",
    "    train_err.append(np.mean(y_train != ada.predict(X_train)))\n",
    "    test_err.append(np.mean(y_test  != ada.predict(X_test)))\n",
    "\n",
    "plt.figure(figsize = (16, 6))\n",
    "plt.plot(est_num_arr, train_err, 'b-o', label = 'train')\n",
    "plt.plot(est_num_arr, test_err, 'r-o', label = 'test')\n",
    "plt.xlim([np.max(est_num_arr), np.min(est_num_arr)])\n",
    "plt.title('Error vs. number of estimators')\n",
    "plt.xlabel('estimators')\n",
    "plt.ylabel('error')\n",
    "plt.legend()\n",
    "pass"
   ]
  },
  {
   "cell_type": "code",
   "execution_count": 102,
   "metadata": {},
   "outputs": [
    {
     "name": "stdout",
     "output_type": "stream",
     "text": [
      "[ 20  25  30  35  40  45  50  55  60  65  70  75  80  85  90  95 100 105\n",
      " 110 115 120 125 130 135 140 145 150 155 160 165 170 175 180 185 190 195\n",
      " 200]\n"
     ]
    }
   ],
   "source": [
    "print(est_num_arr)"
   ]
  },
  {
   "cell_type": "markdown",
   "metadata": {},
   "source": [
    "Можно наблюдать переобучение не на всем множестве количества деревье, а при числе деревьев>27."
   ]
  },
  {
   "cell_type": "markdown",
   "metadata": {},
   "source": [
    "Выведем минимальное значение ошибок"
   ]
  },
  {
   "cell_type": "code",
   "execution_count": 103,
   "metadata": {},
   "outputs": [
    {
     "name": "stdout",
     "output_type": "stream",
     "text": [
      "0.0 0.0232558139535\n"
     ]
    }
   ],
   "source": [
    "print(np.min(train_err), np.min(test_err))"
   ]
  },
  {
   "cell_type": "markdown",
   "metadata": {},
   "source": [
    "Оптимальное количество деревьев"
   ]
  },
  {
   "cell_type": "code",
   "execution_count": 104,
   "metadata": {},
   "outputs": [
    {
     "name": "stdout",
     "output_type": "stream",
     "text": [
      "25\n"
     ]
    }
   ],
   "source": [
    "print(est_num_arr[test_err == np.min(test_err)][0])"
   ]
  },
  {
   "cell_type": "markdown",
   "metadata": {},
   "source": [
    "# Gradient Boosted Trees"
   ]
  },
  {
   "cell_type": "markdown",
   "metadata": {},
   "source": [
    "Разобьем данные на обучающую и тестовую выборки. Процент тестовой выборки - 33%."
   ]
  },
  {
   "cell_type": "code",
   "execution_count": 105,
   "metadata": {
    "collapsed": true
   },
   "outputs": [],
   "source": [
    "X_train, X_test, y_train, y_test = train_test_split(X, y, test_size = 0.33, random_state = 5)"
   ]
  },
  {
   "cell_type": "code",
   "execution_count": 106,
   "metadata": {},
   "outputs": [
    {
     "data": {
      "text/plain": [
       "GradientBoostingClassifier(criterion='friedman_mse', init=None,\n",
       "              learning_rate=0.1, loss='deviance', max_depth=3,\n",
       "              max_features=None, max_leaf_nodes=None,\n",
       "              min_impurity_decrease=0.0, min_impurity_split=None,\n",
       "              min_samples_leaf=1, min_samples_split=2,\n",
       "              min_weight_fraction_leaf=0.0, n_estimators=100,\n",
       "              presort='auto', random_state=None, subsample=1.0, verbose=0,\n",
       "              warm_start=False)"
      ]
     },
     "execution_count": 106,
     "metadata": {},
     "output_type": "execute_result"
    }
   ],
   "source": [
    "gbt = ensemble.GradientBoostingClassifier(n_estimators = 100)\n",
    "gbt.fit(X_train, y_train)"
   ]
  },
  {
   "cell_type": "markdown",
   "metadata": {},
   "source": [
    "Выведем обучающую и тестовую ошибки."
   ]
  },
  {
   "cell_type": "code",
   "execution_count": 107,
   "metadata": {},
   "outputs": [
    {
     "name": "stdout",
     "output_type": "stream",
     "text": [
      "0.0 0.0232558139535\n"
     ]
    }
   ],
   "source": [
    "print(np.mean(y_train != gbt.predict(X_train)), np.mean(y_test  != gbt.predict(X_test)))"
   ]
  },
  {
   "cell_type": "markdown",
   "metadata": {},
   "source": [
    "Ошибка на обучающей выборке меньше, чем на тестовой - наблюдаем переобучение."
   ]
  },
  {
   "cell_type": "markdown",
   "metadata": {},
   "source": [
    "Построим график зависимости ошибки на обучающей и тестовой выборках."
   ]
  },
  {
   "cell_type": "code",
   "execution_count": 108,
   "metadata": {},
   "outputs": [
    {
     "data": {
      "image/png": "[encoded data removed]",
      "text/plain": [
       "<matplotlib.figure.Figure at 0x2375bcf40f0>"
      ]
     },
     "metadata": {},
     "output_type": "display_data"
    }
   ],
   "source": [
    "trees_num_arr = np.arange(20, 201, 5)\n",
    "train_err = []\n",
    "test_err = []\n",
    "for trees_num in trees_num_arr:\n",
    "    gbt = ensemble.GradientBoostingClassifier(n_estimators = trees_num)\n",
    "    gbt.fit(X_train, y_train)\n",
    "\n",
    "    train_err.append(np.mean(y_train != gbt.predict(X_train)))\n",
    "    test_err.append(np.mean(y_test  != gbt.predict(X_test)))\n",
    "\n",
    "plt.figure(figsize = (16, 6))\n",
    "plt.plot(trees_num_arr, train_err, 'b-o', label = 'train')\n",
    "plt.plot(trees_num_arr, test_err, 'r-o', label = 'test')\n",
    "plt.xlim([np.max(trees_num_arr), np.min(trees_num_arr)])\n",
    "plt.title('Error vs. number of trees')\n",
    "plt.xlabel('trees')\n",
    "plt.ylabel('error')\n",
    "plt.legend()\n",
    "pass"
   ]
  },
  {
   "cell_type": "code",
   "execution_count": 109,
   "metadata": {},
   "outputs": [
    {
     "name": "stdout",
     "output_type": "stream",
     "text": [
      "[ 20  25  30  35  40  45  50  55  60  65  70  75  80  85  90  95 100 105\n",
      " 110 115 120 125 130 135 140 145 150 155 160 165 170 175 180 185 190 195\n",
      " 200]\n"
     ]
    }
   ],
   "source": [
    "print(trees_num_arr)"
   ]
  },
  {
   "cell_type": "markdown",
   "metadata": {},
   "source": [
    "Можно наблюдать переобучение не на всем множестве количества деревье, а при числе деревьев>27."
   ]
  },
  {
   "cell_type": "markdown",
   "metadata": {},
   "source": [
    "Выведем минимальное значение ошибок"
   ]
  },
  {
   "cell_type": "code",
   "execution_count": 110,
   "metadata": {},
   "outputs": [
    {
     "name": "stdout",
     "output_type": "stream",
     "text": [
      "0.0 0.0232558139535\n"
     ]
    }
   ],
   "source": [
    "print(np.min(train_err), np.min(test_err))"
   ]
  },
  {
   "cell_type": "markdown",
   "metadata": {},
   "source": [
    "Как можно отметить, в данном случае значение ошибки на тестовой выборке одинаково при любом числе деревьев."
   ]
  },
  {
   "cell_type": "markdown",
   "metadata": {
    "collapsed": true
   },
   "source": [
    "# ДЗ №7 "
   ]
  },
  {
   "cell_type": "markdown",
   "metadata": {},
   "source": [
    "# Principal Components Analysis"
   ]
  },
  {
   "cell_type": "markdown",
   "metadata": {},
   "source": [
    "С помощью метода главных компонент осуществим уменьшение размерности исходных данных и осуществим классификацию ресторанов по типу помещения: рестораны типа open - ресторан открытого типа (летняя верадна, есть возможность приема пищи на природе), closed - ресторан закрытого типа (никаких открытых площадок)."
   ]
  },
  {
   "cell_type": "markdown",
   "metadata": {},
   "source": [
    "Посмотрим размерность исходных данных."
   ]
  },
  {
   "cell_type": "code",
   "execution_count": 127,
   "metadata": {},
   "outputs": [
    {
     "data": {
      "text/plain": [
       "(130, 23)"
      ]
     },
     "execution_count": 127,
     "metadata": {},
     "output_type": "execute_result"
    }
   ],
   "source": [
    "X.shape"
   ]
  },
  {
   "cell_type": "markdown",
   "metadata": {},
   "source": [
    "Всего 23 столбца, уменьшим их количество до 15."
   ]
  },
  {
   "cell_type": "code",
   "execution_count": 128,
   "metadata": {},
   "outputs": [
    {
     "data": {
      "text/plain": [
       "(130, 15)"
      ]
     },
     "execution_count": 128,
     "metadata": {},
     "output_type": "execute_result"
    }
   ],
   "source": [
    "from sklearn.decomposition import PCA\n",
    "pca = PCA(n_components = 15)\n",
    "X_pca = pca.fit_transform(X)\n",
    "X_pca.shape"
   ]
  },
  {
   "cell_type": "markdown",
   "metadata": {},
   "source": [
    "Разделим данные на тестовую и обучающую выборки."
   ]
  },
  {
   "cell_type": "code",
   "execution_count": 129,
   "metadata": {
    "collapsed": true
   },
   "outputs": [],
   "source": [
    "X_train, X_test, y_train, y_test = train_test_split(X_pca, y, test_size = 0.33, random_state = 5)"
   ]
  },
  {
   "cell_type": "markdown",
   "metadata": {},
   "source": [
    "Решим задачу классификации ресторанов с помощью Extremely Random Forest на полученных после использования PCA данных. "
   ]
  },
  {
   "cell_type": "code",
   "execution_count": 130,
   "metadata": {},
   "outputs": [
    {
     "data": {
      "text/plain": [
       "ExtraTreesClassifier(bootstrap=False, class_weight=None, criterion='gini',\n",
       "           max_depth=None, max_features='auto', max_leaf_nodes=None,\n",
       "           min_impurity_decrease=0.0, min_impurity_split=None,\n",
       "           min_samples_leaf=1, min_samples_split=2,\n",
       "           min_weight_fraction_leaf=0.0, n_estimators=100, n_jobs=1,\n",
       "           oob_score=False, random_state=None, verbose=0, warm_start=False)"
      ]
     },
     "execution_count": 130,
     "metadata": {},
     "output_type": "execute_result"
    }
   ],
   "source": [
    "ert = ensemble.ExtraTreesClassifier(n_estimators = 100)\n",
    "ert.fit(X_train, y_train)"
   ]
  },
  {
   "cell_type": "markdown",
   "metadata": {},
   "source": [
    "Выведем обучающую и тестовую ошибки."
   ]
  },
  {
   "cell_type": "code",
   "execution_count": 131,
   "metadata": {},
   "outputs": [
    {
     "name": "stdout",
     "output_type": "stream",
     "text": [
      "0.0 0.116279069767\n"
     ]
    }
   ],
   "source": [
    "print(np.mean(y_train != ert.predict(X_train)), np.mean(y_test  != ert.predict(X_test)))"
   ]
  },
  {
   "cell_type": "markdown",
   "metadata": {},
   "source": [
    "Ошибка на обучающей выборке меньше, чем на тестовой - наблюдаем переобучение. \n",
    "После использования PCA ошибки на обчающей выборке совпадают, а на тестовой выборке - нет. До применения PCA тестовая ошибка имела значение 0.093023255814, после 0.116279069767. "
   ]
  },
  {
   "cell_type": "markdown",
   "metadata": {},
   "source": [
    "Построим график зависимости ошибки на тестовой и обучающей выборках от количества компонент в методе."
   ]
  },
  {
   "cell_type": "code",
   "execution_count": 132,
   "metadata": {},
   "outputs": [
    {
     "data": {
      "image/png": "[encoded data removed]",
      "text/plain": [
       "<matplotlib.figure.Figure at 0x23759a55978>"
      ]
     },
     "metadata": {},
     "output_type": "display_data"
    }
   ],
   "source": [
    "components_arr = np.arange(1, 22, 1)\n",
    "test_err = []\n",
    "train_err = []\n",
    "oob_err = []\n",
    "for components in components_arr:\n",
    "    pca = PCA(n_components = components)\n",
    "    X_pca = pca.fit_transform(X)\n",
    "    X_train, X_test, y_train, y_test = train_test_split(X_pca, y, test_size = 0.33, random_state = 5)\n",
    "\n",
    "    ert = ensemble.ExtraTreesClassifier(n_estimators = 155, bootstrap = True, oob_score = True)\n",
    "    ert.fit(X_train, y_train)\n",
    "    \n",
    "    train_err.append(np.mean(y_train != ert.predict(X_train)))\n",
    "    test_err.append(np.mean(y_test  != ert.predict(X_test)))\n",
    "    oob_err.append(1 - ert.oob_score_)\n",
    "\n",
    "plt.figure(figsize = (16, 6))\n",
    "plt.plot(components_arr, train_err, 'b-o', label = 'train')\n",
    "plt.plot(components_arr, test_err, 'r-o', label = 'test')\n",
    "plt.plot(components_arr, oob_err, 'g-o', label = 'oob')\n",
    "plt.xlim([np.min(components_arr), np.max(components_arr)])\n",
    "plt.title('Error vs. number of components')\n",
    "plt.xlabel('components')\n",
    "plt.ylabel('error')\n",
    "plt.legend()\n",
    "pass"
   ]
  },
  {
   "cell_type": "markdown",
   "metadata": {},
   "source": [
    "Можно наблюдать переобучение не на всем экспериментальном множестве количества компонент."
   ]
  },
  {
   "cell_type": "markdown",
   "metadata": {},
   "source": [
    "Выведем минимальное значение ошибок"
   ]
  },
  {
   "cell_type": "code",
   "execution_count": 133,
   "metadata": {},
   "outputs": [
    {
     "name": "stdout",
     "output_type": "stream",
     "text": [
      "0.0 0.046511627907\n"
     ]
    }
   ],
   "source": [
    "print(np.min(train_err), np.min(test_err))"
   ]
  },
  {
   "cell_type": "markdown",
   "metadata": {},
   "source": [
    "Оптимальное количество компонент"
   ]
  },
  {
   "cell_type": "code",
   "execution_count": 134,
   "metadata": {},
   "outputs": [
    {
     "name": "stdout",
     "output_type": "stream",
     "text": [
      "15\n"
     ]
    }
   ],
   "source": [
    "print(components_arr[test_err == np.min(test_err)][0])"
   ]
  },
  {
   "cell_type": "code",
   "execution_count": null,
   "metadata": {
    "collapsed": true
   },
   "outputs": [],
   "source": []
  }
 ],
 "metadata": {
  "kernelspec": {
   "display_name": "Python 3",
   "language": "python",
   "name": "python3"
  },
  "language_info": {
   "codemirror_mode": {
    "name": "ipython",
    "version": 3
   },
   "file_extension": ".py",
   "mimetype": "text/x-python",
   "name": "python",
   "nbconvert_exporter": "python",
   "pygments_lexer": "ipython3",
   "version": "3.6.2"
  }
 },
 "nbformat": 4,
 "nbformat_minor": 2
}
